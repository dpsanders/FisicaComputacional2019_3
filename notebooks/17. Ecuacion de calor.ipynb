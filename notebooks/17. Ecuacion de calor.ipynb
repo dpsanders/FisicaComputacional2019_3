{
 "cells": [
  {
   "cell_type": "markdown",
   "metadata": {},
   "source": [
    "# Ecuaciones parciales diferenciales de evolución"
   ]
  },
  {
   "cell_type": "markdown",
   "metadata": {},
   "source": [
    "Las ecuaciones diferenciales parciales (EDPs) constituyen un área de suma importancia en la física, ya que modelan sistemas que varían con respecto a varias variables *in*dependientes, por ejemplo, tanto el tiempo como el espacio.\n",
    "\n",
    "Del punto de vista numérico, se puede decir que el tipo de EDPs que es más sencillo conceptualmente son las llamadas **parabólicas**, es decir, **ecuaciones de evolución**, de las cuales la más conocida es la **ecuación de calor** o **ecuación de difusión**."
   ]
  },
  {
   "cell_type": "markdown",
   "metadata": {},
   "source": [
    "# La ecuación de calor"
   ]
  },
  {
   "cell_type": "markdown",
   "metadata": {},
   "source": [
    "La ecuación de calor modela el esparcimiento en el tiempo y en el espacio de un \"paquete\" de calor (perturbación local de temperatura en una región), o de concentración de una sustancia física o química, en cuyo caso se llama la **ecuación de difusión**. \n",
    "\n",
    "Llamemos $u(t, \\mathbf{x})$ la perturbación de la temperatura o la concentración de la sustancia en la posición $\\mathbf{x}$ al tiempo $t$. La ecuación de calor es\n",
    "\n",
    "$$\\frac{\\partial u(t, \\mathbf{x})}{\\partial t} = D \\, \\nabla^2 u(t, \\mathbf{x}).$$\n",
    "\n",
    "[Recordemos que $\\nabla^2 := \\frac{\\partial^2}{\\partial x^2} + \\frac{\\partial^2}{\\partial y^2} + \\frac{\\partial^2}{\\partial z^2}$ en tres dimensiones.]\n",
    "\n",
    "Esta ecuación nos dice cómo varía la concentración en el tiempo, dadas las condiciones locales en el espacio. Se deriva a partir una ley de conservación que dice que la concentración de sustancia no se destruye, ni se construye, sino sólo fluye en el espacio. Al imponer esto en una caja chiquita y tomar el límite cuando el tamaño de la caja tiende a cero, obtenemos que\n",
    "\n",
    "$$\\frac{\\partial u}{\\partial t} + \\nabla \\cdot \\mathbf{J} = 0.$$\n",
    "\n",
    "Además, podemos suponer (al menos, en una primera aproximación) que el flujo de calor o de concentración $\\mathbf{J}$ es proporcional a la gradiente local:\n",
    "\n",
    "$$\\mathbf{J} = -D \\, \\nabla u.$$\n",
    "\n",
    "Sustituyendo esta relación en la anterior, obtenemos la ecuación de calor.\n",
    "\n",
    "La ecuación de calor es una **ecuación de evolución**; es decir, describe cómo evoluciona el sistema en el tiempo (y en el espacio). Por lo tanto, su tratamiento se sigue de forma bastante directa de lo que hemos visto para EDOs."
   ]
  },
  {
   "cell_type": "markdown",
   "metadata": {},
   "source": [
    "## Una dimensión\n",
    "\n",
    "Empecemos con el caso más sencillo, con sólo una dimensión espacial. En este caso, la ecuación de calor se reduce a\n",
    "\n",
    "\n",
    "$$\\frac{\\partial u}{\\partial t} = D \\frac{\\partial^2 u}{\\partial x^2}.$$\n",
    "\n",
    "Nota que aquí, las derivadas $\\frac{\\partial u}{\\partial t}$ son ellas mismas *funciones del tiempo y de la posición*. De forma análoga a las EDOs, esta ecuación quiere decir que \n",
    "\n",
    "$$\\frac{\\partial u}{\\partial t}(t, x) = D \\frac{\\partial^2 u}{\\partial x^2}(t, x),$$\n",
    "\n",
    "para todas las $t \\in [t_0, t_f]$ y todas las $x$ en un rango dado (que puede ser infinito).\n",
    "\n",
    "Para resolver esta EDP, necesitaremos una condición inicial funcional, $u(t=0, x) = f(x)$ (una función del espacio), así como condiciones en la frontera $u(t, x)$ para todos los valores de $x$ que se encuentren en la frontera del dominio espacial, y para todo $t$."
   ]
  },
  {
   "cell_type": "markdown",
   "metadata": {},
   "source": [
    "# Métodos numéricos para la ecuación de calor"
   ]
  },
  {
   "cell_type": "markdown",
   "metadata": {},
   "source": [
    "Dado que, como siempre, no podemos resolver problemas de naturaleza continua en la computadora, debemos *aproximar* la solución $u(t, x)$ de alguna forma a través de una **discretización**. Hay distintas formas de llevar a cabo la discretización; aquí, escogeremos el más sencillo."
   ]
  },
  {
   "cell_type": "markdown",
   "metadata": {},
   "source": [
    "#### Ejercicio 1\n",
    "\n",
    "(i) Pensando en tu experiencia con las ecuaciones diferenciales ordinarias, ¿cómo se puede discretizar $u(t, x)$, utilizando un tamaño de paso $h$ en el tiempo y $k$ en el espacio? Toma el intervalo $[-L, L]$ como los valores posibles de $x$, así como tiempos en el rango $[t_0, t_f]$."
   ]
  },
  {
   "cell_type": "code",
   "execution_count": null,
   "metadata": {},
   "outputs": [],
   "source": []
  },
  {
   "cell_type": "markdown",
   "metadata": {},
   "source": [
    "Denotemos con $t_n$ el tiempo al paso número $n$, y con $u^n_i$ la aproximación de la solución en el nodo número $i$ en el espacio al tiempo $n$.\n",
    "\n",
    "(ii) ¿Cómo se puede discretizar la ecuación de calor unidimensional? "
   ]
  },
  {
   "cell_type": "code",
   "execution_count": null,
   "metadata": {},
   "outputs": [],
   "source": []
  },
  {
   "cell_type": "markdown",
   "metadata": {},
   "source": [
    "(iii) Reescribe la discretización para dar $u^{n+1}_i$ en términos de distintos $u^n_j$s al tiempo anterior."
   ]
  },
  {
   "cell_type": "code",
   "execution_count": null,
   "metadata": {},
   "outputs": [],
   "source": []
  },
  {
   "cell_type": "markdown",
   "metadata": {},
   "source": [
    "#### Ejercicio 2\n",
    "\n",
    "Considera la ecuación de calor en una dimensión sobre el intervalo de $x=-L$ a $x=L$, con condición inicial $u(t=0, x) = \\delta(x)$, donde $\\delta$ es la delta de Dirac, y condiciones de frontera absorbentes (de Dirichlet), es decir, $u(t, x=-L) = u(t, x=L) = 0$ para $t > 0$.\n",
    "\n",
    "(i) ¿Qué esperas intuitivamente que pase durante la evolución? ¿Qué pasará para tiempos largos?"
   ]
  },
  {
   "cell_type": "code",
   "execution_count": null,
   "metadata": {},
   "outputs": [],
   "source": []
  },
  {
   "cell_type": "markdown",
   "metadata": {},
   "source": [
    "(ii) Escribe la solución analítica exacta para $u(x, t)$ en el caso cuando $L = \\infty$ (es decir, cuando \"no hay fronteras\" y la difusión ocurre en toda la recta real). [No es necesario que *derives* la solución, sólo que la anotes.]"
   ]
  },
  {
   "cell_type": "code",
   "execution_count": null,
   "metadata": {},
   "outputs": [],
   "source": []
  },
  {
   "cell_type": "markdown",
   "metadata": {},
   "source": [
    "(iii) Dibuja la solución analítica como función del tiempo."
   ]
  },
  {
   "cell_type": "code",
   "execution_count": null,
   "metadata": {},
   "outputs": [],
   "source": []
  },
  {
   "cell_type": "markdown",
   "metadata": {},
   "source": [
    "#### Ejercicio 3\n",
    "\n",
    "(i) Para resolver la ecuación de calor en la computadora, debemos saber cómo discretizar la $\\delta$ de Dirac; recuerda que es es un bicho raro, ya que *no es una función*. [De hecho, la delta de Dirac es un ejemplo de lo que se llama una **distribución** o [**función generalizada**](https://en.wikipedia.org/wiki/Generalized_function).]\n",
    "\n",
    "Pensando que (la parte no-cero de) la delta de Dirac se localiza en una celda de la discretización con ancho $h$, ¿cómo podemos representar la condición inicial para que *tenga la misma área* que $\\delta(x)$? [Pista: ¿Cuál es el \"área\" debajo de la delta de Dirac? ¿Cómo podemos darle la misma área a nuestra condición inicial si consideramos que aproximamos la delta con una función constante en una caja?]"
   ]
  },
  {
   "cell_type": "code",
   "execution_count": 2,
   "metadata": {},
   "outputs": [
    {
     "data": {
      "text/plain": [
       "10"
      ]
     },
     "execution_count": 2,
     "metadata": {},
     "output_type": "execute_result"
    }
   ],
   "source": [
    "L = 5\n",
    "T = 10"
   ]
  },
  {
   "cell_type": "code",
   "execution_count": 3,
   "metadata": {},
   "outputs": [
    {
     "data": {
      "text/plain": [
       "0.001"
      ]
     },
     "execution_count": 3,
     "metadata": {},
     "output_type": "execute_result"
    }
   ],
   "source": [
    "k = 0.1 \n",
    "h = 0.001 "
   ]
  },
  {
   "cell_type": "code",
   "execution_count": 5,
   "metadata": {},
   "outputs": [
    {
     "data": {
      "text/plain": [
       "0.0:0.001:10.0"
      ]
     },
     "execution_count": 5,
     "metadata": {},
     "output_type": "execute_result"
    }
   ],
   "source": [
    "xs = -L:k:L \n",
    "ts = 0:h:T"
   ]
  },
  {
   "cell_type": "code",
   "execution_count": 13,
   "metadata": {},
   "outputs": [
    {
     "name": "stderr",
     "output_type": "stream",
     "text": [
      "┌ Info: Recompiling stale cache file /Users/dpsanders/.julia/compiled/v1.0/Plots/ld3vC.ji for Plots [91a5bcdd-55d7-5caf-9e0b-520d859cae80]\n",
      "└ @ Base loading.jl:1190\n"
     ]
    }
   ],
   "source": [
    "using Plots"
   ]
  },
  {
   "cell_type": "code",
   "execution_count": 14,
   "metadata": {},
   "outputs": [
    {
     "data": {
      "image/svg+xml": [
       "<?xml version=\"1.0\" encoding=\"utf-8\"?>\n",
       "<svg xmlns=\"http://www.w3.org/2000/svg\" xmlns:xlink=\"http://www.w3.org/1999/xlink\" width=\"600\" height=\"400\" viewBox=\"0 0 2400 1600\">\n",
       "<defs>\n",
       "  <clipPath id=\"clip5300\">\n",
       "    <rect x=\"0\" y=\"0\" width=\"2000\" height=\"2000\"/>\n",
       "  </clipPath>\n",
       "</defs>\n",
       "<defs>\n",
       "  <clipPath id=\"clip5301\">\n",
       "    <rect x=\"0\" y=\"0\" width=\"2400\" height=\"1600\"/>\n",
       "  </clipPath>\n",
       "</defs>\n",
       "<polygon clip-path=\"url(#clip5301)\" points=\"\n",
       "0,1600 2400,1600 2400,0 0,0 \n",
       "  \" fill=\"#ffffff\" fill-rule=\"evenodd\" fill-opacity=\"1\"/>\n",
       "<defs>\n",
       "  <clipPath id=\"clip5302\">\n",
       "    <rect x=\"480\" y=\"0\" width=\"1681\" height=\"1600\"/>\n",
       "  </clipPath>\n",
       "</defs>\n",
       "<polygon clip-path=\"url(#clip5301)\" points=\"\n",
       "188.156,1503.47 2321.26,1503.47 2321.26,47.2441 188.156,47.2441 \n",
       "  \" fill=\"#ffffff\" fill-rule=\"evenodd\" fill-opacity=\"1\"/>\n",
       "<defs>\n",
       "  <clipPath id=\"clip5303\">\n",
       "    <rect x=\"188\" y=\"47\" width=\"2134\" height=\"1457\"/>\n",
       "  </clipPath>\n",
       "</defs>\n",
       "<polyline clip-path=\"url(#clip5303)\" style=\"stroke:#000000; stroke-width:2; stroke-opacity:0.1; fill:none\" points=\"\n",
       "  449.763,1503.47 449.763,47.2441 \n",
       "  \"/>\n",
       "<polyline clip-path=\"url(#clip5303)\" style=\"stroke:#000000; stroke-width:2; stroke-opacity:0.1; fill:none\" points=\"\n",
       "  852.236,1503.47 852.236,47.2441 \n",
       "  \"/>\n",
       "<polyline clip-path=\"url(#clip5303)\" style=\"stroke:#000000; stroke-width:2; stroke-opacity:0.1; fill:none\" points=\"\n",
       "  1254.71,1503.47 1254.71,47.2441 \n",
       "  \"/>\n",
       "<polyline clip-path=\"url(#clip5303)\" style=\"stroke:#000000; stroke-width:2; stroke-opacity:0.1; fill:none\" points=\"\n",
       "  1657.18,1503.47 1657.18,47.2441 \n",
       "  \"/>\n",
       "<polyline clip-path=\"url(#clip5303)\" style=\"stroke:#000000; stroke-width:2; stroke-opacity:0.1; fill:none\" points=\"\n",
       "  2059.65,1503.47 2059.65,47.2441 \n",
       "  \"/>\n",
       "<polyline clip-path=\"url(#clip5303)\" style=\"stroke:#000000; stroke-width:2; stroke-opacity:0.1; fill:none\" points=\"\n",
       "  188.156,1462.26 2321.26,1462.26 \n",
       "  \"/>\n",
       "<polyline clip-path=\"url(#clip5303)\" style=\"stroke:#000000; stroke-width:2; stroke-opacity:0.1; fill:none\" points=\"\n",
       "  188.156,1118.81 2321.26,1118.81 \n",
       "  \"/>\n",
       "<polyline clip-path=\"url(#clip5303)\" style=\"stroke:#000000; stroke-width:2; stroke-opacity:0.1; fill:none\" points=\"\n",
       "  188.156,775.359 2321.26,775.359 \n",
       "  \"/>\n",
       "<polyline clip-path=\"url(#clip5303)\" style=\"stroke:#000000; stroke-width:2; stroke-opacity:0.1; fill:none\" points=\"\n",
       "  188.156,431.909 2321.26,431.909 \n",
       "  \"/>\n",
       "<polyline clip-path=\"url(#clip5303)\" style=\"stroke:#000000; stroke-width:2; stroke-opacity:0.1; fill:none\" points=\"\n",
       "  188.156,88.4582 2321.26,88.4582 \n",
       "  \"/>\n",
       "<polyline clip-path=\"url(#clip5301)\" style=\"stroke:#000000; stroke-width:4; stroke-opacity:1; fill:none\" points=\"\n",
       "  188.156,1503.47 2321.26,1503.47 \n",
       "  \"/>\n",
       "<polyline clip-path=\"url(#clip5301)\" style=\"stroke:#000000; stroke-width:4; stroke-opacity:1; fill:none\" points=\"\n",
       "  188.156,1503.47 188.156,47.2441 \n",
       "  \"/>\n",
       "<polyline clip-path=\"url(#clip5301)\" style=\"stroke:#000000; stroke-width:4; stroke-opacity:1; fill:none\" points=\"\n",
       "  449.763,1503.47 449.763,1481.63 \n",
       "  \"/>\n",
       "<polyline clip-path=\"url(#clip5301)\" style=\"stroke:#000000; stroke-width:4; stroke-opacity:1; fill:none\" points=\"\n",
       "  852.236,1503.47 852.236,1481.63 \n",
       "  \"/>\n",
       "<polyline clip-path=\"url(#clip5301)\" style=\"stroke:#000000; stroke-width:4; stroke-opacity:1; fill:none\" points=\"\n",
       "  1254.71,1503.47 1254.71,1481.63 \n",
       "  \"/>\n",
       "<polyline clip-path=\"url(#clip5301)\" style=\"stroke:#000000; stroke-width:4; stroke-opacity:1; fill:none\" points=\"\n",
       "  1657.18,1503.47 1657.18,1481.63 \n",
       "  \"/>\n",
       "<polyline clip-path=\"url(#clip5301)\" style=\"stroke:#000000; stroke-width:4; stroke-opacity:1; fill:none\" points=\"\n",
       "  2059.65,1503.47 2059.65,1481.63 \n",
       "  \"/>\n",
       "<polyline clip-path=\"url(#clip5301)\" style=\"stroke:#000000; stroke-width:4; stroke-opacity:1; fill:none\" points=\"\n",
       "  188.156,1462.26 220.153,1462.26 \n",
       "  \"/>\n",
       "<polyline clip-path=\"url(#clip5301)\" style=\"stroke:#000000; stroke-width:4; stroke-opacity:1; fill:none\" points=\"\n",
       "  188.156,1118.81 220.153,1118.81 \n",
       "  \"/>\n",
       "<polyline clip-path=\"url(#clip5301)\" style=\"stroke:#000000; stroke-width:4; stroke-opacity:1; fill:none\" points=\"\n",
       "  188.156,775.359 220.153,775.359 \n",
       "  \"/>\n",
       "<polyline clip-path=\"url(#clip5301)\" style=\"stroke:#000000; stroke-width:4; stroke-opacity:1; fill:none\" points=\"\n",
       "  188.156,431.909 220.153,431.909 \n",
       "  \"/>\n",
       "<polyline clip-path=\"url(#clip5301)\" style=\"stroke:#000000; stroke-width:4; stroke-opacity:1; fill:none\" points=\"\n",
       "  188.156,88.4582 220.153,88.4582 \n",
       "  \"/>\n",
       "<g clip-path=\"url(#clip5301)\">\n",
       "<text style=\"fill:#000000; fill-opacity:1; font-family:Arial,Helvetica Neue,Helvetica,sans-serif; font-size:48px; text-anchor:middle;\" transform=\"rotate(0, 449.763, 1557.47)\" x=\"449.763\" y=\"1557.47\">-4</text>\n",
       "</g>\n",
       "<g clip-path=\"url(#clip5301)\">\n",
       "<text style=\"fill:#000000; fill-opacity:1; font-family:Arial,Helvetica Neue,Helvetica,sans-serif; font-size:48px; text-anchor:middle;\" transform=\"rotate(0, 852.236, 1557.47)\" x=\"852.236\" y=\"1557.47\">-2</text>\n",
       "</g>\n",
       "<g clip-path=\"url(#clip5301)\">\n",
       "<text style=\"fill:#000000; fill-opacity:1; font-family:Arial,Helvetica Neue,Helvetica,sans-serif; font-size:48px; text-anchor:middle;\" transform=\"rotate(0, 1254.71, 1557.47)\" x=\"1254.71\" y=\"1557.47\">0</text>\n",
       "</g>\n",
       "<g clip-path=\"url(#clip5301)\">\n",
       "<text style=\"fill:#000000; fill-opacity:1; font-family:Arial,Helvetica Neue,Helvetica,sans-serif; font-size:48px; text-anchor:middle;\" transform=\"rotate(0, 1657.18, 1557.47)\" x=\"1657.18\" y=\"1557.47\">2</text>\n",
       "</g>\n",
       "<g clip-path=\"url(#clip5301)\">\n",
       "<text style=\"fill:#000000; fill-opacity:1; font-family:Arial,Helvetica Neue,Helvetica,sans-serif; font-size:48px; text-anchor:middle;\" transform=\"rotate(0, 2059.65, 1557.47)\" x=\"2059.65\" y=\"1557.47\">4</text>\n",
       "</g>\n",
       "<g clip-path=\"url(#clip5301)\">\n",
       "<text style=\"fill:#000000; fill-opacity:1; font-family:Arial,Helvetica Neue,Helvetica,sans-serif; font-size:48px; text-anchor:end;\" transform=\"rotate(0, 164.156, 1479.76)\" x=\"164.156\" y=\"1479.76\">0.0</text>\n",
       "</g>\n",
       "<g clip-path=\"url(#clip5301)\">\n",
       "<text style=\"fill:#000000; fill-opacity:1; font-family:Arial,Helvetica Neue,Helvetica,sans-serif; font-size:48px; text-anchor:end;\" transform=\"rotate(0, 164.156, 1136.31)\" x=\"164.156\" y=\"1136.31\">2.5</text>\n",
       "</g>\n",
       "<g clip-path=\"url(#clip5301)\">\n",
       "<text style=\"fill:#000000; fill-opacity:1; font-family:Arial,Helvetica Neue,Helvetica,sans-serif; font-size:48px; text-anchor:end;\" transform=\"rotate(0, 164.156, 792.859)\" x=\"164.156\" y=\"792.859\">5.0</text>\n",
       "</g>\n",
       "<g clip-path=\"url(#clip5301)\">\n",
       "<text style=\"fill:#000000; fill-opacity:1; font-family:Arial,Helvetica Neue,Helvetica,sans-serif; font-size:48px; text-anchor:end;\" transform=\"rotate(0, 164.156, 449.409)\" x=\"164.156\" y=\"449.409\">7.5</text>\n",
       "</g>\n",
       "<g clip-path=\"url(#clip5301)\">\n",
       "<text style=\"fill:#000000; fill-opacity:1; font-family:Arial,Helvetica Neue,Helvetica,sans-serif; font-size:48px; text-anchor:end;\" transform=\"rotate(0, 164.156, 105.958)\" x=\"164.156\" y=\"105.958\">10.0</text>\n",
       "</g>\n",
       "<polyline clip-path=\"url(#clip5303)\" style=\"stroke:#009af9; stroke-width:4; stroke-opacity:1; fill:none\" points=\"\n",
       "  248.527,1462.26 268.651,1462.26 288.774,1462.26 308.898,1462.26 329.022,1462.26 349.145,1462.26 369.269,1462.26 389.393,1462.26 409.516,1462.26 429.64,1462.26 \n",
       "  449.763,1462.26 469.887,1462.26 490.011,1462.26 510.134,1462.26 530.258,1462.26 550.381,1462.26 570.505,1462.26 590.629,1462.26 610.752,1462.26 630.876,1462.26 \n",
       "  651,1462.26 671.123,1462.26 691.247,1462.26 711.37,1462.26 731.494,1462.26 751.618,1462.26 771.741,1462.26 791.865,1462.26 811.989,1462.26 832.112,1462.26 \n",
       "  852.236,1462.26 872.359,1462.26 892.483,1462.26 912.607,1462.26 932.73,1462.26 952.854,1462.26 972.977,1462.26 993.101,1462.26 1013.22,1462.26 1033.35,1462.26 \n",
       "  1053.47,1462.26 1073.6,1462.26 1093.72,1462.26 1113.84,1462.26 1133.97,1462.26 1154.09,1462.26 1174.21,1462.26 1194.34,1462.26 1214.46,1462.26 1234.58,1462.26 \n",
       "  1254.71,88.4582 1274.83,1462.26 1294.96,1462.26 1315.08,1462.26 1335.2,1462.26 1355.33,1462.26 1375.45,1462.26 1395.57,1462.26 1415.7,1462.26 1435.82,1462.26 \n",
       "  1455.94,1462.26 1476.07,1462.26 1496.19,1462.26 1516.32,1462.26 1536.44,1462.26 1556.56,1462.26 1576.69,1462.26 1596.81,1462.26 1616.93,1462.26 1637.06,1462.26 \n",
       "  1657.18,1462.26 1677.3,1462.26 1697.43,1462.26 1717.55,1462.26 1737.67,1462.26 1757.8,1462.26 1777.92,1462.26 1798.05,1462.26 1818.17,1462.26 1838.29,1462.26 \n",
       "  1858.42,1462.26 1878.54,1462.26 1898.66,1462.26 1918.79,1462.26 1938.91,1462.26 1959.03,1462.26 1979.16,1462.26 1999.28,1462.26 2019.41,1462.26 2039.53,1462.26 \n",
       "  2059.65,1462.26 2079.78,1462.26 2099.9,1462.26 2120.02,1462.26 2140.15,1462.26 2160.27,1462.26 2180.39,1462.26 2200.52,1462.26 2220.64,1462.26 2240.77,1462.26 \n",
       "  2260.89,1462.26 \n",
       "  \"/>\n",
       "<polygon clip-path=\"url(#clip5301)\" points=\"\n",
       "1958.43,251.724 2249.26,251.724 2249.26,130.764 1958.43,130.764 \n",
       "  \" fill=\"#ffffff\" fill-rule=\"evenodd\" fill-opacity=\"1\"/>\n",
       "<polyline clip-path=\"url(#clip5301)\" style=\"stroke:#000000; stroke-width:4; stroke-opacity:1; fill:none\" points=\"\n",
       "  1958.43,251.724 2249.26,251.724 2249.26,130.764 1958.43,130.764 1958.43,251.724 \n",
       "  \"/>\n",
       "<polyline clip-path=\"url(#clip5301)\" style=\"stroke:#009af9; stroke-width:4; stroke-opacity:1; fill:none\" points=\"\n",
       "  1982.43,191.244 2126.43,191.244 \n",
       "  \"/>\n",
       "<g clip-path=\"url(#clip5301)\">\n",
       "<text style=\"fill:#000000; fill-opacity:1; font-family:Arial,Helvetica Neue,Helvetica,sans-serif; font-size:48px; text-anchor:start;\" transform=\"rotate(0, 2150.43, 208.744)\" x=\"2150.43\" y=\"208.744\">y1</text>\n",
       "</g>\n",
       "</svg>\n"
      ]
     },
     "execution_count": 14,
     "metadata": {},
     "output_type": "execute_result"
    }
   ],
   "source": [
    "u0 = zeros(length(xs)) \n",
    "u0[Int(ceil(length(u0)/2))] = 1/k \n",
    "plot(xs,u0) "
   ]
  },
  {
   "cell_type": "code",
   "execution_count": 16,
   "metadata": {},
   "outputs": [
    {
     "data": {
      "text/plain": [
       "1"
      ]
     },
     "execution_count": 16,
     "metadata": {},
     "output_type": "execute_result"
    }
   ],
   "source": [
    "D = 1"
   ]
  },
  {
   "cell_type": "code",
   "execution_count": 17,
   "metadata": {},
   "outputs": [
    {
     "data": {
      "text/plain": [
       "0"
      ]
     },
     "execution_count": 17,
     "metadata": {},
     "output_type": "execute_result"
    }
   ],
   "source": [
    "u_nueva = zeros(length(u0)) \n",
    "for i in 2:(length(u0) - 1) \n",
    "    u_nueva[i] = u0[i] + (D*h/k^2)*(u0[i-1] - 2*u0[i] + u0[i+1]) \n",
    "    end \n",
    "u_nueva[1] = 0 \n",
    "u_nueva[end] = 0 #Ésto determina los valores de frontera. "
   ]
  },
  {
   "cell_type": "code",
   "execution_count": 19,
   "metadata": {},
   "outputs": [
    {
     "data": {
      "image/svg+xml": [
       "<?xml version=\"1.0\" encoding=\"utf-8\"?>\n",
       "<svg xmlns=\"http://www.w3.org/2000/svg\" xmlns:xlink=\"http://www.w3.org/1999/xlink\" width=\"600\" height=\"400\" viewBox=\"0 0 2400 1600\">\n",
       "<defs>\n",
       "  <clipPath id=\"clip5700\">\n",
       "    <rect x=\"0\" y=\"0\" width=\"2000\" height=\"2000\"/>\n",
       "  </clipPath>\n",
       "</defs>\n",
       "<defs>\n",
       "  <clipPath id=\"clip5701\">\n",
       "    <rect x=\"0\" y=\"0\" width=\"2400\" height=\"1600\"/>\n",
       "  </clipPath>\n",
       "</defs>\n",
       "<polygon clip-path=\"url(#clip5701)\" points=\"\n",
       "0,1600 2400,1600 2400,0 0,0 \n",
       "  \" fill=\"#ffffff\" fill-rule=\"evenodd\" fill-opacity=\"1\"/>\n",
       "<defs>\n",
       "  <clipPath id=\"clip5702\">\n",
       "    <rect x=\"480\" y=\"0\" width=\"1681\" height=\"1600\"/>\n",
       "  </clipPath>\n",
       "</defs>\n",
       "<polygon clip-path=\"url(#clip5701)\" points=\"\n",
       "251.149,1440.48 2321.26,1440.48 2321.26,47.2441 251.149,47.2441 \n",
       "  \" fill=\"#ffffff\" fill-rule=\"evenodd\" fill-opacity=\"1\"/>\n",
       "<defs>\n",
       "  <clipPath id=\"clip5703\">\n",
       "    <rect x=\"251\" y=\"47\" width=\"2071\" height=\"1394\"/>\n",
       "  </clipPath>\n",
       "</defs>\n",
       "<polyline clip-path=\"url(#clip5703)\" style=\"stroke:#000000; stroke-width:2; stroke-opacity:0.1; fill:none\" points=\"\n",
       "  505.03,1440.48 505.03,47.2441 \n",
       "  \"/>\n",
       "<polyline clip-path=\"url(#clip5703)\" style=\"stroke:#000000; stroke-width:2; stroke-opacity:0.1; fill:none\" points=\"\n",
       "  895.617,1440.48 895.617,47.2441 \n",
       "  \"/>\n",
       "<polyline clip-path=\"url(#clip5703)\" style=\"stroke:#000000; stroke-width:2; stroke-opacity:0.1; fill:none\" points=\"\n",
       "  1286.2,1440.48 1286.2,47.2441 \n",
       "  \"/>\n",
       "<polyline clip-path=\"url(#clip5703)\" style=\"stroke:#000000; stroke-width:2; stroke-opacity:0.1; fill:none\" points=\"\n",
       "  1676.79,1440.48 1676.79,47.2441 \n",
       "  \"/>\n",
       "<polyline clip-path=\"url(#clip5703)\" style=\"stroke:#000000; stroke-width:2; stroke-opacity:0.1; fill:none\" points=\"\n",
       "  2067.38,1440.48 2067.38,47.2441 \n",
       "  \"/>\n",
       "<polyline clip-path=\"url(#clip5703)\" style=\"stroke:#000000; stroke-width:2; stroke-opacity:0.1; fill:none\" points=\"\n",
       "  251.149,1401.05 2321.26,1401.05 \n",
       "  \"/>\n",
       "<polyline clip-path=\"url(#clip5703)\" style=\"stroke:#000000; stroke-width:2; stroke-opacity:0.1; fill:none\" points=\"\n",
       "  251.149,1072.46 2321.26,1072.46 \n",
       "  \"/>\n",
       "<polyline clip-path=\"url(#clip5703)\" style=\"stroke:#000000; stroke-width:2; stroke-opacity:0.1; fill:none\" points=\"\n",
       "  251.149,743.863 2321.26,743.863 \n",
       "  \"/>\n",
       "<polyline clip-path=\"url(#clip5703)\" style=\"stroke:#000000; stroke-width:2; stroke-opacity:0.1; fill:none\" points=\"\n",
       "  251.149,415.269 2321.26,415.269 \n",
       "  \"/>\n",
       "<polyline clip-path=\"url(#clip5703)\" style=\"stroke:#000000; stroke-width:2; stroke-opacity:0.1; fill:none\" points=\"\n",
       "  251.149,86.6754 2321.26,86.6754 \n",
       "  \"/>\n",
       "<polyline clip-path=\"url(#clip5701)\" style=\"stroke:#000000; stroke-width:4; stroke-opacity:1; fill:none\" points=\"\n",
       "  251.149,1440.48 2321.26,1440.48 \n",
       "  \"/>\n",
       "<polyline clip-path=\"url(#clip5701)\" style=\"stroke:#000000; stroke-width:4; stroke-opacity:1; fill:none\" points=\"\n",
       "  251.149,1440.48 251.149,47.2441 \n",
       "  \"/>\n",
       "<polyline clip-path=\"url(#clip5701)\" style=\"stroke:#000000; stroke-width:4; stroke-opacity:1; fill:none\" points=\"\n",
       "  505.03,1440.48 505.03,1419.58 \n",
       "  \"/>\n",
       "<polyline clip-path=\"url(#clip5701)\" style=\"stroke:#000000; stroke-width:4; stroke-opacity:1; fill:none\" points=\"\n",
       "  895.617,1440.48 895.617,1419.58 \n",
       "  \"/>\n",
       "<polyline clip-path=\"url(#clip5701)\" style=\"stroke:#000000; stroke-width:4; stroke-opacity:1; fill:none\" points=\"\n",
       "  1286.2,1440.48 1286.2,1419.58 \n",
       "  \"/>\n",
       "<polyline clip-path=\"url(#clip5701)\" style=\"stroke:#000000; stroke-width:4; stroke-opacity:1; fill:none\" points=\"\n",
       "  1676.79,1440.48 1676.79,1419.58 \n",
       "  \"/>\n",
       "<polyline clip-path=\"url(#clip5701)\" style=\"stroke:#000000; stroke-width:4; stroke-opacity:1; fill:none\" points=\"\n",
       "  2067.38,1440.48 2067.38,1419.58 \n",
       "  \"/>\n",
       "<polyline clip-path=\"url(#clip5701)\" style=\"stroke:#000000; stroke-width:4; stroke-opacity:1; fill:none\" points=\"\n",
       "  251.149,1401.05 282.2,1401.05 \n",
       "  \"/>\n",
       "<polyline clip-path=\"url(#clip5701)\" style=\"stroke:#000000; stroke-width:4; stroke-opacity:1; fill:none\" points=\"\n",
       "  251.149,1072.46 282.2,1072.46 \n",
       "  \"/>\n",
       "<polyline clip-path=\"url(#clip5701)\" style=\"stroke:#000000; stroke-width:4; stroke-opacity:1; fill:none\" points=\"\n",
       "  251.149,743.863 282.2,743.863 \n",
       "  \"/>\n",
       "<polyline clip-path=\"url(#clip5701)\" style=\"stroke:#000000; stroke-width:4; stroke-opacity:1; fill:none\" points=\"\n",
       "  251.149,415.269 282.2,415.269 \n",
       "  \"/>\n",
       "<polyline clip-path=\"url(#clip5701)\" style=\"stroke:#000000; stroke-width:4; stroke-opacity:1; fill:none\" points=\"\n",
       "  251.149,86.6754 282.2,86.6754 \n",
       "  \"/>\n",
       "<g clip-path=\"url(#clip5701)\">\n",
       "<text style=\"fill:#000000; fill-opacity:1; font-family:Arial,Helvetica Neue,Helvetica,sans-serif; font-size:48px; text-anchor:middle;\" transform=\"rotate(0, 505.03, 1494.48)\" x=\"505.03\" y=\"1494.48\">-4</text>\n",
       "</g>\n",
       "<g clip-path=\"url(#clip5701)\">\n",
       "<text style=\"fill:#000000; fill-opacity:1; font-family:Arial,Helvetica Neue,Helvetica,sans-serif; font-size:48px; text-anchor:middle;\" transform=\"rotate(0, 895.617, 1494.48)\" x=\"895.617\" y=\"1494.48\">-2</text>\n",
       "</g>\n",
       "<g clip-path=\"url(#clip5701)\">\n",
       "<text style=\"fill:#000000; fill-opacity:1; font-family:Arial,Helvetica Neue,Helvetica,sans-serif; font-size:48px; text-anchor:middle;\" transform=\"rotate(0, 1286.2, 1494.48)\" x=\"1286.2\" y=\"1494.48\">0</text>\n",
       "</g>\n",
       "<g clip-path=\"url(#clip5701)\">\n",
       "<text style=\"fill:#000000; fill-opacity:1; font-family:Arial,Helvetica Neue,Helvetica,sans-serif; font-size:48px; text-anchor:middle;\" transform=\"rotate(0, 1676.79, 1494.48)\" x=\"1676.79\" y=\"1494.48\">2</text>\n",
       "</g>\n",
       "<g clip-path=\"url(#clip5701)\">\n",
       "<text style=\"fill:#000000; fill-opacity:1; font-family:Arial,Helvetica Neue,Helvetica,sans-serif; font-size:48px; text-anchor:middle;\" transform=\"rotate(0, 2067.38, 1494.48)\" x=\"2067.38\" y=\"1494.48\">4</text>\n",
       "</g>\n",
       "<g clip-path=\"url(#clip5701)\">\n",
       "<text style=\"fill:#000000; fill-opacity:1; font-family:Arial,Helvetica Neue,Helvetica,sans-serif; font-size:48px; text-anchor:end;\" transform=\"rotate(0, 227.149, 1418.55)\" x=\"227.149\" y=\"1418.55\">0.0</text>\n",
       "</g>\n",
       "<g clip-path=\"url(#clip5701)\">\n",
       "<text style=\"fill:#000000; fill-opacity:1; font-family:Arial,Helvetica Neue,Helvetica,sans-serif; font-size:48px; text-anchor:end;\" transform=\"rotate(0, 227.149, 1089.96)\" x=\"227.149\" y=\"1089.96\">2.5</text>\n",
       "</g>\n",
       "<g clip-path=\"url(#clip5701)\">\n",
       "<text style=\"fill:#000000; fill-opacity:1; font-family:Arial,Helvetica Neue,Helvetica,sans-serif; font-size:48px; text-anchor:end;\" transform=\"rotate(0, 227.149, 761.363)\" x=\"227.149\" y=\"761.363\">5.0</text>\n",
       "</g>\n",
       "<g clip-path=\"url(#clip5701)\">\n",
       "<text style=\"fill:#000000; fill-opacity:1; font-family:Arial,Helvetica Neue,Helvetica,sans-serif; font-size:48px; text-anchor:end;\" transform=\"rotate(0, 227.149, 432.769)\" x=\"227.149\" y=\"432.769\">7.5</text>\n",
       "</g>\n",
       "<g clip-path=\"url(#clip5701)\">\n",
       "<text style=\"fill:#000000; fill-opacity:1; font-family:Arial,Helvetica Neue,Helvetica,sans-serif; font-size:48px; text-anchor:end;\" transform=\"rotate(0, 227.149, 104.175)\" x=\"227.149\" y=\"104.175\">10.0</text>\n",
       "</g>\n",
       "<g clip-path=\"url(#clip5701)\">\n",
       "<text style=\"fill:#000000; fill-opacity:1; font-family:Arial,Helvetica Neue,Helvetica,sans-serif; font-size:66px; text-anchor:middle;\" transform=\"rotate(0, 1286.2, 1590.4)\" x=\"1286.2\" y=\"1590.4\">Espacio</text>\n",
       "</g>\n",
       "<g clip-path=\"url(#clip5701)\">\n",
       "<text style=\"fill:#000000; fill-opacity:1; font-family:Arial,Helvetica Neue,Helvetica,sans-serif; font-size:66px; text-anchor:middle;\" transform=\"rotate(-90, 57.6, 743.863)\" x=\"57.6\" y=\"743.863\">Temperatura</text>\n",
       "</g>\n",
       "<polyline clip-path=\"url(#clip5703)\" style=\"stroke:#009af9; stroke-width:4; stroke-opacity:1; fill:none\" points=\"\n",
       "  309.737,1401.05 329.266,1401.05 348.795,1401.05 368.325,1401.05 387.854,1401.05 407.383,1401.05 426.913,1401.05 446.442,1401.05 465.971,1401.05 485.501,1401.05 \n",
       "  505.03,1401.05 524.559,1401.05 544.089,1401.05 563.618,1401.05 583.147,1401.05 602.677,1401.05 622.206,1401.05 641.736,1401.05 661.265,1401.05 680.794,1401.05 \n",
       "  700.324,1401.05 719.853,1401.05 739.382,1401.05 758.912,1401.05 778.441,1401.05 797.97,1401.05 817.5,1401.05 837.029,1401.05 856.558,1401.05 876.088,1401.05 \n",
       "  895.617,1401.05 915.146,1401.05 934.676,1401.05 954.205,1401.05 973.735,1401.05 993.264,1401.05 1012.79,1401.05 1032.32,1401.05 1051.85,1401.05 1071.38,1401.05 \n",
       "  1090.91,1401.05 1110.44,1401.05 1129.97,1401.05 1149.5,1401.05 1169.03,1401.05 1188.56,1401.05 1208.09,1401.05 1227.62,1401.05 1247.15,1401.05 1266.67,1269.61 \n",
       "  1286.2,349.551 1305.73,1269.61 1325.26,1401.05 1344.79,1401.05 1364.32,1401.05 1383.85,1401.05 1403.38,1401.05 1422.91,1401.05 1442.44,1401.05 1461.97,1401.05 \n",
       "  1481.5,1401.05 1501.03,1401.05 1520.56,1401.05 1540.09,1401.05 1559.62,1401.05 1579.14,1401.05 1598.67,1401.05 1618.2,1401.05 1637.73,1401.05 1657.26,1401.05 \n",
       "  1676.79,1401.05 1696.32,1401.05 1715.85,1401.05 1735.38,1401.05 1754.91,1401.05 1774.44,1401.05 1793.97,1401.05 1813.5,1401.05 1833.03,1401.05 1852.56,1401.05 \n",
       "  1872.08,1401.05 1891.61,1401.05 1911.14,1401.05 1930.67,1401.05 1950.2,1401.05 1969.73,1401.05 1989.26,1401.05 2008.79,1401.05 2028.32,1401.05 2047.85,1401.05 \n",
       "  2067.38,1401.05 2086.91,1401.05 2106.44,1401.05 2125.97,1401.05 2145.5,1401.05 2165.03,1401.05 2184.55,1401.05 2204.08,1401.05 2223.61,1401.05 2243.14,1401.05 \n",
       "  2262.67,1401.05 \n",
       "  \"/>\n",
       "<polyline clip-path=\"url(#clip5703)\" style=\"stroke:#e26f46; stroke-width:4; stroke-opacity:1; fill:none\" points=\"\n",
       "  309.737,1401.05 329.266,1401.05 348.795,1401.05 368.325,1401.05 387.854,1401.05 407.383,1401.05 426.913,1401.05 446.442,1401.05 465.971,1401.05 485.501,1401.05 \n",
       "  505.03,1401.05 524.559,1401.05 544.089,1401.05 563.618,1401.05 583.147,1401.05 602.677,1401.05 622.206,1401.05 641.736,1401.05 661.265,1401.05 680.794,1401.05 \n",
       "  700.324,1401.05 719.853,1401.05 739.382,1401.05 758.912,1401.05 778.441,1401.05 797.97,1401.05 817.5,1401.05 837.029,1401.05 856.558,1401.05 876.088,1401.05 \n",
       "  895.617,1401.05 915.146,1401.05 934.676,1401.05 954.205,1401.05 973.735,1401.05 993.264,1401.05 1012.79,1401.05 1032.32,1401.05 1051.85,1401.05 1071.38,1401.05 \n",
       "  1090.91,1401.05 1110.44,1401.05 1129.97,1401.05 1149.5,1401.05 1169.03,1401.05 1188.56,1401.05 1208.09,1401.05 1227.62,1401.05 1247.15,1401.05 1266.67,1401.05 \n",
       "  1286.2,86.6754 1305.73,1401.05 1325.26,1401.05 1344.79,1401.05 1364.32,1401.05 1383.85,1401.05 1403.38,1401.05 1422.91,1401.05 1442.44,1401.05 1461.97,1401.05 \n",
       "  1481.5,1401.05 1501.03,1401.05 1520.56,1401.05 1540.09,1401.05 1559.62,1401.05 1579.14,1401.05 1598.67,1401.05 1618.2,1401.05 1637.73,1401.05 1657.26,1401.05 \n",
       "  1676.79,1401.05 1696.32,1401.05 1715.85,1401.05 1735.38,1401.05 1754.91,1401.05 1774.44,1401.05 1793.97,1401.05 1813.5,1401.05 1833.03,1401.05 1852.56,1401.05 \n",
       "  1872.08,1401.05 1891.61,1401.05 1911.14,1401.05 1930.67,1401.05 1950.2,1401.05 1969.73,1401.05 1989.26,1401.05 2008.79,1401.05 2028.32,1401.05 2047.85,1401.05 \n",
       "  2067.38,1401.05 2086.91,1401.05 2106.44,1401.05 2125.97,1401.05 2145.5,1401.05 2165.03,1401.05 2184.55,1401.05 2204.08,1401.05 2223.61,1401.05 2243.14,1401.05 \n",
       "  2262.67,1401.05 \n",
       "  \"/>\n",
       "<polygon clip-path=\"url(#clip5701)\" points=\"\n",
       "1958.43,312.204 2249.26,312.204 2249.26,130.764 1958.43,130.764 \n",
       "  \" fill=\"#ffffff\" fill-rule=\"evenodd\" fill-opacity=\"1\"/>\n",
       "<polyline clip-path=\"url(#clip5701)\" style=\"stroke:#000000; stroke-width:4; stroke-opacity:1; fill:none\" points=\"\n",
       "  1958.43,312.204 2249.26,312.204 2249.26,130.764 1958.43,130.764 1958.43,312.204 \n",
       "  \"/>\n",
       "<polyline clip-path=\"url(#clip5701)\" style=\"stroke:#009af9; stroke-width:4; stroke-opacity:1; fill:none\" points=\"\n",
       "  1982.43,191.244 2126.43,191.244 \n",
       "  \"/>\n",
       "<g clip-path=\"url(#clip5701)\">\n",
       "<text style=\"fill:#000000; fill-opacity:1; font-family:Arial,Helvetica Neue,Helvetica,sans-serif; font-size:48px; text-anchor:start;\" transform=\"rotate(0, 2150.43, 208.744)\" x=\"2150.43\" y=\"208.744\">y1</text>\n",
       "</g>\n",
       "<polyline clip-path=\"url(#clip5701)\" style=\"stroke:#e26f46; stroke-width:4; stroke-opacity:1; fill:none\" points=\"\n",
       "  1982.43,251.724 2126.43,251.724 \n",
       "  \"/>\n",
       "<g clip-path=\"url(#clip5701)\">\n",
       "<text style=\"fill:#000000; fill-opacity:1; font-family:Arial,Helvetica Neue,Helvetica,sans-serif; font-size:48px; text-anchor:start;\" transform=\"rotate(0, 2150.43, 269.224)\" x=\"2150.43\" y=\"269.224\">y2</text>\n",
       "</g>\n",
       "</svg>\n"
      ]
     },
     "execution_count": 19,
     "metadata": {},
     "output_type": "execute_result"
    }
   ],
   "source": [
    "plot(xs,u_nueva)\n",
    "plot!(xs,u0, xlabel=\"Espacio\",ylabel=\"Temperatura\")"
   ]
  },
  {
   "cell_type": "markdown",
   "metadata": {},
   "source": [
    "(ii) Implementa el sistema, tomando cuidado en lo que ocurre en las fronteras. Para hacerlo, puedes utilizar un vector para representar el estado actual del sistema, y otro vector para el estado al tiempo siguiente. [Nota que deberás tomar en cuenta el punto tocado en el Ejercicio 4: puede que tu método numérico explota; en ese caso; reduce la $h$ hasta que ya no explote.]"
   ]
  },
  {
   "cell_type": "code",
   "execution_count": null,
   "metadata": {},
   "outputs": [],
   "source": [
    "f(us)"
   ]
  },
  {
   "cell_type": "code",
   "execution_count": 20,
   "metadata": {},
   "outputs": [
    {
     "data": {
      "text/plain": [
       "paso_calor (generic function with 1 method)"
      ]
     },
     "execution_count": 20,
     "metadata": {},
     "output_type": "execute_result"
    }
   ],
   "source": [
    "function paso_calor(u0,adim) #adim = Dh/k^2 \n",
    "    \n",
    "    u_nueva = zeros(length(u0)) \n",
    "    \n",
    "    for i in 2:(length(u0) - 1) \n",
    "        u_nueva[i] = u0[i] + adim*(u0[i-1] - 2*u0[i] + u0[i+1]) \n",
    "    end \n",
    "    \n",
    "    u_nueva[1] = 0 \n",
    "    u_nueva[end] = 0 #Ésto determina los valores de frontera. \n",
    "    \n",
    "    return u_nueva \n",
    "    \n",
    "end "
   ]
  },
  {
   "cell_type": "code",
   "execution_count": 25,
   "metadata": {},
   "outputs": [
    {
     "data": {
      "text/plain": [
       "calor (generic function with 2 methods)"
      ]
     },
     "execution_count": 25,
     "metadata": {},
     "output_type": "execute_result"
    }
   ],
   "source": [
    "function calor(u0,h,k,L,T) \n",
    "    xs = -L:k:L \n",
    "    ts = 2:h:T \n",
    "    \n",
    "    adim = h/k^2 # D = 1 \n",
    "    datos = [u0]\n",
    "    \n",
    "    for t in ts\n",
    "        u_nueva = paso_calor(u0,adim)\n",
    "        push!(datos,u_nueva)\n",
    "        u0 = u_nueva\n",
    "    end \n",
    "    \n",
    "    return datos \n",
    "end"
   ]
  },
  {
   "cell_type": "code",
   "execution_count": null,
   "metadata": {},
   "outputs": [],
   "source": []
  },
  {
   "cell_type": "markdown",
   "metadata": {},
   "source": [
    "(iii) Dibuja la evolución en el tiempo, por ejemplo usando `Interact`. ¿Ocurre lo que esperabas? Dibuja en la misma gráfica la solución analítica exacta para $L = \\infty$. ¿Qué observas?"
   ]
  },
  {
   "cell_type": "code",
   "execution_count": null,
   "metadata": {},
   "outputs": [],
   "source": []
  },
  {
   "cell_type": "markdown",
   "metadata": {},
   "source": [
    "(iv) También dibuja la evolución como un \"heat map\" (mapa de calor), es decir, dibuja la matriz dos-dimensional $u^n_i$ con colores que representan los valores de cada elemento de la matriz. [Pista: Utiliza la función `heatmap` de `Plots.jl`.]"
   ]
  },
  {
   "cell_type": "code",
   "execution_count": null,
   "metadata": {},
   "outputs": [],
   "source": []
  },
  {
   "cell_type": "markdown",
   "metadata": {},
   "source": [
    "(v) ¿Qué ocurre si tomas otra condición inicial, por ejemplo una suma de dos deltas? Compáralo con el caso anterior."
   ]
  },
  {
   "cell_type": "code",
   "execution_count": null,
   "metadata": {},
   "outputs": [],
   "source": []
  },
  {
   "cell_type": "markdown",
   "metadata": {},
   "source": [
    "(vi) Pensando en la ecuación como la ecuación de difusión, ¿cuál cantidad relacionada con $u$ representa la cantidad total de masa? ¿Qué debería satisfacer esta cantidad durante la evolución para un sistema infinito? ¿Qué ocurre con esta cantidad cuando hay condiciones de frontera de Dirichlet? Demuéstralo numéricamente."
   ]
  },
  {
   "cell_type": "code",
   "execution_count": null,
   "metadata": {},
   "outputs": [],
   "source": []
  },
  {
   "cell_type": "markdown",
   "metadata": {},
   "source": [
    "#### Ejercicio 4\n",
    "\n",
    "(i) Los parámetros $h$ y $k$ de la discretización en el tiempo y en el espacio, respectivamente, ocurren en una cierta combinación adimensional en la ecuación discretizada que obtuviste. ¿Cuál es?  "
   ]
  },
  {
   "cell_type": "code",
   "execution_count": null,
   "metadata": {},
   "outputs": [],
   "source": []
  },
  {
   "cell_type": "markdown",
   "metadata": {},
   "source": [
    "(ii) Resulta que el método numérico es estable para ciertos valores de este parámetro adimensional, e inestable para otros. Encuentra numéricamente el valor crítico de este parámetro, debajo del cual el método es estable y arriba del cual es inestable."
   ]
  },
  {
   "cell_type": "code",
   "execution_count": null,
   "metadata": {},
   "outputs": [],
   "source": []
  },
  {
   "cell_type": "markdown",
   "metadata": {},
   "source": [
    "#### Ejercicio 5\n",
    "\n",
    "Considera la ecuación de difusión unidimensional, pero ahora con condiciones de frontera **reflejantes** (de Neumann).\n",
    "\n",
    "(i) Escribe la ecuación correspondiente a las condiciones de frontera en $x=\\pm L$."
   ]
  },
  {
   "cell_type": "code",
   "execution_count": null,
   "metadata": {},
   "outputs": [],
   "source": []
  },
  {
   "cell_type": "markdown",
   "metadata": {},
   "source": [
    "(ii) ¿Cómo se puede discretizar en términos de la misma discretización que antes?"
   ]
  },
  {
   "cell_type": "code",
   "execution_count": null,
   "metadata": {},
   "outputs": [],
   "source": []
  },
  {
   "cell_type": "markdown",
   "metadata": {},
   "source": [
    "(iii) ¿Qué esperas intuitivamente que ocurre con este tipo de ecuaciones de frontera?"
   ]
  },
  {
   "cell_type": "code",
   "execution_count": null,
   "metadata": {},
   "outputs": [],
   "source": []
  },
  {
   "cell_type": "markdown",
   "metadata": {},
   "source": [
    "(iv) Impleméntalo y grafica la evolución temporal."
   ]
  },
  {
   "cell_type": "code",
   "execution_count": null,
   "metadata": {},
   "outputs": [],
   "source": []
  },
  {
   "cell_type": "markdown",
   "metadata": {},
   "source": [
    "(v) Confirma la ley de conservación en este caso."
   ]
  },
  {
   "cell_type": "code",
   "execution_count": null,
   "metadata": {},
   "outputs": [],
   "source": []
  },
  {
   "cell_type": "markdown",
   "metadata": {},
   "source": [
    "#### Ejercicio 6\n",
    "\n",
    "Considera un sistema con condiciones **periódicas**, es decir, \n",
    "sobre un círculo, en el cual $u(x=0) = u(x=L)$ para toda $t$. \n",
    "\n",
    "Numéricamente, esto quiere decir que la vecina izquierda de la celda número 1 es la celda número $L$, y vice versa.\n",
    "Esto se puede implementar con un `if` o un `%`, o bien haciendo \"celdas fantasmas\" adicionales, a las cuales se copia la información correspondiente en cada paso.\n",
    "\n",
    "(i) ¿Qué esperas intuitivamente ver con estas condiciones de frontera?"
   ]
  },
  {
   "cell_type": "code",
   "execution_count": null,
   "metadata": {},
   "outputs": [],
   "source": []
  },
  {
   "cell_type": "markdown",
   "metadata": {},
   "source": [
    "(ii) Impleméntalo, tal que puedas escoger qué tipo de condiciones de frontera quieras según un argumento a la función."
   ]
  },
  {
   "cell_type": "code",
   "execution_count": null,
   "metadata": {},
   "outputs": [],
   "source": []
  },
  {
   "cell_type": "markdown",
   "metadata": {},
   "source": [
    "(iii) ¿Se tiene una ley de conservación en este caso? Demúestralo numéricamente."
   ]
  },
  {
   "cell_type": "code",
   "execution_count": null,
   "metadata": {},
   "outputs": [],
   "source": []
  },
  {
   "cell_type": "markdown",
   "metadata": {},
   "source": [
    "#### Ejercicio 7\n",
    "\n",
    "Regresemos a la ecuación de calor original y pensemos *únicamente* en la parte de la evolución temporal.\n",
    "\n",
    "(i) ¿A qué método numérico para EDOs corresponde lo que ya implementaste?"
   ]
  },
  {
   "cell_type": "code",
   "execution_count": null,
   "metadata": {},
   "outputs": [],
   "source": []
  },
  {
   "cell_type": "markdown",
   "metadata": {},
   "source": [
    "(ii) Ahora, discretiza *sólo* la derivada espacial de la ecuación de calor, dejando *sin* discretizarse la derivada temporal. El resultado se llama una **semi-discretización** de la ecuación. ¿Qué forma tienen las ecuaciones resultantes?"
   ]
  },
  {
   "cell_type": "code",
   "execution_count": null,
   "metadata": {},
   "outputs": [],
   "source": []
  },
  {
   "cell_type": "markdown",
   "metadata": {},
   "source": [
    "(iii) Así, especifica cuáles otros métodos numéricos podrías aplicar."
   ]
  },
  {
   "cell_type": "code",
   "execution_count": null,
   "metadata": {},
   "outputs": [],
   "source": []
  },
  {
   "cell_type": "markdown",
   "metadata": {},
   "source": [
    "(iv) Impleméntalo."
   ]
  },
  {
   "cell_type": "code",
   "execution_count": null,
   "metadata": {},
   "outputs": [],
   "source": []
  }
 ],
 "metadata": {
  "kernelspec": {
   "display_name": "Julia 1.0.3",
   "language": "julia",
   "name": "julia-1.0"
  },
  "language_info": {
   "file_extension": ".jl",
   "mimetype": "application/julia",
   "name": "julia",
   "version": "1.0.3"
  }
 },
 "nbformat": 4,
 "nbformat_minor": 1
}
