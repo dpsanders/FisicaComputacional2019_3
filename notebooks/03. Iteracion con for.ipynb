{
 "cells": [
  {
   "cell_type": "markdown",
   "metadata": {},
   "source": [
    "# Iteración"
   ]
  },
  {
   "cell_type": "markdown",
   "metadata": {},
   "source": [
    "Las computadoras están diseñadas para llevar a cabo cálculos de forma repetida. En Julia, existen varias formas de llevar a cabo cálculos repetidos. Uno de los más sencillos es la **iteración**. Esto se refiere a que una variable recorra un conjunto de valores, uno por uno, a través de un **bucle** (ciclo, loop).\n",
    "\n",
    "Empezaremos con los bucles llamados `for` (\"para\", en español).\n",
    "\n",
    "Ya hemos visto las comprensiones de arreglo, que proveen una forma sencilla y rápida para crear arreglos, y ocupan la palabra `for`. Los bucles `for` proveen una manera más precisa para llevar a cabo tareas de forma repetitiva."
   ]
  },
  {
   "cell_type": "markdown",
   "metadata": {},
   "source": [
    "## `for`"
   ]
  },
  {
   "cell_type": "markdown",
   "metadata": {},
   "source": [
    "Un bucle `for` itera a través de un arreglo, rango etc. (cualquier objeto \"iterable\", de hecho). Su sintaxis es:\n",
    "\n",
    "```\n",
    "for <variable> in <arreglo>\n",
    "    [haz esto]\n",
    "    [y esto]\n",
    "end\n",
    "```\n",
    "\n",
    "En un bucle de este tipo, la variable toma cada valor en turno del arreglo. Se refiere a los comandos adentro como el \"cuerpo\" del bucle. Estos comandos se ejecutarán una y otra vez, hasta que se agote el iterable.\n",
    "\n",
    "Por lo tanto, este tipo de bucle se ocupa cuando se conoce de antemano el número de veces que se requiera repetir algo.\n",
    "\n",
    "El ejemplo más sencillo es el siguiente:"
   ]
  },
  {
   "cell_type": "code",
   "execution_count": null,
   "metadata": {},
   "outputs": [],
   "source": [
    "for i in 1:10\n",
    "    println(\"El valor actual de i es \", i)\n",
    "end"
   ]
  },
  {
   "cell_type": "markdown",
   "metadata": {},
   "source": [
    "Vemos que la variable `i` toma cada valor en el rango, de 1 hasta 10, uno por uno. Literalmente lo podemos leer como sigue: \"Para cada `i` en el conjunto de valores 1 hasta 10, haz las siguientes operaciones\". Aquí, \"las siguientes operaciones\" se refiere a todos los comandos comprendidos entre el `for` y el `end` correspondiente."
   ]
  },
  {
   "cell_type": "markdown",
   "metadata": {},
   "source": [
    "#### Ejercicio 1\n",
    "Escribe el código a mano para llevar a cabo lo mismo, *sin* utilizar un bucle. ¿Quisieras hacerlo para los números de 1 a 100? ¡Por algo se inventaron los bucles!"
   ]
  },
  {
   "cell_type": "code",
   "execution_count": null,
   "metadata": {},
   "outputs": [],
   "source": []
  },
  {
   "cell_type": "markdown",
   "metadata": {},
   "source": [
    "En este ejemplo, se iteró sobre un objeto de tipo rango. También se puede iterar sobre un vector:"
   ]
  },
  {
   "cell_type": "code",
   "execution_count": null,
   "metadata": {},
   "outputs": [],
   "source": [
    "x = [3, 4, 7]\n",
    "\n",
    "for i in x\n",
    "    println(i)\n",
    "end"
   ]
  },
  {
   "cell_type": "markdown",
   "metadata": {},
   "source": [
    "#### Ejercicio 2\n",
    "\n",
    "Sabemos que la multiplicación por un entero es como una adición repetida. \n",
    "\n",
    "(i) Define una variable `a` igual a 3 y `n` igual a 10. Escribe un bucle `for` que multiplica `a` por `n` a través de adición repetida, sin modificar los valores ni de `a` ni de `n`.  Para hacerlo, utiliza una variable nueva que se llama `total`. ¿Con cuál valor inicial se debe crear esta variable? ¿Por qué? Verifica que tu función dé el resultado correcto."
   ]
  },
  {
   "cell_type": "code",
   "execution_count": null,
   "metadata": {},
   "outputs": [],
   "source": []
  },
  {
   "cell_type": "markdown",
   "metadata": {},
   "source": [
    "(ii) Inserta tu código adentro de una función `mi_mult` que tome `a` y `n` como argumentos."
   ]
  },
  {
   "cell_type": "code",
   "execution_count": null,
   "metadata": {},
   "outputs": [],
   "source": []
  },
  {
   "cell_type": "markdown",
   "metadata": {},
   "source": [
    "#### Ejercicio 3\n",
    "(i) Crea una función `mi_suma` que calcula la suma de los primeros $N$ enteros utilizando un bucle `for`. "
   ]
  },
  {
   "cell_type": "code",
   "execution_count": null,
   "metadata": {},
   "outputs": [],
   "source": []
  },
  {
   "cell_type": "markdown",
   "metadata": {},
   "source": [
    "(ii) Crea una función `mi_suma2` que calcula, en un solo bucle, la suma de los primeros $N$ enteros, y de sus cuadrados. Regresa las dos sumas. [Pista: Puedes regresar dos valores con `return x, y`.] Verifica que funcione utilizando la fórmula para la suma de los cuadrados."
   ]
  },
  {
   "cell_type": "code",
   "execution_count": null,
   "metadata": {},
   "outputs": [],
   "source": []
  },
  {
   "cell_type": "markdown",
   "metadata": {},
   "source": [
    "## Condicionales"
   ]
  },
  {
   "cell_type": "markdown",
   "metadata": {},
   "source": [
    "A menudo, necesitamos checar si una condición se satisface, y llevar a cabo acciones distintas dependiendo de si sí o no se tiene la condición. Esto se hace con una estructura `if` (\"si\"). Por ejemplo:"
   ]
  },
  {
   "cell_type": "code",
   "execution_count": null,
   "metadata": {},
   "outputs": [],
   "source": [
    "a = 3\n",
    "\n",
    "if a > 4\n",
    "    println(\"$a es grande\")\n",
    "end"
   ]
  },
  {
   "cell_type": "markdown",
   "metadata": {},
   "source": [
    "Podemos agregar una serie de condiciones que verificar con `elseif` y `else` (\"sino\")"
   ]
  },
  {
   "cell_type": "code",
   "execution_count": null,
   "metadata": {},
   "outputs": [],
   "source": [
    "a = 3\n",
    "\n",
    "if a < 4\n",
    "    println(\"$a es chico\")\n",
    "    \n",
    "elseif a < 10\n",
    "    println(\"$a es mediano\")\n",
    "    \n",
    "else\n",
    "    println(\"$a es grande\")\n",
    "end"
   ]
  },
  {
   "cell_type": "markdown",
   "metadata": {},
   "source": [
    "#### Ejercicio 4\n",
    "(i) Pon este código adentro de una función. ¿Cuál argumento necesita la función? Pruébalo con distintos números."
   ]
  },
  {
   "cell_type": "code",
   "execution_count": null,
   "metadata": {},
   "outputs": [],
   "source": []
  },
  {
   "cell_type": "markdown",
   "metadata": {},
   "source": [
    "(ii) Escribe una función para calcular el valor absoluto $|a|$ de un número real $a$, utilizando un `if` y `else`, tomando en cuenta el valor 0 explícitamente."
   ]
  },
  {
   "cell_type": "code",
   "execution_count": null,
   "metadata": {},
   "outputs": [],
   "source": []
  },
  {
   "cell_type": "markdown",
   "metadata": {},
   "source": [
    "### Condiciones útiles"
   ]
  },
  {
   "cell_type": "markdown",
   "metadata": {},
   "source": [
    "Podemos utilizar `<`, `<=` o `≤` (`\\le<tab>`), `>=` y `≥` (`\\ge<tab>`) en condicionales. También podemos utilizar\n",
    "\n",
    "- \"`==`\" para verificar igualdad de dos cantidades  (nota bien la diferencia con el operador de asignación, `=`)\n",
    "\n",
    "- \"`!=`\" para verificar que dos cantidades sean distintas\n",
    "\n",
    "Para verificar divisibilidad, podemos utilizar el operador `%` (módulo): `a % b` calcula el remanente al dividir `a` entre `b`."
   ]
  },
  {
   "cell_type": "markdown",
   "metadata": {},
   "source": [
    "#### Ejercicio 5\n",
    "\n",
    "Escribe una función que regrese `true` (verdadero) si un número `n` es divisible entre 2 o entre 5, y `false` si no.\n"
   ]
  },
  {
   "cell_type": "code",
   "execution_count": null,
   "metadata": {},
   "outputs": [],
   "source": []
  },
  {
   "cell_type": "markdown",
   "metadata": {},
   "source": [
    "## Creando arreglos usando iteración"
   ]
  },
  {
   "cell_type": "markdown",
   "metadata": {},
   "source": [
    "Muchas veces es útil crear datos mediante una iteración. Almacenaremos los datos en un arreglo, pero no sabemos, en general, qué tan grande debe ser el arreglo.\n",
    "\n",
    "Por lo tanto, podemos empezar con un arreglo vacío e **ir agregando** los datos conforme vayan llegando.\n",
    "\n",
    "Para crear un arreglo vacío en Julia, usamos"
   ]
  },
  {
   "cell_type": "code",
   "execution_count": null,
   "metadata": {},
   "outputs": [],
   "source": [
    "v = Int[]"
   ]
  },
  {
   "cell_type": "markdown",
   "metadata": {},
   "source": [
    "La palabra `Int` al principio le dice a Julia que este arreglo sólo puede contener objetos de tipo `Int`."
   ]
  },
  {
   "cell_type": "markdown",
   "metadata": {},
   "source": [
    "#### Ejercicio 6\n",
    "¿Qué ocurre si no ponemos `Int`? "
   ]
  },
  {
   "cell_type": "code",
   "execution_count": null,
   "metadata": {},
   "outputs": [],
   "source": []
  },
  {
   "cell_type": "markdown",
   "metadata": {},
   "source": [
    "Para agregar un dato al arreglo, se utiliza la función `push!`. (El \"`!`\" forma parte del nombre de la función. Indica que la función modifica su argumento.)"
   ]
  },
  {
   "cell_type": "code",
   "execution_count": null,
   "metadata": {},
   "outputs": [],
   "source": [
    "push!(v, 17)"
   ]
  },
  {
   "cell_type": "code",
   "execution_count": null,
   "metadata": {},
   "outputs": [],
   "source": [
    "v"
   ]
  },
  {
   "cell_type": "markdown",
   "metadata": {},
   "source": [
    "#### Ejercicio 7\n",
    "(i) Utiliza este método para crear un arreglo que contenga los números de 1 a 100."
   ]
  },
  {
   "cell_type": "code",
   "execution_count": null,
   "metadata": {},
   "outputs": [],
   "source": []
  },
  {
   "cell_type": "markdown",
   "metadata": {},
   "source": [
    "(ii) ¿Cómo puedes modificar tu código para excluir a los valores que son divisibles o entre 2 o entre 5?"
   ]
  },
  {
   "cell_type": "code",
   "execution_count": null,
   "metadata": {},
   "outputs": [],
   "source": []
  },
  {
   "cell_type": "markdown",
   "metadata": {},
   "source": [
    "## Números primos"
   ]
  },
  {
   "cell_type": "markdown",
   "metadata": {},
   "source": [
    "Recordemos que los números primos son los enteros positivos mayores que $1$ que sólo son divisibles exactamente entre $1$ y sí mismo."
   ]
  },
  {
   "cell_type": "markdown",
   "metadata": {},
   "source": [
    "#### Ejercicio 8\n",
    "(i) Escribe una función que verifica si un número es primo o no."
   ]
  },
  {
   "cell_type": "code",
   "execution_count": null,
   "metadata": {},
   "outputs": [],
   "source": []
  },
  {
   "cell_type": "markdown",
   "metadata": {},
   "source": [
    "(ii) Escribe una función que construye un arreglo de $\\pi(n)$, el número de primos menores o iguales a `n`. "
   ]
  },
  {
   "cell_type": "code",
   "execution_count": null,
   "metadata": {},
   "outputs": [],
   "source": []
  },
  {
   "cell_type": "markdown",
   "metadata": {},
   "source": [
    "(iii) Grafica la función $\\pi(n)$ como función de $n$."
   ]
  },
  {
   "cell_type": "code",
   "execution_count": null,
   "metadata": {},
   "outputs": [],
   "source": []
  },
  {
   "cell_type": "markdown",
   "metadata": {},
   "source": [
    "(iv) ¿Qué tan rápido crece esta función en comparación con `n`?"
   ]
  },
  {
   "cell_type": "code",
   "execution_count": null,
   "metadata": {},
   "outputs": [],
   "source": []
  },
  {
   "cell_type": "markdown",
   "metadata": {},
   "source": [
    "## Visualizaciones interactivas"
   ]
  },
  {
   "cell_type": "markdown",
   "metadata": {},
   "source": [
    "Una manera sumamente útil para extraer más información de un conjunto de datos es al visualizarlos de forma interactiva, cambiando algún(os) parámetro(s). Julia provee el paquete `Interact.jl` para esto."
   ]
  },
  {
   "cell_type": "markdown",
   "metadata": {},
   "source": [
    "#### Ejercicio 9\n",
    "(i) Instala el paquete `Interact.jl`."
   ]
  },
  {
   "cell_type": "code",
   "execution_count": null,
   "metadata": {},
   "outputs": [],
   "source": []
  },
  {
   "cell_type": "markdown",
   "metadata": {},
   "source": [
    "(ii) Cárgalo."
   ]
  },
  {
   "cell_type": "code",
   "execution_count": null,
   "metadata": {},
   "outputs": [],
   "source": []
  },
  {
   "cell_type": "markdown",
   "metadata": {},
   "source": [
    "El paquete provee un macro (un tipo de \"super-función\") `@manipulate`. Al anteponer `@manipulate` ante un bucle `for`, convierte el bucle en una visualización con un slider:"
   ]
  },
  {
   "cell_type": "code",
   "execution_count": null,
   "metadata": {},
   "outputs": [],
   "source": [
    "@manipulate for i in 1:10\n",
    "    i\n",
    "end"
   ]
  },
  {
   "cell_type": "markdown",
   "metadata": {},
   "source": [
    "(iii) Retoma la visualización del tiro parabólico del notebook anterior y haz una visualización interactiva al cambiar el ángulo inicial."
   ]
  },
  {
   "cell_type": "code",
   "execution_count": null,
   "metadata": {},
   "outputs": [],
   "source": []
  }
 ],
 "metadata": {
  "kernelspec": {
   "display_name": "Julia 1.0.3",
   "language": "julia",
   "name": "julia-1.0"
  },
  "language_info": {
   "file_extension": ".jl",
   "mimetype": "application/julia",
   "name": "julia",
   "version": "1.0.3"
  }
 },
 "nbformat": 4,
 "nbformat_minor": 2
}
