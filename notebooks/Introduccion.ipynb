{
 "cells": [
  {
   "cell_type": "markdown",
   "metadata": {
    "slideshow": {
     "slide_type": "slide"
    }
   },
   "source": [
    "# Física Computacional 2019-3\n",
    "\n",
    "### Departamento de Física, Facultad de Ciencias, UNAM"
   ]
  },
  {
   "cell_type": "markdown",
   "metadata": {
    "slideshow": {
     "slide_type": "fragment"
    }
   },
   "source": [
    "## Datos del curso\n",
    "\n",
    "- Profesor: Dr. David P. Sanders\n",
    "\n",
    "- Ayudante: Crhistian Benítez"
   ]
  },
  {
   "cell_type": "markdown",
   "metadata": {
    "slideshow": {
     "slide_type": "slide"
    }
   },
   "source": [
    "## Meta del curso"
   ]
  },
  {
   "cell_type": "markdown",
   "metadata": {
    "slideshow": {
     "slide_type": "fragment"
    }
   },
   "source": [
    "- Aprender cómo podemos utilizar la computadora como **herramienta** para la física"
   ]
  },
  {
   "cell_type": "markdown",
   "metadata": {},
   "source": [
    "- Aprender los elementos fundamentales de la programación con el lenguaje **Julia**"
   ]
  },
  {
   "cell_type": "markdown",
   "metadata": {
    "slideshow": {
     "slide_type": "fragment"
    }
   },
   "source": [
    "- Estudiar algunos métodos numéricos claves y su implementación"
   ]
  },
  {
   "cell_type": "markdown",
   "metadata": {
    "slideshow": {
     "slide_type": "fragment"
    }
   },
   "source": [
    "- ¡No temerle a la computadora, ni a la programación!"
   ]
  },
  {
   "cell_type": "markdown",
   "metadata": {
    "slideshow": {
     "slide_type": "slide"
    }
   },
   "source": [
    "## ¿Qué es Julia?"
   ]
  },
  {
   "cell_type": "markdown",
   "metadata": {
    "slideshow": {
     "slide_type": "fragment"
    }
   },
   "source": [
    "- Lenguaje de programación general\n",
    "\n",
    "\n",
    "- Diseñado para que sea ideal para el cómputo científico / ciencia computacional\n",
    "\n",
    "\n",
    "- http://www.julialang.org\n"
   ]
  },
  {
   "cell_type": "markdown",
   "metadata": {
    "slideshow": {
     "slide_type": "subslide"
    }
   },
   "source": [
    "### ¿Por qué Julia?"
   ]
  },
  {
   "cell_type": "markdown",
   "metadata": {
    "slideshow": {
     "slide_type": "fragment"
    }
   },
   "source": [
    "- Fácil de entender, alto nivel, interactivo -- como Python, MATLAB, R,..."
   ]
  },
  {
   "cell_type": "markdown",
   "metadata": {
    "slideshow": {
     "slide_type": "fragment"
    }
   },
   "source": [
    "- **Pero** rendimiento (velocidad) comparable con C, C++ y Fortran\n"
   ]
  },
  {
   "cell_type": "markdown",
   "metadata": {
    "slideshow": {
     "slide_type": "fragment"
    }
   },
   "source": [
    "- Los desarrolladores querían *todo* en un solo lenguaje -- ¡y lo lograron!"
   ]
  },
  {
   "cell_type": "markdown",
   "metadata": {
    "slideshow": {
     "slide_type": "subslide"
    }
   },
   "source": [
    "### Desarrollo de Julia"
   ]
  },
  {
   "cell_type": "markdown",
   "metadata": {
    "slideshow": {
     "slide_type": "fragment"
    }
   },
   "source": [
    "- Software libre; licencia MIT\n",
    "\n",
    "\n",
    "- Disponible en todas las plataformas"
   ]
  },
  {
   "cell_type": "markdown",
   "metadata": {
    "slideshow": {
     "slide_type": "subslide"
    }
   },
   "source": [
    "- Comunidad de desarrolladores repartido en todo el mundo\n",
    "\n",
    "\n",
    "- Se desarrolla en línea de forma abierta en https://github.com/JuliaLang/julia\n",
    "\n",
    "\n",
    "- Más de 2000 paquetes / bibliotecas registrados"
   ]
  },
  {
   "cell_type": "markdown",
   "metadata": {
    "slideshow": {
     "slide_type": "slide"
    }
   },
   "source": [
    "### Ciencia abierta"
   ]
  },
  {
   "cell_type": "markdown",
   "metadata": {
    "slideshow": {
     "slide_type": "fragment"
    }
   },
   "source": [
    "- Por su naturaleza, la ciencia exige que cualquier código científico debe ser disponible de forma libre y reproducible\n",
    "\n",
    "\n",
    "- Por lo tanto, es necesario utilizar **software libre**\n",
    "\n",
    "\n",
    "- Con una licencia poco restrictiva\n"
   ]
  },
  {
   "cell_type": "markdown",
   "metadata": {
    "slideshow": {
     "slide_type": "subslide"
    }
   },
   "source": [
    "### Julia es estable\n",
    "\n",
    "- Hoy: versión v1.0.3\n",
    "\n",
    "- Mañana: versión 1.1"
   ]
  },
  {
   "cell_type": "markdown",
   "metadata": {
    "slideshow": {
     "slide_type": "slide"
    }
   },
   "source": [
    "## Cómo utilizar Julia"
   ]
  },
  {
   "cell_type": "markdown",
   "metadata": {},
   "source": [
    "#### En línea, sin instalar nada\n",
    "\n",
    "- http://www.juliabox.com\n",
    "\n",
    "\n",
    "#### De forma local en tu propia computadora\n",
    "\n",
    "- Bajar desde http://www.julialang.org/downloads"
   ]
  },
  {
   "cell_type": "markdown",
   "metadata": {
    "slideshow": {
     "slide_type": "fragment"
    }
   },
   "source": [
    "### Entornos para utilizar Julia\n",
    "\n",
    "\n",
    "- **Jupyter** notebook: cuaderno interactivo a través del navegador web\n",
    "\n",
    "    - en tu propia computadora (instrucciones abajo)\n",
    "\n",
    "    - en línea: [juliabox.com](http://juliabox.com)\n",
    "  \n",
    "    - en el IPad con [Juno app](https://juno.sh/)\n",
    "    \n",
    "- Nueva versión: **JupyterLab**"
   ]
  },
  {
   "cell_type": "markdown",
   "metadata": {
    "slideshow": {
     "slide_type": "fragment"
    }
   },
   "source": [
    "- **REPL** (línea de comandos): Flujo de trabajo interactivo"
   ]
  },
  {
   "cell_type": "markdown",
   "metadata": {
    "slideshow": {
     "slide_type": "fragment"
    }
   },
   "source": [
    "- [Juno](http://junolab.org/): IDE (entorno de desarrollo integrado) para Julia, dentro del editor Atom; evaluación \"inline\"\n",
    "\n",
    "- [Nteract](https://nteract.io), una aplicación de escritorio para manipular notebooks "
   ]
  },
  {
   "cell_type": "markdown",
   "metadata": {
    "slideshow": {
     "slide_type": "subslide"
    }
   },
   "source": [
    "## Instalación del Jupyter notebook:\n",
    "\n",
    "- Abre Julia e instala el paquete `IJulia`, e.g. desde el REPL:\n",
    "\n",
    "    - Teclear `]`, lo cual cambia el modo a `(v1.0) pkg>` \n",
    "    \n",
    "    - `add IJulia`\n",
    "    \n",
    "- Ahora carga el notebook:\n",
    "\n",
    "    - `julia> using IJulia`\n",
    "    \n",
    "    - `julia> notebook()`\n",
    "    \n",
    "\n",
    "- Para saber en cuál directorio estás trabajando, utiliza `julia> pwd()`\n",
    "\n"
   ]
  },
  {
   "cell_type": "markdown",
   "metadata": {},
   "source": [
    "## Recursos para aprender Julia"
   ]
  },
  {
   "cell_type": "markdown",
   "metadata": {},
   "source": [
    "- \"Cheatsheets\" - resúmenes de la sintaxis:\n",
    "\n",
    "    -\n",
    "    -\n",
    "    \n",
    "- Video introductorio a Julia 1.0: (inglés)\n",
    "\n",
    "    - \n",
    "    \n",
    "    \n",
    "- Versión en espanõl con algunas cosas de sintaxis que ya han cambiado:\n",
    "\n",
    "    -\n",
    "    \n",
    "    \n",
    "- Libros sobre Julia\n",
    "\n",
    "    - ThinkJulia\n",
    "    \n",
    "    - Álgebra lineal con Julia"
   ]
  },
  {
   "cell_type": "markdown",
   "metadata": {
    "slideshow": {
     "slide_type": "subslide"
    }
   },
   "source": [
    "## Cómo obtenir ayuda\n"
   ]
  },
  {
   "cell_type": "markdown",
   "metadata": {
    "slideshow": {
     "slide_type": "fragment"
    }
   },
   "source": [
    "- Interactivamente (REPL / Juno / IJulia): `?sin`"
   ]
  },
  {
   "cell_type": "markdown",
   "metadata": {
    "slideshow": {
     "slide_type": "fragment"
    }
   },
   "source": [
    "- Manual de referencia: https://docs.julialang.org/en/stable\n",
    "\n",
    "\n",
    "- Foro de discusión: https://discourse.julialang.org/\n",
    "\n",
    "\n",
    "- Slack (mensajes instantáneos): http://slackinvite.julialang.org\n",
    "\n",
    "\n",
    "- Recursos para aprender:  http://julialang.org/learning\n",
    "\n",
    "\n",
    "- Paquetes etc.: https://juliaobserver.com/"
   ]
  },
  {
   "cell_type": "markdown",
   "metadata": {},
   "source": []
  }
 ],
 "metadata": {
  "kernelspec": {
   "display_name": "Julia 1.0.0",
   "language": "julia",
   "name": "julia-1.0"
  },
  "language_info": {
   "file_extension": ".jl",
   "mimetype": "application/julia",
   "name": "julia",
   "version": "1.0.2"
  },
  "toc": {
   "colors": {
    "hover_highlight": "#DAA520",
    "running_highlight": "#FF0000",
    "selected_highlight": "#FFD700"
   },
   "moveMenuLeft": true,
   "nav_menu": {
    "height": "139px",
    "width": "252px"
   },
   "navigate_menu": true,
   "number_sections": true,
   "sideBar": true,
   "threshold": "2",
   "toc_cell": false,
   "toc_section_display": "block",
   "toc_window_display": false
  }
 },
 "nbformat": 4,
 "nbformat_minor": 2
}
