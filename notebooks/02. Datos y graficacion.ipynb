{
 "cells": [
  {
   "cell_type": "markdown",
   "metadata": {},
   "source": [
    "# Creando datos y graficación"
   ]
  },
  {
   "cell_type": "markdown",
   "metadata": {},
   "source": [
    "Una de las tareas fundamentales del cómputo científico es el manejar **datos** de todo tipo: leerlos de un archivo, o crearlos en una simulación; escribirlos a un archivo; visualizarlos, para extraer su mensaje; etc.\n",
    "\n",
    "En este notebook veremos una forma rápida de crear datos según un cierto patrón, y almacenarlos."
   ]
  },
  {
   "cell_type": "markdown",
   "metadata": {},
   "source": [
    "## Arreglos por comprensión"
   ]
  },
  {
   "cell_type": "markdown",
   "metadata": {},
   "source": [
    "Tendremos que almacenar datos en algún lado. En Julia los almacenamos en arreglos.\n",
    "\n",
    "Un **arreglo** uni-dimensional es un vector, o una lista, o una secuencia, o un conjunto (ordenado) de datos. Se puede visualizar como una pichonera con cajas consecutivas, en las cuales se pueden guardar datos."
   ]
  },
  {
   "cell_type": "markdown",
   "metadata": {},
   "source": [
    "Julia tiene una sintaxis poderosa para crear arreglos: **arreglos por comprensión** (o \"secuenciación\"), que corresponde a la notación matemática bonita para especifar conjuntos. Por ejemplo, el conjunto de los cuadrados de los primeros diez enteros se escribe como sigue. Si notamos por $A := \\{ 1, 2, \\ldots, 10 \\}$ los números de 1 a 10, entonces el conjunto $C$ de sus cuadrados es \n",
    "\n",
    "$$C := \\{ x^2 : x \\in A \\}$$\n",
    "\n",
    "En Julia, ¡podemos escribir algo similar! \n",
    "\n",
    "Primero, agarremos los números de 1 al 10:"
   ]
  },
  {
   "cell_type": "code",
   "execution_count": null,
   "metadata": {},
   "outputs": [],
   "source": [
    "A = 1:10"
   ]
  },
  {
   "cell_type": "markdown",
   "metadata": {},
   "source": [
    "#### Ejercicio 1\n",
    "(i) ¿Qué **tipo de objeto** es esto? "
   ]
  },
  {
   "cell_type": "code",
   "execution_count": null,
   "metadata": {},
   "outputs": [],
   "source": []
  },
  {
   "cell_type": "markdown",
   "metadata": {},
   "source": [
    "Ahora utilizamos la siguiente sintaxis para crear un arreglo por comprensión:"
   ]
  },
  {
   "cell_type": "code",
   "execution_count": null,
   "metadata": {},
   "outputs": [],
   "source": [
    "C = [i^2 for i in A] "
   ]
  },
  {
   "cell_type": "markdown",
   "metadata": {},
   "source": [
    "Recuerda que \"for\" quiere decir \"para\", e \"in\" quiere decir \"en\". En Julia, los corchetes (`[` y `]`) construyen arreglos. Por lo tanto, podemos leer esto como \"el arreglo de $x^2$ para $x$ en el conjunto `A`\", o \"la colección [ordenada] de los cuadrados de los elementos de `A`\"."
   ]
  },
  {
   "cell_type": "markdown",
   "metadata": {},
   "source": [
    "(ii) ¿Qué tipo tiene este resultado? "
   ]
  },
  {
   "cell_type": "code",
   "execution_count": null,
   "metadata": {},
   "outputs": [],
   "source": []
  },
  {
   "cell_type": "markdown",
   "metadata": {},
   "source": [
    "(iii) ¿Funciona si pones directamente `1:10` en lugar de `A`?"
   ]
  },
  {
   "cell_type": "code",
   "execution_count": null,
   "metadata": {},
   "outputs": [],
   "source": []
  },
  {
   "cell_type": "markdown",
   "metadata": {},
   "source": [
    "(iv) Utiliza la función `sum` de Julia para calcular la suma de estos cuadrados."
   ]
  },
  {
   "cell_type": "code",
   "execution_count": null,
   "metadata": {},
   "outputs": [],
   "source": []
  },
  {
   "cell_type": "markdown",
   "metadata": {},
   "source": [
    "(v) Escribe una función que calcule la suma de los primeros $N$ enteros. Haz otra función que dé el resultado analítico conocido, y otra que compara estos dos resultados. Verifica que funcione para varios valores."
   ]
  },
  {
   "cell_type": "markdown",
   "metadata": {},
   "source": [
    "Podemos poner un `if` al final de la comprensión para incluir sólo ciertos valores que satisfagan cierta condición, e.g."
   ]
  },
  {
   "cell_type": "code",
   "execution_count": null,
   "metadata": {},
   "outputs": [],
   "source": [
    "[i for i in A if i%3 != 0]  # % es módulo;  != es \"no es igual a\""
   ]
  },
  {
   "cell_type": "markdown",
   "metadata": {},
   "source": [
    "#### Ejercicio 2"
   ]
  },
  {
   "cell_type": "markdown",
   "metadata": {},
   "source": [
    "(i) Crea una lista de los números de 1 al 100 que sean múltiplos de 3 o 5. [\"O\" se escribe como `||`.] "
   ]
  },
  {
   "cell_type": "code",
   "execution_count": null,
   "metadata": {},
   "outputs": [],
   "source": []
  },
  {
   "cell_type": "markdown",
   "metadata": {},
   "source": [
    "(ii) Checa a ojo que esté correcto. "
   ]
  },
  {
   "cell_type": "code",
   "execution_count": null,
   "metadata": {},
   "outputs": [],
   "source": []
  },
  {
   "cell_type": "markdown",
   "metadata": {},
   "source": [
    "(iii) Calcula su suma. ¿Cómo puedes verificar que la suma esté bien? Hazlo."
   ]
  },
  {
   "cell_type": "code",
   "execution_count": null,
   "metadata": {},
   "outputs": [],
   "source": []
  },
  {
   "cell_type": "markdown",
   "metadata": {},
   "source": [
    "# Graficación"
   ]
  },
  {
   "cell_type": "markdown",
   "metadata": {},
   "source": [
    "Ahora somos capaces de producir datos interesantes, pero rápidamente llegamos a un momento en el cual ya no se pueden apreciar por ser tantos. La mejor solución es la **visualización**, es decir, graficarlos.\n",
    "\n",
    "Hay varios **paquetes** (librerías / bibliotecas) gráficos en Julia. El paquete `Plots.jl` provee una interfaz común a muchos de ellos, mientras que `Makie.jl` es un paquete nuevo muy prometedor.\n",
    "\n",
    "Para utilizar un paquete, es necesario primero **instalarlo**, es decir, jalar el código del paquete a tu computadora. Esto es necesario sola vez en cada instalación de Julia:"
   ]
  },
  {
   "cell_type": "code",
   "execution_count": null,
   "metadata": {},
   "outputs": [],
   "source": [
    "using Pkg\n",
    "Pkg.add(\"Plots\")"
   ]
  },
  {
   "cell_type": "markdown",
   "metadata": {},
   "source": [
    "o"
   ]
  },
  {
   "cell_type": "code",
   "execution_count": null,
   "metadata": {},
   "outputs": [],
   "source": [
    "]add Plots   # utiliza el modo de pkg"
   ]
  },
  {
   "cell_type": "markdown",
   "metadata": {},
   "source": [
    "Luego el paquete se tiene que cargar *en cada sesión*:"
   ]
  },
  {
   "cell_type": "code",
   "execution_count": null,
   "metadata": {},
   "outputs": [],
   "source": [
    "using Plots  # \"using\" == \"usando\""
   ]
  },
  {
   "cell_type": "markdown",
   "metadata": {},
   "source": [
    "El comando `using Plots` carga las funciones definidas en la librería para este notebook (que ya instalaste anteriormente), para que ya se puedan utilizar."
   ]
  },
  {
   "cell_type": "markdown",
   "metadata": {},
   "source": [
    "### Ejercicio 3"
   ]
  },
  {
   "cell_type": "markdown",
   "metadata": {},
   "source": [
    "(i) Define un paso $\\delta x$ chico, y crea un arreglo `xx` con números igualmente espaciados de -3 a 3. [Pista: agrega otro `:` al rango, o utiliza la función `range`. Puedes conseguir documentación de la función con `?range.]"
   ]
  },
  {
   "cell_type": "code",
   "execution_count": null,
   "metadata": {},
   "outputs": [],
   "source": []
  },
  {
   "cell_type": "markdown",
   "metadata": {},
   "source": [
    "(ii) Define una función $f$ que acepta $x$ y calcula $3x^2 - 2$. Utiliza $f$ para crear un arreglo `yy` de los resultados de evaluar $f$ para cada $x$ en el rango `xx`."
   ]
  },
  {
   "cell_type": "code",
   "execution_count": null,
   "metadata": {},
   "outputs": [],
   "source": []
  },
  {
   "cell_type": "markdown",
   "metadata": {},
   "source": [
    "(iii) Utiliza la función `plot` de `Plots` para graficar la función. Acepta dos argumentos, un arreglo con las coordenadas $x$ y otro con las coordenadas $y$."
   ]
  },
  {
   "cell_type": "code",
   "execution_count": null,
   "metadata": {},
   "outputs": [],
   "source": []
  },
  {
   "cell_type": "markdown",
   "metadata": {},
   "source": [
    "(iv) Utiliza la ayuda de la función [`?plot` o `help(plot)`] y en la documentación del paquete u otro lado para cambiar el estilo de la gráfica para utilizar líneas rojas y puntos verdes."
   ]
  },
  {
   "cell_type": "code",
   "execution_count": null,
   "metadata": {},
   "outputs": [],
   "source": []
  },
  {
   "cell_type": "markdown",
   "metadata": {},
   "source": [
    "(v) Busca cómo agregar etiquetas a los ejes (lo cual debe hacerse en *cualquier* gráfica) y un título global, así como una leyenda."
   ]
  },
  {
   "cell_type": "code",
   "execution_count": null,
   "metadata": {},
   "outputs": [],
   "source": []
  },
  {
   "cell_type": "markdown",
   "metadata": {},
   "source": [
    "## Tiro parabólico"
   ]
  },
  {
   "cell_type": "markdown",
   "metadata": {},
   "source": [
    "Ya estamos en condiciones de poder visualizar sistemas *físicos* en la computadora."
   ]
  },
  {
   "cell_type": "markdown",
   "metadata": {},
   "source": [
    "#### Ejercicio 4\n",
    "(i) Haz una función que calcula la trayectoria de una partícula en tiro parabólico en 2 dimensiones con una posición $(x, y)$ y velocidad $(u, v)$ iniciales dadas. Utiliza las fórmulas analíticas conocidas para ello."
   ]
  },
  {
   "cell_type": "code",
   "execution_count": null,
   "metadata": {},
   "outputs": [],
   "source": []
  },
  {
   "cell_type": "markdown",
   "metadata": {},
   "source": [
    "(ii) Haz otra función con el mismo nombre que acepta sólo tres argumentos: $x$, $y$ y el ángulo inicial $\\theta$. Puedes suponer una rapidez de $1$."
   ]
  },
  {
   "cell_type": "code",
   "execution_count": null,
   "metadata": {},
   "outputs": [],
   "source": []
  },
  {
   "cell_type": "markdown",
   "metadata": {},
   "source": [
    "(iii) Grafica distintas trayectorias con la misma posición pero distintos ángulos iniciales. Arregla tu gráfica para que sólo muestra la parte hasta que la partícula caiga al suelo."
   ]
  },
  {
   "cell_type": "code",
   "execution_count": null,
   "metadata": {},
   "outputs": [],
   "source": []
  },
  {
   "cell_type": "markdown",
   "metadata": {},
   "source": [
    "(iv) Comprueba gráficamente para cuál ángulo se tiene el máximo **alcance**."
   ]
  },
  {
   "cell_type": "code",
   "execution_count": null,
   "metadata": {},
   "outputs": [],
   "source": []
  },
  {
   "cell_type": "markdown",
   "metadata": {},
   "source": [
    "## Calculemos $\\pi$"
   ]
  },
  {
   "cell_type": "markdown",
   "metadata": {},
   "source": [
    "También podemos hacer cálculos útiles, por ejemplo podemos calcular el valor de $\\pi$. Hay literalmente miles de maneras de hacer esto. Una de ellas (muy lejos de ser la mejor) es a través de la [siguiente fórmula](https://en.wikipedia.org/wiki/Basel_problem):\n",
    "\n",
    "$$\\sum_{n=1}^\\infty \\frac{1}{n^2} = \\frac{\\pi^2}{6}.$$"
   ]
  },
  {
   "cell_type": "markdown",
   "metadata": {},
   "source": [
    "#### Ejercicio 5"
   ]
  },
  {
   "cell_type": "markdown",
   "metadata": {},
   "source": [
    "(i) Fija una $N$ y calcula $\\pi$ utilizando una suma hasta $N$. Haz de esto una función que se llama `mi_π`."
   ]
  },
  {
   "cell_type": "code",
   "execution_count": null,
   "metadata": {},
   "outputs": [],
   "source": []
  },
  {
   "cell_type": "markdown",
   "metadata": {},
   "source": [
    "(ii) Ahora repite el cálculo para valores diferentes de $N$ y almacénalos, utilizando únicamente lo que hemos visto en este notebook."
   ]
  },
  {
   "cell_type": "code",
   "execution_count": null,
   "metadata": {},
   "outputs": [],
   "source": []
  },
  {
   "cell_type": "markdown",
   "metadata": {},
   "source": [
    "(iii) Grafica el resultado para los distintos valores de $N$, como función de $N$. ¿Qué observas? ¿Qué puedes agregar a tu gráfica para mostralo?"
   ]
  },
  {
   "cell_type": "code",
   "execution_count": null,
   "metadata": {},
   "outputs": [],
   "source": []
  },
  {
   "cell_type": "markdown",
   "metadata": {},
   "source": [
    "(iv) ¿Cómo podrías ver qué tan rápidamente converge la suma cuando $N \\to \\infty$? Hazlo."
   ]
  },
  {
   "cell_type": "code",
   "execution_count": null,
   "metadata": {
    "collapsed": true
   },
   "outputs": [],
   "source": []
  }
 ],
 "metadata": {
  "kernelspec": {
   "display_name": "Julia 1.0.3",
   "language": "julia",
   "name": "julia-1.0"
  },
  "language_info": {
   "file_extension": ".jl",
   "mimetype": "application/julia",
   "name": "julia",
   "version": "1.0.3"
  }
 },
 "nbformat": 4,
 "nbformat_minor": 2
}
