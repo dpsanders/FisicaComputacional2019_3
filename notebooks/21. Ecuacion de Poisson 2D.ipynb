{
 "cells": [
  {
   "cell_type": "markdown",
   "metadata": {},
   "source": [
    "# La ecuación de Poisson"
   ]
  },
  {
   "cell_type": "markdown",
   "metadata": {},
   "source": [
    "En este notebook, veremos cómo podemos resolver la **ecuación de Poisson** en 2D,\n",
    "\n",
    "$$ \\nabla^2 V(\\mathbf{x}) = -\\rho(\\mathbf{x}) \\qquad (*)$$\n",
    "\n",
    "para encontrar el potencial y campo eléctrico debido a una distribución de carga $\\rho(\\mathbf{x})$ en una caja cuadrada. Extenderemos la misma idea que aplicamos en 1D."
   ]
  },
  {
   "cell_type": "markdown",
   "metadata": {},
   "source": [
    "#### Ejercicio 1\n",
    "Discreticemos la caja de tamaño $L_x \\times L_y$ con $M_x$ y $M_y$ celdas en $x$ y $y$, respectivamente, de tamaños $h_x$ y $h_y$. Denotemos por $V_{i,j}$ el valor aproximado de $V(x_i, y_j)$ en el nodo $(x_i, y_j)$.\n",
    "\n",
    "(i) Encuentra una aproximación en diferencias finitas para $\\nabla^2 V(x_i, y_j)$ en el punto $(x_i, y_j)$ de la malla."
   ]
  },
  {
   "cell_type": "code",
   "execution_count": null,
   "metadata": {},
   "outputs": [],
   "source": []
  },
  {
   "cell_type": "markdown",
   "metadata": {},
   "source": [
    "(ii) Así, escribe la ecuación discretizada correspondiente a (*) en el nodo $(x_i, y_j)$."
   ]
  },
  {
   "cell_type": "code",
   "execution_count": null,
   "metadata": {},
   "outputs": [],
   "source": []
  },
  {
   "cell_type": "markdown",
   "metadata": {},
   "source": [
    "#### Ejercicio 2\n",
    "Para seguir lo que hicimos en 1D, escribe todas estas ecuaciones, para todas las $i$ y $j$, simultáneamente como *una sola ecuación matricial*. Es decir, \n",
    "debemos recolectar todas las $\\phi(x_i, y_j)$ en *un solo vector*.\n",
    "\n",
    "(i) Inventa una manera de hacer esto (es decir, enlistar los puntos $(x_i, y_j)$ de una forma coherente), y escribe funciones correspondientes para pasar de la posición dada por $(i, j)$ a la posición $k$ en tu lista, y vice versa."
   ]
  },
  {
   "cell_type": "code",
   "execution_count": null,
   "metadata": {},
   "outputs": [],
   "source": []
  },
  {
   "cell_type": "markdown",
   "metadata": {},
   "source": [
    "(ii) Para sistemas chiquitos, muestra las matrices correspondientes que se generan."
   ]
  },
  {
   "cell_type": "code",
   "execution_count": null,
   "metadata": {},
   "outputs": [],
   "source": []
  },
  {
   "cell_type": "markdown",
   "metadata": {},
   "source": [
    "#### Ejercicio 3\n",
    "\n",
    "(i) Resuelve la ecuación de Laplace,\n",
    "$$\\nabla^2 V = 0$$ con condiciones de frontera de Dirichlet, es decir, con valores dados en las fronteras. Empieza con el caso que $V=0$ en tres de las fronteras y $V=\\mathrm{constante}$ en la frontera de arriba. "
   ]
  },
  {
   "cell_type": "code",
   "execution_count": null,
   "metadata": {},
   "outputs": [],
   "source": []
  },
  {
   "cell_type": "markdown",
   "metadata": {},
   "source": [
    "(ii) Dibuja el potencial como una función en 3D, y como equipotenciales (con la función `contour` o similar)."
   ]
  },
  {
   "cell_type": "code",
   "execution_count": null,
   "metadata": {},
   "outputs": [],
   "source": []
  },
  {
   "cell_type": "markdown",
   "metadata": {},
   "source": [
    "(iii) Encuentra las componentes del campo eléctrico $\\mathbf{E} = -\\nabla \\phi$. Dibuja el campo vectorial usando la función `quiver`."
   ]
  },
  {
   "cell_type": "code",
   "execution_count": null,
   "metadata": {},
   "outputs": [],
   "source": []
  },
  {
   "cell_type": "markdown",
   "metadata": {},
   "source": [
    "(iv) Experimenta con distintas condiciones de frontera. Utiliza `@manipulate`."
   ]
  },
  {
   "cell_type": "code",
   "execution_count": null,
   "metadata": {},
   "outputs": [],
   "source": []
  },
  {
   "cell_type": "markdown",
   "metadata": {},
   "source": [
    "#### Ejercicio 4\n",
    "Resuelve la ecuación de Poisson para una carga puntual tipo delta en algún punto de la malla. Utiliza condiciones de frontera $V(x_i, y_j) = 0$ (representando un campo que decae $0$ a una distancia grande desde la carga). Dibuja el potencial y el campo eléctrico."
   ]
  },
  {
   "cell_type": "code",
   "execution_count": null,
   "metadata": {},
   "outputs": [],
   "source": []
  },
  {
   "cell_type": "markdown",
   "metadata": {},
   "source": [
    "#### Ejercicio 5\n",
    "Encuentra el potencial y el campo eléctrico para un capacitor \"real\", es decir, dos placas paralelas de tamaño finito (menor de la caja), tanto entre las placas como afuera de ellas."
   ]
  },
  {
   "cell_type": "code",
   "execution_count": null,
   "metadata": {},
   "outputs": [],
   "source": []
  }
 ],
 "metadata": {
  "kernelspec": {
   "display_name": "Julia 1.0.3",
   "language": "julia",
   "name": "julia-1.0"
  },
  "language_info": {
   "file_extension": ".jl",
   "mimetype": "application/julia",
   "name": "julia",
   "version": "1.0.3"
  },
  "toc": {
   "colors": {
    "hover_highlight": "#DAA520",
    "running_highlight": "#FF0000",
    "selected_highlight": "#FFD700"
   },
   "moveMenuLeft": true,
   "nav_menu": {
    "height": "30px",
    "width": "252px"
   },
   "navigate_menu": true,
   "number_sections": true,
   "sideBar": true,
   "threshold": "2",
   "toc_cell": false,
   "toc_section_display": "block",
   "toc_window_display": false
  }
 },
 "nbformat": 4,
 "nbformat_minor": 1
}
