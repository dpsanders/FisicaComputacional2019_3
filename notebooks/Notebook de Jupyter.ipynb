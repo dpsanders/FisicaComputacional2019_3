{
 "cells": [
  {
   "cell_type": "markdown",
   "metadata": {},
   "source": [
    "## El notebook de Jupyter"
   ]
  },
  {
   "cell_type": "markdown",
   "metadata": {},
   "source": [
    "Los guiones de este curso son en formato de **notebooks** (cuadernos) para el entorno **Jupyter** (http://jupyter.org/). Esto es una aplicación que funciona a través de un navegador web, proporcionando así el mismo interfaz al usuario, independientemente de si esté corriendo en una computadora del otro lado del mundo, o en tu propia máquina.\n",
    "\n",
    "[Si prefieres una aplicación de escritorio, los mismos documentos tipo notebook se pueden utilizar también a través de la aplicación [`Nteract`](https://nteract.io/).]\n",
    "\n",
    "Para cada notebook, primero haz una copia del notebook (`File->Make a Copy`). Así tendrás una versión limpia, que además se puede actualizar posteriormente sin problemas.\n",
    "\n",
    "Recomendamos que crees un nuevo directorio con tus copias de los notebooks. Formarán una colección útil de notas y técnicas.\n",
    "\n",
    "### Teclas en el notebook\n",
    "\n",
    "Para evaluar una celda, oprime `Shift-Enter`. Puedes ejecutar `Shift-Enter` varias veces para ejecutar celdas contiguas.\n",
    "\n",
    "En `Help->Keyboard shortcuts`, hay una lista de las teclas que puedes utilizar para llevar a cabo distintas tareas adentro del notebook. Se recomienda ir aprendiendo paulatinamente las combinaciones más útiles. \n",
    "\n",
    "Para empezar, `Ctrl-m a` (teclear `Ctrl` y `m` juntos, y luego `a`) agrega una celda nueva **a**rriba, y `Ctrl-m b` agrega una a**b**ajo. `Ctrl-m d d` (con dos veces la letra 'd', de \"delete\") borra una celda.\n",
    "\n",
    "Para regresar a editar después de utilizar un comando, teclea `Enter` en la celda que quieres editar, \n",
    "\n",
    "### La tecla `tab`\n",
    "\n",
    "Otra tecla sumamente importante en el notebook es `<tab>` (\"tabulador\"), que se encuentra del lado izquierdo del teclado. Si tecleas unas cuantas letras de una palabra, y luego tecleas `<tab>`, verás todos los comandos, etc., que empiezan con aquellas letras. Es una manera muy útil de **descubrir** acerca de Julia. Sugerimos acostumbrarte a ¡utilizar `<tab>` a cada rato!"
   ]
  },
  {
   "cell_type": "markdown",
   "metadata": {},
   "source": [
    "### Tipos de celdas"
   ]
  },
  {
   "cell_type": "markdown",
   "metadata": {},
   "source": [
    "Hay dos tipos de celdas principales en un notebook:\n",
    "\n",
    "- Celdas de `Markdown`\n",
    "\n",
    "  - Se utilizan para teclear texto\n",
    "  \n",
    "  - `Ctrl-M M`\n",
    "  \n",
    "  \n",
    "- Celdas de código\n",
    "\n",
    "  - Se utilizan para código\n",
    "  \n",
    "  - `Ctrl-M Y`"
   ]
  }
 ],
 "metadata": {
  "kernelspec": {
   "display_name": "Julia 1.0.2",
   "language": "julia",
   "name": "julia-1.0"
  },
  "language_info": {
   "file_extension": ".jl",
   "mimetype": "application/julia",
   "name": "julia",
   "version": "1.0.2"
  }
 },
 "nbformat": 4,
 "nbformat_minor": 2
}
