{
 "cells": [
  {
   "cell_type": "markdown",
   "metadata": {},
   "source": [
    "# Métodos de Monte Carlo"
   ]
  },
  {
   "cell_type": "markdown",
   "metadata": {},
   "source": [
    "El término \"método de Monte Carlo\" se aplica en general a cualquier método numérico que emplea números aleatorios. Las caminatas aleatorias se pueden ver como un tipo de método de Monte Carlo.\n",
    "\n",
    "En este notebook, veremos dos tipos diferentes de métodos de Monte Carlo: uno para simulación estocástica de un problema físico que tiene la estocasticidad inherente; y otro para calcular una cantidad determinista (una integral).\n"
   ]
  },
  {
   "cell_type": "markdown",
   "metadata": {},
   "source": [
    "## Decaimiento radioactivo "
   ]
  },
  {
   "cell_type": "markdown",
   "metadata": {},
   "source": [
    "En esta sección, haremos un modelo de decaimiento radioactivo, el cual es un proceso físico inherentemente estocástico. Este proceso se suele modelar con una ecuación diferencial ordinaria, la cual, en mi opinión, es muy poco motivada. El modelaje estocástico explica mucho mejor lo que está pasando.\n",
    "\n",
    "Supón que empecemos con $N$ núcleos radioactivos, y que en cada paso $\\delta t$ de tiempo, una proporción $p$ decaen en promedio. Podemos modelar eso como sigue."
   ]
  },
  {
   "cell_type": "markdown",
   "metadata": {},
   "source": [
    "#### Ejercicio 1 "
   ]
  },
  {
   "cell_type": "markdown",
   "metadata": {},
   "source": [
    "(i) Toma $N = 100$ núcleos, y $p=0.01$. En cada paso, cada núcleo que siga sin decaerse decae con probabilidad $p$. Escribe una función para llevar a cabo la simulación por un cierto número de pasos; la función debe aceptar $N$ y $p$ como variables. \n",
    "\n",
    "En cada paso, calcula el número de núcleos que decaigan en ese paso.\n",
    "Devuelve el número de núcleos $N(t)$ en el tiempo $t$, para todos los $t$."
   ]
  },
  {
   "cell_type": "code",
   "execution_count": null,
   "metadata": {},
   "outputs": [],
   "source": []
  },
  {
   "cell_type": "markdown",
   "metadata": {},
   "source": [
    "(ii) Dibuja $N(t)$ en distintas corridas en una sola gráfica. ¿Qué observas? ¿Tiene sentido físico?"
   ]
  },
  {
   "cell_type": "code",
   "execution_count": null,
   "metadata": {},
   "outputs": [],
   "source": []
  },
  {
   "cell_type": "markdown",
   "metadata": {},
   "source": [
    "(iii) Calcula el promedio $\\langle N \\rangle (t)$ sobre distintas corridas y dibújalo encima de tu gráfica. ¿Qué tipo de comportamiento esperas que tenga? Verifica esto al dibujar la gráfica con otro tipo de eje."
   ]
  },
  {
   "cell_type": "markdown",
   "metadata": {},
   "source": [
    "#### Ejercicio 2"
   ]
  },
  {
   "cell_type": "markdown",
   "metadata": {},
   "source": [
    "(i) ¿Qué es la vida media? ¿Cómo lo puedes calcular? Escribe una función para calcular la vida media para una corrida. Calcula el promedio sobre varias corridas distintas. "
   ]
  },
  {
   "cell_type": "code",
   "execution_count": null,
   "metadata": {},
   "outputs": [],
   "source": []
  },
  {
   "cell_type": "markdown",
   "metadata": {},
   "source": [
    "(ii) ¿Cómo depende la vida media de $p$? Dibuja esta relación numéricamente. ¿Tiene sentido?"
   ]
  },
  {
   "cell_type": "code",
   "execution_count": null,
   "metadata": {},
   "outputs": [],
   "source": []
  },
  {
   "cell_type": "markdown",
   "metadata": {},
   "source": [
    "#### Ejercicio 3\n",
    "\n",
    "(i) En promedio, para $N$ y $p$ dadas, ¿cuántos núcleos decaen en un paso?"
   ]
  },
  {
   "cell_type": "code",
   "execution_count": null,
   "metadata": {},
   "outputs": [],
   "source": []
  },
  {
   "cell_type": "markdown",
   "metadata": {},
   "source": [
    "(ii) Utilizando esto, escribe una ecuación de evolución para $\\langle N \\rangle(t)$."
   ]
  },
  {
   "cell_type": "code",
   "execution_count": null,
   "metadata": {},
   "outputs": [],
   "source": []
  },
  {
   "cell_type": "markdown",
   "metadata": {},
   "source": [
    "(iii) ¿Cuál es la relación de esta ecuación con la ecuación diferencial ordinaria que se suele utilizar para modelar el decaimiento?"
   ]
  },
  {
   "cell_type": "code",
   "execution_count": null,
   "metadata": {},
   "outputs": [],
   "source": []
  },
  {
   "cell_type": "markdown",
   "metadata": {},
   "source": [
    "(iv) Fija $N$ y $p$ y simula un paso de decaimiento muchas veces. Dibuja la distribución de probabilidad del número de núcleos que decae. Esta distribución se llama la **distribución binomial**. "
   ]
  },
  {
   "cell_type": "code",
   "execution_count": null,
   "metadata": {},
   "outputs": [],
   "source": []
  },
  {
   "cell_type": "markdown",
   "metadata": {},
   "source": [
    "(v) Haz una visualización interactiva con `@manipulate` para poder variar $N$ y $p$."
   ]
  },
  {
   "cell_type": "code",
   "execution_count": null,
   "metadata": {},
   "outputs": [],
   "source": []
  },
  {
   "cell_type": "markdown",
   "metadata": {},
   "source": [
    "## Calcular $\\pi$"
   ]
  },
  {
   "cell_type": "markdown",
   "metadata": {},
   "source": [
    "¿Cómo podemos calcular $\\pi$ numéricamente? Por supuesto Julia tiene eso integrado: al teclear `\\pi<TAB>`, produce π."
   ]
  },
  {
   "cell_type": "code",
   "execution_count": null,
   "metadata": {},
   "outputs": [],
   "source": [
    "π"
   ]
  },
  {
   "cell_type": "markdown",
   "metadata": {},
   "source": [
    "#### Ejercicio 3"
   ]
  },
  {
   "cell_type": "markdown",
   "metadata": {},
   "source": [
    "(i) ¿De qué tipo es el objeto `π` en Julia? ¿Funciona correctamente en expresiones aritméticas?"
   ]
  },
  {
   "cell_type": "code",
   "execution_count": null,
   "metadata": {},
   "outputs": [],
   "source": []
  },
  {
   "cell_type": "markdown",
   "metadata": {},
   "source": [
    "De no conocer el valor de $\\pi$ lo podemos calcular de diversas formas, como ya vimos.\n",
    "Una manera es con un método de Monte Carlo, como sigue."
   ]
  },
  {
   "cell_type": "markdown",
   "metadata": {},
   "source": [
    "(ii) Dibuja un círculo de radio $r=1$. Dibuja un cuadrado que lo contiene. Genera muchos puntos distribuidos uniformemente en el cuadrado y dibújalos. Dibuja los puntos que caigan adentro del círculo con otro color."
   ]
  },
  {
   "cell_type": "code",
   "execution_count": null,
   "metadata": {},
   "outputs": [],
   "source": [
    "]add LaT"
   ]
  },
  {
   "cell_type": "code",
   "execution_count": 3,
   "metadata": {},
   "outputs": [
    {
     "name": "stdout",
     "output_type": "stream",
     "text": [
      "\u001b[32m\u001b[1m  Updating\u001b[22m\u001b[39m registry at `~/.julia/registries/General`\n",
      "\u001b[32m\u001b[1m  Updating\u001b[22m\u001b[39m git-repo `https://github.com/JuliaRegistries/General.git`\n",
      "\u001b[2K\u001b[?25h[1mFetching:\u001b[22m\u001b[39m [========================================>]  100.0 %.0 %52.9 %\u001b[32m\u001b[1m Resolving\u001b[22m\u001b[39m package versions...\n",
      "\u001b[32m\u001b[1m  Updating\u001b[22m\u001b[39m `~/.julia/environments/v1.0/Project.toml`\n",
      " \u001b[90m [b964fa9f]\u001b[39m\u001b[92m + LaTeXStrings v1.0.3\u001b[39m\n",
      "\u001b[32m\u001b[1m  Updating\u001b[22m\u001b[39m `~/.julia/environments/v1.0/Manifest.toml`\n",
      "\u001b[90m [no changes]\u001b[39m\n"
     ]
    }
   ],
   "source": [
    "using Pkg\n",
    "Pkg.add(\"LaTeXStrings\")"
   ]
  },
  {
   "cell_type": "code",
   "execution_count": 4,
   "metadata": {},
   "outputs": [],
   "source": [
    "using Plots\n",
    "using LaTeXStrings"
   ]
  },
  {
   "cell_type": "code",
   "execution_count": 10,
   "metadata": {},
   "outputs": [
    {
     "data": {
      "image/svg+xml": [
       "<?xml version=\"1.0\" encoding=\"utf-8\"?>\n",
       "<svg xmlns=\"http://www.w3.org/2000/svg\" xmlns:xlink=\"http://www.w3.org/1999/xlink\" width=\"600\" height=\"400\" viewBox=\"0 0 2400 1600\">\n",
       "<defs>\n",
       "  <clipPath id=\"clip9200\">\n",
       "    <rect x=\"0\" y=\"0\" width=\"2000\" height=\"2000\"/>\n",
       "  </clipPath>\n",
       "</defs>\n",
       "<defs>\n",
       "  <clipPath id=\"clip9201\">\n",
       "    <rect x=\"0\" y=\"0\" width=\"2400\" height=\"1600\"/>\n",
       "  </clipPath>\n",
       "</defs>\n",
       "<polygon clip-path=\"url(#clip9201)\" points=\"\n",
       "0,1600 2400,1600 2400,0 0,0 \n",
       "  \" fill=\"#ffffff\" fill-rule=\"evenodd\" fill-opacity=\"1\"/>\n",
       "<defs>\n",
       "  <clipPath id=\"clip9202\">\n",
       "    <rect x=\"480\" y=\"0\" width=\"1681\" height=\"1600\"/>\n",
       "  </clipPath>\n",
       "</defs>\n",
       "<polygon clip-path=\"url(#clip9201)\" points=\"\n",
       "251.149,1503.47 2321.26,1503.47 2321.26,125.984 251.149,125.984 \n",
       "  \" fill=\"#ffffff\" fill-rule=\"evenodd\" fill-opacity=\"1\"/>\n",
       "<defs>\n",
       "  <clipPath id=\"clip9203\">\n",
       "    <rect x=\"251\" y=\"125\" width=\"2071\" height=\"1378\"/>\n",
       "  </clipPath>\n",
       "</defs>\n",
       "<polyline clip-path=\"url(#clip9203)\" style=\"stroke:#000000; stroke-width:2; stroke-opacity:0.1; fill:none\" points=\"\n",
       "  563.423,1503.47 563.423,125.984 \n",
       "  \"/>\n",
       "<polyline clip-path=\"url(#clip9203)\" style=\"stroke:#000000; stroke-width:2; stroke-opacity:0.1; fill:none\" points=\"\n",
       "  1040.99,1503.47 1040.99,125.984 \n",
       "  \"/>\n",
       "<polyline clip-path=\"url(#clip9203)\" style=\"stroke:#000000; stroke-width:2; stroke-opacity:0.1; fill:none\" points=\"\n",
       "  1518.56,1503.47 1518.56,125.984 \n",
       "  \"/>\n",
       "<polyline clip-path=\"url(#clip9203)\" style=\"stroke:#000000; stroke-width:2; stroke-opacity:0.1; fill:none\" points=\"\n",
       "  1996.13,1503.47 1996.13,125.984 \n",
       "  \"/>\n",
       "<polyline clip-path=\"url(#clip9203)\" style=\"stroke:#000000; stroke-width:2; stroke-opacity:0.1; fill:none\" points=\"\n",
       "  251.149,1483.94 2321.26,1483.94 \n",
       "  \"/>\n",
       "<polyline clip-path=\"url(#clip9203)\" style=\"stroke:#000000; stroke-width:2; stroke-opacity:0.1; fill:none\" points=\"\n",
       "  251.149,1151.46 2321.26,1151.46 \n",
       "  \"/>\n",
       "<polyline clip-path=\"url(#clip9203)\" style=\"stroke:#000000; stroke-width:2; stroke-opacity:0.1; fill:none\" points=\"\n",
       "  251.149,818.981 2321.26,818.981 \n",
       "  \"/>\n",
       "<polyline clip-path=\"url(#clip9203)\" style=\"stroke:#000000; stroke-width:2; stroke-opacity:0.1; fill:none\" points=\"\n",
       "  251.149,486.502 2321.26,486.502 \n",
       "  \"/>\n",
       "<polyline clip-path=\"url(#clip9203)\" style=\"stroke:#000000; stroke-width:2; stroke-opacity:0.1; fill:none\" points=\"\n",
       "  251.149,154.022 2321.26,154.022 \n",
       "  \"/>\n",
       "<polyline clip-path=\"url(#clip9201)\" style=\"stroke:#000000; stroke-width:4; stroke-opacity:1; fill:none\" points=\"\n",
       "  251.149,1503.47 2321.26,1503.47 \n",
       "  \"/>\n",
       "<polyline clip-path=\"url(#clip9201)\" style=\"stroke:#000000; stroke-width:4; stroke-opacity:1; fill:none\" points=\"\n",
       "  251.149,1503.47 251.149,125.984 \n",
       "  \"/>\n",
       "<polyline clip-path=\"url(#clip9201)\" style=\"stroke:#000000; stroke-width:4; stroke-opacity:1; fill:none\" points=\"\n",
       "  563.423,1503.47 563.423,1482.81 \n",
       "  \"/>\n",
       "<polyline clip-path=\"url(#clip9201)\" style=\"stroke:#000000; stroke-width:4; stroke-opacity:1; fill:none\" points=\"\n",
       "  1040.99,1503.47 1040.99,1482.81 \n",
       "  \"/>\n",
       "<polyline clip-path=\"url(#clip9201)\" style=\"stroke:#000000; stroke-width:4; stroke-opacity:1; fill:none\" points=\"\n",
       "  1518.56,1503.47 1518.56,1482.81 \n",
       "  \"/>\n",
       "<polyline clip-path=\"url(#clip9201)\" style=\"stroke:#000000; stroke-width:4; stroke-opacity:1; fill:none\" points=\"\n",
       "  1996.13,1503.47 1996.13,1482.81 \n",
       "  \"/>\n",
       "<polyline clip-path=\"url(#clip9201)\" style=\"stroke:#000000; stroke-width:4; stroke-opacity:1; fill:none\" points=\"\n",
       "  251.149,1483.94 282.2,1483.94 \n",
       "  \"/>\n",
       "<polyline clip-path=\"url(#clip9201)\" style=\"stroke:#000000; stroke-width:4; stroke-opacity:1; fill:none\" points=\"\n",
       "  251.149,1151.46 282.2,1151.46 \n",
       "  \"/>\n",
       "<polyline clip-path=\"url(#clip9201)\" style=\"stroke:#000000; stroke-width:4; stroke-opacity:1; fill:none\" points=\"\n",
       "  251.149,818.981 282.2,818.981 \n",
       "  \"/>\n",
       "<polyline clip-path=\"url(#clip9201)\" style=\"stroke:#000000; stroke-width:4; stroke-opacity:1; fill:none\" points=\"\n",
       "  251.149,486.502 282.2,486.502 \n",
       "  \"/>\n",
       "<polyline clip-path=\"url(#clip9201)\" style=\"stroke:#000000; stroke-width:4; stroke-opacity:1; fill:none\" points=\"\n",
       "  251.149,154.022 282.2,154.022 \n",
       "  \"/>\n",
       "<g clip-path=\"url(#clip9201)\">\n",
       "<text style=\"fill:#000000; fill-opacity:1; font-family:Arial,Helvetica Neue,Helvetica,sans-serif; font-size:48px; text-anchor:middle;\" transform=\"rotate(0, 563.423, 1557.47)\" x=\"563.423\" y=\"1557.47\">0.2</text>\n",
       "</g>\n",
       "<g clip-path=\"url(#clip9201)\">\n",
       "<text style=\"fill:#000000; fill-opacity:1; font-family:Arial,Helvetica Neue,Helvetica,sans-serif; font-size:48px; text-anchor:middle;\" transform=\"rotate(0, 1040.99, 1557.47)\" x=\"1040.99\" y=\"1557.47\">0.4</text>\n",
       "</g>\n",
       "<g clip-path=\"url(#clip9201)\">\n",
       "<text style=\"fill:#000000; fill-opacity:1; font-family:Arial,Helvetica Neue,Helvetica,sans-serif; font-size:48px; text-anchor:middle;\" transform=\"rotate(0, 1518.56, 1557.47)\" x=\"1518.56\" y=\"1557.47\">0.6</text>\n",
       "</g>\n",
       "<g clip-path=\"url(#clip9201)\">\n",
       "<text style=\"fill:#000000; fill-opacity:1; font-family:Arial,Helvetica Neue,Helvetica,sans-serif; font-size:48px; text-anchor:middle;\" transform=\"rotate(0, 1996.13, 1557.47)\" x=\"1996.13\" y=\"1557.47\">0.8</text>\n",
       "</g>\n",
       "<g clip-path=\"url(#clip9201)\">\n",
       "<text style=\"fill:#000000; fill-opacity:1; font-family:Arial,Helvetica Neue,Helvetica,sans-serif; font-size:48px; text-anchor:end;\" transform=\"rotate(0, 227.149, 1501.44)\" x=\"227.149\" y=\"1501.44\">0.00</text>\n",
       "</g>\n",
       "<g clip-path=\"url(#clip9201)\">\n",
       "<text style=\"fill:#000000; fill-opacity:1; font-family:Arial,Helvetica Neue,Helvetica,sans-serif; font-size:48px; text-anchor:end;\" transform=\"rotate(0, 227.149, 1168.96)\" x=\"227.149\" y=\"1168.96\">0.25</text>\n",
       "</g>\n",
       "<g clip-path=\"url(#clip9201)\">\n",
       "<text style=\"fill:#000000; fill-opacity:1; font-family:Arial,Helvetica Neue,Helvetica,sans-serif; font-size:48px; text-anchor:end;\" transform=\"rotate(0, 227.149, 836.481)\" x=\"227.149\" y=\"836.481\">0.50</text>\n",
       "</g>\n",
       "<g clip-path=\"url(#clip9201)\">\n",
       "<text style=\"fill:#000000; fill-opacity:1; font-family:Arial,Helvetica Neue,Helvetica,sans-serif; font-size:48px; text-anchor:end;\" transform=\"rotate(0, 227.149, 504.002)\" x=\"227.149\" y=\"504.002\">0.75</text>\n",
       "</g>\n",
       "<g clip-path=\"url(#clip9201)\">\n",
       "<text style=\"fill:#000000; fill-opacity:1; font-family:Arial,Helvetica Neue,Helvetica,sans-serif; font-size:48px; text-anchor:end;\" transform=\"rotate(0, 227.149, 171.522)\" x=\"227.149\" y=\"171.522\">1.00</text>\n",
       "</g>\n",
       "<g clip-path=\"url(#clip9201)\">\n",
       "<image width=\"229\" height=\"90\" xlink:href=\"data:image/png;base64,\n",
       "iVBORw0KGgoAAAANSUhEUgAAAOUAAABaCAYAAABHVZG2AAAKwklEQVR4nO2d+3XiOhCHh3tuAYIS\n",
       "xFbgpAQ7FRBKcLYCSAlmKzApwZsKgBLMVmC7BJsO5v6RK68fkh/CBuHMd87vnMQHFHA0ntHoMTNE\n",
       "BIIgruN4POLn5yeEYQhJksDlcgEAAM45MMbAtm14fn6G19fXWWtjiEgikTTleR4yxhAAOst1XYyi\n",
       "CFVtzhDJUxJEX+I4xpeXF0iSBAC+PKLrumBZFnDOAQAgSRI4nU7w+fmZv66I53mw3W7rnvPeTxoS\n",
       "6dEUhmHu9TjnGIYhtr0nCAKpR7Vtu/beu39BEumRFEVRbly2bWOapqjz3ibDvPuXJJEeSZZlIQCg\n",
       "ZVmo8/6ily3K87y8vbt/SRLpURQEQW5EfTxkVZvNRmqYIvnzzzDDXoKYPh8fHwAAsFqtYD6ft09t\n",
       "KHh/f29sn7KvBNGBLMtwsViUrrmuC/v9Xss4HcfB0+lUusYYgyzLZuQpCaIDsimNj48P2O12Wl7N\n",
       "tu3atcvlAlmWIRklQXQgTVPp9SAItNpjjEmvJ0lCY0qC6IJYEND1ehvVUFiQpikZJUF0YblczmQG\n",
       "uF6vtdpTed7FYkFGSRBdCcMwHwtyzsH3/W4LzCXIxqiiXcq+EsQdeHp6wj9//pSucc4hjmPKvhLE\n",
       "rcmyrGaQAF/znwBA4StB3BrP86TXxaICMkqCuCFZluGvX79q1zebTb5KiIySIG6IzEtyzmG32+UJ\n",
       "I0r0EMSNOJ/P+Pz8XLrGGIMkSUprackoCeJGzOdzFGf3AHwZZBiGsFwuS9MqFL4SxA1wHKdmkKfT\n",
       "qWaQAGSUBDE6b29vpR0hnHMIwxCenp6kCw/IKAliRLbbLYp9kgBfu0NkIWsRMkqCGIntdlua/nBd\n",
       "F47H46xtgzQZJUGMQNUgfd/vvCH639E+FUF8U4oGKRI6qvGjDPKUBDEgRYO0LAuSJOllkABklAQx\n",
       "GEWDtG0bzudz6/hRsN/v8e3tDeM4vv+xfSTSFFQ8NtJ1Xez7fs55fszk3b8MifToKhpk8VDlPhLv\n",
       "R0RK9BDENRRD1iAItE4iOB6PCPD3vB8ySoLQRBikToa1iFjtY1kWAJBREoQWRYNsW6GjIo5jTJIE\n",
       "hKcVO0jIKAmiJ8WQ9XK5wI8fPwC+xoRXIcJXmhIhiB5UV+oMiQhfW41yv9+j4zg4n89xNpvhfD7H\n",
       "19dXFINTghiDOI5xu92i4zi4XC7zvuc4Du73e8yyrFP/E+2INmazGS6XS3QcB3///t2rD49pkADw\n",
       "NwRWpWjDMERRiw8AkDFWK3i5Wq200r8yFWvHy6rbkr6HwjBE27ZrZeJkxVY3m01jP6mWnJP1Yeg4\n",
       "jaGqKzmUOOf5Z5B+gMPhUDI8UTcPEcH3/VJjOhOlbTev640iTUvFvsU5R9/3S30vTVN0Xbe1PDki\n",
       "gjBsxhj6vl+rJ3k4HHC1WnXux8XalGOo6OBqf7z4RAiCQPpBqw12qfneJNnTawhjJz2Oisbm+37j\n",
       "/97zvMaITRhbU7Vl3/dRrKIZqh8PpdIvaZrm7r3pxlS/zDXhZhRF0idH2z+GNB2JSIkxVvKMTao+\n",
       "yIUDEW0Vw8Gqih6yTzh8K0k/bNtYURbv636Aajhs2lOLNK7E/7+PQSKWPaswwmKUp2qrKQwdMkdy\n",
       "jfJ5yvP5jJ+fnwDwt8yzjDiOsXpNFLvUKTldrWYr0F0dMRRZlmGSJJCmKRQPPHpUGGPAOdea5B6L\n",
       "OI7x58+fAPC1RK3PZ6tWwEqSJC++47qusq2mvq1b1m5whHWKgXGbCy8mgYqqDqS7SjaevHf2tRjG\n",
       "T00mJdBEdl8nbFRFWNDgJVX9TehwOBhxbwCxnNxpCyGqYQNcEb6qxpP37jiqB88UdO8HnlAxbNV5\n",
       "fzXZ0/X7yaZbAMwJXRH/N0phaE3ZKqEhPZvJ48nVajU5b8k5N8YbiGShbkJP5hwA1DMGQlEU1bKu\n",
       "pmX6S4bWdoNUHqTtRjR1fFl7974ppHElki3XJAhVHq/rMOpwOGAQBL2SS7dSKXRte7Hq6aT7x00c\n",
       "T5LGlzCoazyUrO90ifQeQf+I7KcoWNlEEAS1a13eJyOOY5RlNUUGjZguos9tNhut90+97/xrWRbY\n",
       "tq0sZCk4Ho/SG+G6rtYfVk2FTOXGEmpc1wXGmPb0jKwKMsCE+k5Xlyob/10zJqDxJElXQw+jTFPn\n",
       "/ZRiYUGR9Xqt/TCQecrJPOmIUZH1HbEXcQp0MkrVvjPd0HXqYwJiPMRKqypT6judjFKW4OGcay+F\n",
       "m/yYgBiN75CL6GSUstBVN+sKYO56V8J8VH3HcZzJ9J1Wo1SFrjSeJO7B1MeTAB2MUraqnjGm7dW+\n",
       "w5iAGIfv0ndajVL2ZBraSwJM78YSw/Nd+k7jua/n81kaul5zEx5pPHk+nzFN03t/jEFYLBZXTdib\n",
       "gKrviEOMJ0PTJKZqe4zu3knE+lEiYOB6V9pPaaZkfafp2I9HVWP4GoZh7RpjDHROGAB4nDFBGIaT\n",
       "OG1AhsrbmM4YfWe32+Hr66s0GrwrfZ9M12wGVZ2PYsL+yaps256ctzRpP+VQfUd322Capnkb10R+\n",
       "Y6hxTCkbT11zjskjjSePx6Nxn+k7M3SSR8wqcM61I7+xaDRKWQg3tFGaFroS45NlGYohQtd6jqpV\n",
       "ZboGJYxSd6nomPSuurVYLLT+0KOMJ4lxkdTjwDAMG6Ol8/ksXSut6yCOx2PeF000ysZED2Os07Uu\n",
       "qI72I6P8PqgK5LQZhqrv6Brl+/s7AAB4nmdc6AoAzYmeYoEfuGJg3TTFcO9BNek2Up1c2KUfqPqO\n",
       "ztGUImFk8lRKo6eUeTFZCNrGer2Wjk/JS34fmqZimjzebrfDy+UijdD6TlvFcYxiNZrv+73ee0sa\n",
       "jVK2nK7vPNd2u8XvsjyKUNP0MFftOIrjGIuhZvV1fRxElmX48vICAF9nAxm9q6TNlcqO8us6r6Na\n",
       "ESRk4vwkaRyp+kLTCXSi74m5cVmNyC59MU3T/KxXkw5dVqn1BVEU9S4Wm6ZpXvuPMVY7/Fbo3l+e\n",
       "dDsVJ+tFv2gaE4r+Ux37tZXBq+pwODxcMeJOLwrDsGaYtm3XPF0URbjZbPLXcs5RZtSPdINIw6lo\n",
       "UJZlSVcXBUGQP8Q551JPWC0ybNt26XVpmmIQBKWK0KaUueuizi8ser+qmkpWm1ovhHQfBUFQ6y+y\n",
       "suer1aoxNJWVvJC1ozJ+k9X7DVEUoed5WF0byjlH27ZrpaxV9UJMPC6edDuJ8uaWZZUiK9d1e+Ua\n",
       "fN8v9UXGGFqW1bsdkzRDxI4pIT0cx6llXznnEMexudkvgrgjnc991SHLMul0iIlLmwjCFEY1Stki\n",
       "YoDrTsIjiKkjXZAuVvEDXHd0n2yd42q1eugjKQhidIoDTFmGVZWW7jKQB0rwkEi9VfpFVYhTp46g\n",
       "bDG7aRVzSSQTlf+gmroQ3rJPo7K2TF6VTyKZpDzRIytNIOizby3LsnwRcRFV0ocgiDK5UTatuO8z\n",
       "heG6bm1Lje/7Rp7DQxBGIlymbAwIPceBsp0AtJyOROqn/AdZ1rWPQcnGkWSQJFJ/5T+IKQydkunV\n",
       "VfsAgL7v926HRCIppkSqW2FUiqIIq9MoYrvWvb8YifSoKv1S3KEN/+9Bk+2ZrO5Vo3CVRBpO0l0i\n",
       "b29vqDrWrwpjDFzXhff3dzOP6yOIB0O5dSvLMvz4+IDT6VQqeMM5B845WJYF6/WapjoIYmD+A8Qq\n",
       "GKZiKasAAAAAAElFTkSuQmCC\n",
       "\" transform=\"translate(1172, -1)\"/>\n",
       "</g>\n",
       "<g clip-path=\"url(#clip9201)\">\n",
       "<image width=\"71\" height=\"524\" xlink:href=\"data:image/png;base64,\n",
       "iVBORw0KGgoAAAANSUhEUgAAAEcAAAIMCAYAAACnsLGZAAAZI0lEQVR4nO2d/XWrOBOHJ3veArBL\n",
       "UG4FsktQbgUkJZCtgN0SnK0AuwRuKnBcAnYFtkuAdDDvH7lDZAICJIEgV79z5uzZXRybB6GP0Wjm\n",
       "DhGhqsvlgrvdDg6HA1yvVwAAWC6XIISAOI7h/v7+7suHKp//+fMnMMaAcw7r9RoYY7BarZSfm5wQ\n",
       "8cY2mw0CgNLiOMbq52TL8xyFEBgEwZfPMsZQCKH8/FTs5l/CMGwFI9/k+Xxuvcnz+YxxHH/5vOsb\n",
       "7wWnS4upWhAEnQD9fnVnB+cOEeFyueCPHz9uXrcgCGC9XgPnHAAArtcrnE6nsg+Sr7ter7BYLJT9\n",
       "yWKxwPf3d/l1nn7/g4gQRdFNa0jTtPHJZlmGQoibVsA5b20JjLHZtZybJs8YwzzPO/3w/X5/0+GG\n",
       "Yaj83CzhZFlW/uCu/QcZjUr0+c1m0/j5WcJJkgQBAKMo0v7B8mu53+9r/84s4dAw23RTfQEFQVD7\n",
       "as4Rzl80gqzXa6OOfbvd3kVRBO/v7yCEMPpbU9FfQRAAALQOxV203W7vwjCE0+kEj4+PX9clM9Nf\n",
       "y+USAD7WQzb+4K9fv+7CMITX11f4559/5g2IRivV3EbHaBRLkgTn2ucAIkIQBIMsBgnQfr/H2cKh\n",
       "dVV1xIrjGMMwNGpVtDqvrtBd33hnOIgfzV4ehqsrdHo9dIxzPu9VOfU9tLaqPmnT164KyPWN94JD\n",
       "gOocVNDBwdVmeZ6jDMj1jfeGQ7bZbG46UM555wVpV0Cub7yL3SGqpyJFUaCNCeLQf3MItcL5k/WX\n",
       "6x8wZXk4Cnk4CjmFUxQF2lrwDiEncIqiwIeHB1wul/Djxw+4u7vD5+fn6UFyMX+oW06AhqvWxtxL\n",
       "ZaOD2e/3yo1CHchCCGM37yTg0IKWHPtV67MDkmUZygtkIUTvHZRJwWGMlXtc1ZU/Y0z7xjabTbku\n",
       "NF0HOoMDlf2tNE0xDEOMosjKU6ddkLZNxknCCYLAaI+si6VpagXQ6HCEEJ321m0BUu3CTg4OjVa2\n",
       "HfpNDwIAtN0to8NB/OyIsywbFND5fDZqPU7gIH7OUeI4tuJIazIhhLaL1xkcxNuhPIqiQVpSHMcY\n",
       "BMH84CB+DbcLggDDMMQkSawM7RQoMTs4cuhKk5nC4pxrj47OwFR3QLsa7c5uNpvW15Baje68yokP\n",
       "+eHhAQ+Hg7W/J4QAxhgwxsoAzt1uBxRecz6fWwPL6/Q/a7+wo97e3kowQojyxgAAsiwrI1arUasq\n",
       "qUBHUaQFBgDcrsrbrs2yDDebzZfo1a42u+WDSURHV1hBEBgtG5zBAYsuhSZYs3VZMMYGWZXneY5J\n",
       "kpTb2Jxz43nS6HDGWJWTl7EpsnWycOiHD+HzlY0WnSahM6PDQfzolMfw6ZB7RDfwygkcckTZ6jhV\n",
       "NsvlA03thwY024Un/XAbWyp01IlzfgOcVv2zg4P40UHTlorJDkQ1XI9epTAMtbd8nMNB/JijyO4L\n",
       "znmv0YxGpqqZrsqdg5EtyzKMogh1RjPVckLXw+gciC1rOsBrMht3flM2Te6/TMEgOnJ2DS1b0arf\n",
       "Eo4t+ZhAhTwchTwchTwchTwchTwchTwchTwchTwchTwchTwchTwchTwchTwchTwchTwchTwchTwc\n",
       "hTwchTwchTwchTwchSYB5+XlBVerVecD+JfLBVerFb68vAy7r+R6lxLxM0Kia3gsbf3qnobpapNo\n",
       "ORSG3zVqna6T8ysPoUnAmao8HIU8HIU8HIU8HIU8HIU8HIU8HIU8HIU8HIU8HIU8HIU8HIU8HIU8\n",
       "HIU8HIU8HIU8HIU8HIU8HIU8HIU8HIU8HIU8HIU8HIU8HIU8HIU8HIU8HIU8HIU8HIU8HIU8HIU8\n",
       "HIU8HIU8HIU8HIU8HIUmBYdqp9u6zlSTgMM5BwAoM2q3ia7rer22XEevI36kwuubyHW/3w9aTAPx\n",
       "m+bssqVJvFZTlYejkIejkIejkIejkIejkIejkIejkIejkIejkIejkIejkIejkIejkIejkIejkIej\n",
       "kIejkIejkIejkIejkIejkIej0Oi1gwE+cnSlaQqMMViv1yCEgNVqZVwbxrZG39QrigKXy2Xt/6NC\n",
       "y1OBNTqcy+WCP3786HStc1gu9sap8nRf61rE3ZY5Cx5IkgTDMMRqocApwZpEIMHxeMTD4QBZlsHh\n",
       "cNBOcWf7NZwEnKoulwseDgcgcwbL1WvVx87nM5q+hkEQYBzHvWJ6nN+4Lqw0TTGKorI+eR+LoqgT\n",
       "JOc3asPyPMc0TZFz3qsltUWTOb8x20YVreF3Jdm211BV2Nn5zQxh5/MZgyBAxhjmeY5ZlmEcx42v\n",
       "YFO9T+c3MpRlWVZ741mWYd0ktA6Q85sY0ihvct0k8Xw+f+mjkiS5uc75DQxtNIS3ASSTS4I7//FD\n",
       "Gw33qmv2+/3NkmQScJIkwSiKUAiBYRjiZrOxHnjdtdI99VHya+gESpZlysmbEAKTJLECigq69wEZ\n",
       "hqEbOHme91oCmILinPcqDE+/zQmcKIqMXBR9QFGroZbQp/VkWYaj+5CzLIMgCIB8yNfrFa7XKxwO\n",
       "B3h9fVV+llbpf//9NzDGkHMOQghgjAG5XvM8h9PpBLvdrszyL4To/Pvo2uv1On7LgZYpe5qmtZM0\n",
       "XWsbqepee4CPGhSjw2GMdW7mNkDVTQBpSaF6gEmSjA8niiKtSh9pmqIQotequw6APGRDw/KCoI4O\n",
       "53w+9+4kq7bf7zGOYxRCIGOsHP0YY2WnrXo4VZByGRfqxPM8Hx8O4sfkjwANfdquanWtj1pydbHq\n",
       "BI4MKAgCTNN0NED0vVWjFhMEQfnAnMFB/Hg9aKbMGMM4jm8WfkNZUydf7aecwpGfpryc4Jz3PhDb\n",
       "18gHTeu6un7KOZhqS6Idhj5T/qFskvtWU5GPz1HIw1HIw1HISWSXrKIokFbPUwhYupGrkSDP89pF\n",
       "pWrF/keMVkVR4Hq9huv1Wvp0ZCVJAs/Pz7Wt6Hg8Ypqm5WcYYyCEgIeHB/utzsUTofUNLfiq/mR5\n",
       "B6CtpYE0u+1aB7SrjQ6GFnfyqlze34YaN0IfvzNjzFqk1+hwyGVQXY3T7LguPKRP9ASZjeXH6HDI\n",
       "59L1+qZVNK3mCWSWZbjZbG5amGkLGh1O2/Zs1ZpaTdPqXe6b+vqPncORO+Ku11ety+cJkEknPemW\n",
       "I+9hy9bVexgEgVFl6tGXD4wxOJ1Ona49HA5f/psQAhaLRac5zWazgff3dzgej3qTubFbDjX3LtfW\n",
       "9Td9Z9BQMzWYbMt5enoCAIDtdqt8mkVRYF0L67N7Sdd3rYP+RWO3HHqaQRAo/cVNQ3jf7+oSnzOZ\n",
       "lgPw2Res12t4e3v70oIulwv++++/Xz5HmSj7KAgCyPNc74e6aDnV/oQOeKRp+mUiJ5vOFk7X4KXa\n",
       "Fu4KTp7nvaLPdV+NzWYzr9cKAGCxWNxlWQZhGHa6Pk1Tre/Jskw/waurliPbfr9vDBLgnCs7bgrt\n",
       "b1pHMca0h3LnYKqWZRkmSYJpmrbuflJQggxSnj2Te0QVWDArOH2M9rdlk1f8NOHUDVZwfoMmVg2w\n",
       "JkP8dKCZ+KSd36CJVV8rstm6LGxb00y62v/o2LfYK6czoafTCYIgsLYb8S3gDCW/HayQh6OQh6OQ\n",
       "80CCqo7HI16v19LNsFwugTEGjLHO7lFrcj0U03yFgrehZWUex/H3T/RBpnuKZoygSmdQ8jzvdUi+\n",
       "yYQQg4XnOoNjA4xsQwR6O5kEvry83PiI5XNTjDF4f38vz2FlWdZ5nyuKIthut/Y6bRevE2j0G5QJ\n",
       "pe3kjMmBE+evFS0U+0Ra1JnqiJGu5885HLohW6dlaBpQBWQjymt0OH1O6vWFVO3kTUex0eGAoXeu\n",
       "zeRWZHp+YvS11dDFArfb7d1mswEAgNPpBL9+/dIfjsduOZzzQV6rqpGr1KT1jA7HdEegj9GOqm7f\n",
       "M/prtV6vAQBgt9sN/l1xHJt919gtR54EjnFkMQgC7TnV6C1nsVjcUQDSz58/B/8+k+AlJ55Aau7X\n",
       "6xUeHh4GXdzVna3oKidwHh4e7ii64nA4wP39PV4ul+ltg4zd58h9j+z565LUUMc459o7n87gIH49\n",
       "EAK/5yW2fDOmqSGcwkFs3s419RfLkWO6sJ3DQWyOlpBfuSiKOsXsIH60SHplTSLYJ7MdvN1u8e+/\n",
       "/+50bRAEsF6vIQiCMutSnudlBic5f7Lq1F+rXLca2bIsM0o7XjXTNZxzIFXL8xzrIrbGBjNJODIk\n",
       "3ZRUts56OofQBVKXlFScc+sZKifTIXcVHdKv7qUPsY8+OzhjyoegKOThKOThKDRrOA8PD7hYLPDx\n",
       "8RG1z3Gq5HqoNrHqgRLGmPY5h1nOc7pYnueYJEm542krn4XzG7NtaZqWrgrTVuT8ZhA/nFJZlmGW\n",
       "ZdZmuLQtbALIKRTVeU46RGbiOiVAultATqDoxANyzrVysZOjbDZw+uQ1rrM+udhNzpWPDqYueQcl\n",
       "5BgC1KyOTssHxaqOb0r/rVvYiwpr7Pd7pLOiJnlOR4dDma+79h00hzF5FXWDpUaHQ09Y57M6oPo8\n",
       "iEnAsRH2Vp0VN00HTGbKozu7FosFPj09WQ2mLooC0zQtt2UYY8A519+S+a3R4Tw8PGCe53A8HqeV\n",
       "h7RGo7sshBBwOp2gKIrJ+2dHhxNFEQCME/ZmrLE7ZMTbwhMuvn+yHTLARwdKJ2Qm3fe4eip1CVyn\n",
       "Zk6/nIKXhBCTfMWc/4D9fl8uPMcsqzILOIif5WypFY11+nfScCjZGCg8gXJa3z8Cjo4nkM5pJUky\n",
       "SuS7MzimnkD4vdoeGtboYGx7AoeENToc2hGo8wQifnTOup7AOlgmuxejw6Hq8308gVRDT/egvm4Y\n",
       "3Ohw6Ima/A1KRt+179KNRR4djsmTVMFStSxdB/vo+XOCINBP3tyg1Wp1t1qtyn8/Ho94OBwgyzK4\n",
       "Xq9AB2L7yoknEADg7e1tuqvx33LiCTwcDt4TWCc6hOY9gQ025vFpo8HDxZfSKT3TTCjfEg7i5zLC\n",
       "ewIbzHsCOwJqqi/u0pzGIdNwLoQo60A8Pz/jZIZ5V0+l7Vwn5xzjOB48F6DKnHypTuJEF7BGXz4c\n",
       "j0ekTCgmovR56/W6V1mnPhodzuPjI76+vpb1N4MgKPMCZll2c7K3j+jvkVmBNfYrxRhTuhAoHyDV\n",
       "LQdNTyDtXpiMgON3ctAvsovOeJq4TXWj2GfnsiiKAg+HA5B18Q0xxuByufT/vrFbDk36bGWB7NKy\n",
       "ZhOkjfg5lNvMeFKFFccxCiGQMaY9/DuBg/iR/UROxuF6wjcpODKk6i6CEGISoJzDIcvz/Ga7xTR1\n",
       "pg3zh+4VmvXp4KHl4Sjk4Sj0LeC8vb3harWyf/De5WhAwzjF5wghtCaFckyhzUmls2FbFSHRVp6y\n",
       "CRAtH2zNkZzAITBBEJTHDmnKL6+P+t6knBvQRnTX6GBov0q1oUdrL51TdpRV0sYkcnQ4tBXc9mTp\n",
       "Op3VO638TeOARofDGOu8DUydrM730Ktr8ltHH8qv12vnuuNUj0YnAz8FLG23W/3hfeyWAz3cpJSS\n",
       "XHc/3STdL+LEXyvTG6S+ZzbZ+xljkGVZ5+vX67V2DCHlej8cDlqfdxL29v7+3rkfof5JZ/98sVjc\n",
       "McbmA4fC3uggbJuoSj1llOwrzvl8EtTf39/fUfWz5+fn1tawXC4BAIx2QmcDB+C2ksfLy4sSkGnh\n",
       "nuVyqQ129NFKHrXg9xpKNQum4Vx3MRnHsXZ4vzN/jhxVvtvtYBB/DHyMVPRq9parloP4uX6SrXrG\n",
       "06TlmB7Pdgqn+nrJRqUNaCLXF46cz312O55kshdPZUKI0vejcmPs9/ubAoQmy4dJ7FsVRYF9Z8Jy\n",
       "WQOAj3lQXTHULMtgtVrNu7RBm+tUx0z9yc6h1L0WJmc7AewV9XEOo8na8nE1WRRF1qLhJ9HnqFQU\n",
       "Be52u/LUHQVXAnz0O8vlsgySfHx8tBpROnk4LvUtdjyHkoejkIejkIej0Kzh+NIGLRNGX9qgxXxp\n",
       "g47mSxt0MF/aoMUozacvbdBgvrRBS+uZzamZpoRmQ4HypQ1+2x9b2kC3pifAH1LaAPFjHvOtSxvY\n",
       "SGjWpQaEL20A9aUNbLhNZ3c6eEz5hGYK+YRmKo3dISP6hGatI41PaKYwn9CsxXxCs46AfEKzinxC\n",
       "swbzCc0azCc0a5BPaKZQNaEZhd/7hGboE5qpv7CnZ84nNOshn9Csh/mEZhqwZp/QjJ6sT2jW8JTr\n",
       "4o19QrMaUD6h2Yw065jAoeXhKOThKPQt4PiEZgrzCc06APIJzVqg+4RmLS0ILE0iR4fjE5opzCc0\n",
       "U8gnNFM11R5uUp/QbMAb9AnNFPIJzRTyCc1a5BOaKeQTminkE5opzCc0U8gnNGswn9BMAcYnNKuY\n",
       "T2gGPqGZsfmEZjXmE5o1mE9o5hOaude32PEcSh6OQh6OQk7gvL29DZNjy7KcdMh3d3cf2xCIRqPL\n",
       "8XjEIAjg/v5+mGPYLuYw8HtOYvp3aFXPOR8kwHLWcPI8R8quBL9dEzYCCL4FHBmSvBK3lQ7Pyo9L\n",
       "07R0J7iAQ3Y+n9EkAME6nLpMSm2n6oaCQ0ZHJE0BWfshKqvCGhoO4ufxAZMwFOMfQcFCOjZ0CL9p\n",
       "WggrP2K/32u5F7q+hrpGzvlJpKWycarONqwwDKeZ0GwKsEw29QaF0wRLF1IdrLb+JIoibThO11bn\n",
       "8xlOp1Ov85p1ks+Yy1EZh8MB/vvvPxBC6J0pHbPllM21YSi39RpWTXfGPCk4Q8AyiUeeNBwVrC5T\n",
       "B51jArLN2p9TFAVmWQan0wnonwCffdDz8/O88gQC2IMztJy4SU2jtcbS/1x8aZqm2sP2mPKbegr5\n",
       "rRmFZg2nKIpBk5/NGo4QApbLJVC9mbe3N7ugXEwCbdn5fL5J8QDwEZtjmnHJ6Qx5KNvv9ze52k1T\n",
       "ezq5ic1mg3S0qM+uRVeTt2pmtbYi12WdkZ8mTVMr0VmmZz0nBadqlLHNBFYYhvNKS6Vbw0HHXTqr\n",
       "iiFk1Hma5ALknJctq841QYfwZ9Vy6m7ClgeQOnrZ36M7ak1ybaWTC1Cl8/msF8PjutX0bVl9Nw+d\n",
       "bge7grXf7zGO40ZYdVWQ/gg4dSbPjk2K73xLODIkSlZkGuU1yQ7ZVJfLBX/+/AkAH0eKtHMju37S\n",
       "QxmFxpgsPp3fxJBGAUy67gvnNzC0mZSqnLUnsIuenp60c1k42ZohbbdbPJ1OcL1eIQgCEELA09OT\n",
       "1Uz8JukanDT1LMuUa6g+RUzbjIK4dT47Ohgq39QEpg6UiT+Hcz7NsLc606kWoguKWs1sVuWr1Qqv\n",
       "1yvsdrsyt831eoXD4QCvr6+d/45cVIMM4PN8+W63K/uaNE31zn+O3XIA1KGvaZoaVXut2rdNaNa3\n",
       "2mudzapiCPU5fTrYLtVe61qM6cbe6HBozWNSbJB8OVTXgUY/apWTOlLU12jNE4bhJGvpOYUjAwqC\n",
       "wHrVkNnDQbxN6kHJhGweQ5w1HLIkSW6WE0MdaJ0lHDJ5o89XDJm4vr0/x0QejkIejkKjwzkej3i5\n",
       "XGbR0Y3eId/f36PsFiUbLFmHgSZTATYIgrKaqxBCP7efTbmaz0BHz99ms3FWqtvZBEuuDdPVhBCj\n",
       "FiZ0Bodsaof1GWOlz9lpy5HdoZzzspyTKSyT3Qr6W87gUJ5iqlJUvRHbxZW7wpLDgJ3AoX0rxljn\n",
       "pzsErDrXiJy0xAkcigs28QDaghUEAYZhiEmSYJZlKKe7cQKHnp7Nv0mnZ3Qh1ZkTOADmdadUkGh6\n",
       "EIahMqByknBM4mW6WJ7nJRB5iG+LPp0EHNpOGfp7OOfKqNI2WE7g0Ob+0DsOfffH0jS96dydwJGH\n",
       "y6H3rKiT7ro2k2uoO4GD+FnvjjE2+FZMnz7O+TwH8XOGTHONIVfddBKny7XOZ8hkck5RALuJ5WXr\n",
       "exhtEnAQ61fkcRxbhdQ3Z5dcHtMpHLmcbdU458aOLlrH9dkgzPO87AedwqEf0zYxo061jytCni3r\n",
       "zsgnseNZFAX2CaYmfzPnvIwHXC6XZTwgnfAj5XmuF9vsuuXIJs8zbJlJIJNzIHWvg62CPLo5SScL\n",
       "R4akG1VqKyDKOYQ2o2DJLqA459biAREn0iH3UVEUSIHdeZ7DcrksO2WbB0oAfM4upXyUhUIejkKz\n",
       "hnO5XIatWeN6NDIxedlhei5rlkO5yuRhXnZxCiG+d8FBHcuy7KasihDCqCU5e+KU48Y07VSTkTNt\n",
       "VuetEJuPMtrI0SUbBUlNou6DKZwhYPXxIU8Cjm4JlrYoiTqb1dFpGZDJSWGAr1ESdd8xy4RmWZZh\n",
       "dZ6ik3aqrnXJp/cA9Es5OQNDT74p80DfjX+VOa1S1Mdo46xPZJcJLBOn1+hwqIM03QZug8U5n9/p\n",
       "YM65cSreOkuSpOxnZns62GRS1mbyJuEs11Y0/A7195siu2YBhwKxh/4eAmSyDBnd2cU5h/f3d9hu\n",
       "t4M6rw+HAwRBAFEU6f+RsVuOvHQYOnBpltneaEfTRhbINjOJXnUCpxrZNeQRodmtyhGnG9k1CTiI\n",
       "XyO7giCwns/CpBqjUzhtkV1JkhiB0onsmgwcuoG2xaSOR/B8Ppd/10d2LZdl5rg0Tcv6egA+sqvR\n",
       "fGRXg/nIrhrzkV2KEc7Wd0+iQ+6jusgu6qBtR3b9HzjJ8kE6g1HwAAAAAElFTkSuQmCC\n",
       "\" transform=\"translate(-1, 553)\"/>\n",
       "</g>\n",
       "<polyline clip-path=\"url(#clip9203)\" style=\"stroke:#009af9; stroke-width:4; stroke-opacity:1; fill:none\" points=\"\n",
       "  1643.66,509.754 2262.67,164.97 1534.61,881.512 384.293,205.883 1264.87,179.387 1928.43,871.118 1822.38,1464.49 309.737,1345.88 1093.61,822.736 525.972,358.964 \n",
       "  \n",
       "  \"/>\n",
       "<polygon clip-path=\"url(#clip9201)\" points=\"\n",
       "1958.43,330.464 2249.26,330.464 2249.26,209.504 1958.43,209.504 \n",
       "  \" fill=\"#ffffff\" fill-rule=\"evenodd\" fill-opacity=\"1\"/>\n",
       "<polyline clip-path=\"url(#clip9201)\" style=\"stroke:#000000; stroke-width:4; stroke-opacity:1; fill:none\" points=\"\n",
       "  1958.43,330.464 2249.26,330.464 2249.26,209.504 1958.43,209.504 1958.43,330.464 \n",
       "  \"/>\n",
       "<polyline clip-path=\"url(#clip9201)\" style=\"stroke:#009af9; stroke-width:4; stroke-opacity:1; fill:none\" points=\"\n",
       "  1982.43,269.984 2126.43,269.984 \n",
       "  \"/>\n",
       "<g clip-path=\"url(#clip9201)\">\n",
       "<text style=\"fill:#000000; fill-opacity:1; font-family:Arial,Helvetica Neue,Helvetica,sans-serif; font-size:48px; text-anchor:start;\" transform=\"rotate(0, 2150.43, 287.484)\" x=\"2150.43\" y=\"287.484\">y1</text>\n",
       "</g>\n",
       "</svg>\n"
      ]
     },
     "execution_count": 10,
     "metadata": {},
     "output_type": "execute_result"
    }
   ],
   "source": [
    "plot(rand(10), rand(10), title=L\"y=x^2\", ylabel=L\"aquí tenemos y=x^2\")"
   ]
  },
  {
   "cell_type": "code",
   "execution_count": 11,
   "metadata": {},
   "outputs": [],
   "source": [
    "savefig(\"hola.pdf\")"
   ]
  },
  {
   "cell_type": "code",
   "execution_count": 12,
   "metadata": {},
   "outputs": [],
   "source": [
    ";open hola.pdf"
   ]
  },
  {
   "cell_type": "code",
   "execution_count": 13,
   "metadata": {},
   "outputs": [],
   "source": [
    "savefig(\"hola.png\")"
   ]
  },
  {
   "cell_type": "code",
   "execution_count": 14,
   "metadata": {},
   "outputs": [],
   "source": [
    ";open hola.png"
   ]
  },
  {
   "cell_type": "markdown",
   "metadata": {},
   "source": [
    "(iii) Utiliza esto para determinar el área del círculo, y de ahí el valor de $\\pi$."
   ]
  },
  {
   "cell_type": "code",
   "execution_count": null,
   "metadata": {},
   "outputs": [],
   "source": []
  },
  {
   "cell_type": "markdown",
   "metadata": {},
   "source": [
    "## Calcular integrales"
   ]
  },
  {
   "cell_type": "markdown",
   "metadata": {},
   "source": [
    "Este tipo de métodos se pueden ocupar para calcular otras integrales complicadas, las cuales serían difíciles o imposibles de evaluar con otros métodos. Por ejemplo:"
   ]
  },
  {
   "cell_type": "markdown",
   "metadata": {},
   "source": [
    "#### Ejercicio 4\n",
    "Considera la función complicada (patológica) $$f(x) = \\sin^2 (\\textstyle \\frac{1}{x}).$$\n",
    "\n",
    "(i) Dibuja la función para $x$ entre $-2$ y $2$."
   ]
  },
  {
   "cell_type": "code",
   "execution_count": null,
   "metadata": {},
   "outputs": [],
   "source": []
  },
  {
   "cell_type": "markdown",
   "metadata": {},
   "source": [
    "Sea $I(x) := \\int_0^x f(x') dx'$. Sabemos que $0 < I(x) < x$ para toda $x$ (¿por qué?), pero no está fácil calcular su valor, ni siquiera con los métodos numéricos estándares, debido a la naturaleza complicada de la función cerca de $x = 0$.\n",
    "\n",
    "(ii) Utiliza un método parecido al que usamos en la pregunta 2 para calcular $I(x)$ para un valor de $x$ dado. "
   ]
  },
  {
   "cell_type": "code",
   "execution_count": null,
   "metadata": {},
   "outputs": [],
   "source": []
  },
  {
   "cell_type": "markdown",
   "metadata": {},
   "source": [
    "(iii) Dibuja la función $I(x)$."
   ]
  },
  {
   "cell_type": "code",
   "execution_count": null,
   "metadata": {},
   "outputs": [],
   "source": []
  },
  {
   "cell_type": "markdown",
   "metadata": {},
   "source": [
    "Los métodos tipo Monte Carlo pueden ser mucho más complicados que esto, en particular para calcular integrales en dimensión alta que son simplemente imposibles de calcular de cualquier otra manera."
   ]
  }
 ],
 "metadata": {
  "kernelspec": {
   "display_name": "Julia 1.0.3",
   "language": "julia",
   "name": "julia-1.0"
  },
  "language_info": {
   "file_extension": ".jl",
   "mimetype": "application/julia",
   "name": "julia",
   "version": "1.0.3"
  }
 },
 "nbformat": 4,
 "nbformat_minor": 1
}
