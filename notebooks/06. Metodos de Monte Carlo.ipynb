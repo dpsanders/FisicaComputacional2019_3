{
 "cells": [
  {
   "cell_type": "markdown",
   "metadata": {},
   "source": [
    "# Métodos de Monte Carlo"
   ]
  },
  {
   "cell_type": "markdown",
   "metadata": {},
   "source": [
    "El término \"método de Monte Carlo\" se aplica en general a cualquier método numérico que emplea números aleatorios. Las caminatas aleatorias se pueden ver como un tipo de método de Monte Carlo.\n",
    "\n",
    "En este notebook, veremos dos tipos diferentes de métodos de Monte Carlo: uno para simulación estocástica de un problema físico que tiene la estocasticidad inherente; y otro para calcular una cantidad determinista (una integral).\n"
   ]
  },
  {
   "cell_type": "markdown",
   "metadata": {},
   "source": [
    "## Decaimiento radioactivo "
   ]
  },
  {
   "cell_type": "markdown",
   "metadata": {},
   "source": [
    "En esta sección, haremos un modelo de decaimiento radioactivo, el cual es un proceso físico inherentemente estocástico. Este proceso se suele modelar con una ecuación diferencial ordinaria, la cual, en mi opinión, es muy poco motivada. El modelaje estocástico explica mucho mejor lo que está pasando.\n",
    "\n",
    "Supón que empecemos con $N$ núcleos radioactivos, y que en cada paso $\\delta t$ de tiempo, una proporción $p$ decaen en promedio. Podemos modelar eso como sigue."
   ]
  },
  {
   "cell_type": "markdown",
   "metadata": {},
   "source": [
    "#### Ejercicio 1 "
   ]
  },
  {
   "cell_type": "markdown",
   "metadata": {},
   "source": [
    "(i) Toma $N = 100$ núcleos, y $p=0.01$. En cada paso, cada núcleo que siga sin decaerse decae con probabilidad $p$. Escribe una función para llevar a cabo la simulación por un cierto número de pasos; la función debe aceptar $N$ y $p$ como variables. \n",
    "\n",
    "En cada paso, calcula el número de núcleos que decaigan en ese paso.\n",
    "Devuelve el número de núcleos $N(t)$ en el tiempo $t$, para todos los $t$."
   ]
  },
  {
   "cell_type": "code",
   "execution_count": null,
   "metadata": {},
   "outputs": [],
   "source": []
  },
  {
   "cell_type": "markdown",
   "metadata": {},
   "source": [
    "(ii) Dibuja $N(t)$ en distintas corridas en una sola gráfica. ¿Qué observas? ¿Tiene sentido físico?"
   ]
  },
  {
   "cell_type": "code",
   "execution_count": null,
   "metadata": {},
   "outputs": [],
   "source": []
  },
  {
   "cell_type": "markdown",
   "metadata": {},
   "source": [
    "(iii) Calcula el promedio $\\langle N \\rangle (t)$ sobre distintas corridas y dibújalo encima de tu gráfica. ¿Qué tipo de comportamiento esperas que tenga? Verifica esto al dibujar la gráfica con otro tipo de eje."
   ]
  },
  {
   "cell_type": "markdown",
   "metadata": {},
   "source": [
    "#### Ejercicio 2"
   ]
  },
  {
   "cell_type": "markdown",
   "metadata": {},
   "source": [
    "(i) ¿Qué es la vida media? ¿Cómo lo puedes calcular? Escribe una función para calcular la vida media para una corrida. Calcula el promedio sobre varias corridas distintas. "
   ]
  },
  {
   "cell_type": "code",
   "execution_count": null,
   "metadata": {},
   "outputs": [],
   "source": []
  },
  {
   "cell_type": "markdown",
   "metadata": {},
   "source": [
    "(ii) ¿Cómo depende la vida media de $p$? Dibuja esta relación numéricamente. ¿Tiene sentido?"
   ]
  },
  {
   "cell_type": "code",
   "execution_count": null,
   "metadata": {},
   "outputs": [],
   "source": []
  },
  {
   "cell_type": "markdown",
   "metadata": {},
   "source": [
    "#### Ejercicio 3\n",
    "\n",
    "(i) En promedio, para $N$ y $p$ dadas, ¿cuántos núcleos decaen en un paso?"
   ]
  },
  {
   "cell_type": "code",
   "execution_count": null,
   "metadata": {},
   "outputs": [],
   "source": []
  },
  {
   "cell_type": "markdown",
   "metadata": {},
   "source": [
    "(ii) Utilizando esto, escribe una ecuación de evolución para $\\langle N \\rangle(t)$."
   ]
  },
  {
   "cell_type": "code",
   "execution_count": null,
   "metadata": {},
   "outputs": [],
   "source": []
  },
  {
   "cell_type": "markdown",
   "metadata": {},
   "source": [
    "(iii) ¿Cuál es la relación de esta ecuación con la ecuación diferencial ordinaria que se suele utilizar para modelar el decaimiento?"
   ]
  },
  {
   "cell_type": "code",
   "execution_count": null,
   "metadata": {},
   "outputs": [],
   "source": []
  },
  {
   "cell_type": "markdown",
   "metadata": {},
   "source": [
    "(iv) Fija $N$ y $p$ y simula un paso de decaimiento muchas veces. Dibuja la distribución de probabilidad del número de núcleos que decae. Esta distribución se llama la **distribución binomial**. "
   ]
  },
  {
   "cell_type": "code",
   "execution_count": null,
   "metadata": {},
   "outputs": [],
   "source": []
  },
  {
   "cell_type": "markdown",
   "metadata": {},
   "source": [
    "(v) Haz una visualización interactiva con `@manipulate` para poder variar $N$ y $p$."
   ]
  },
  {
   "cell_type": "code",
   "execution_count": null,
   "metadata": {},
   "outputs": [],
   "source": []
  },
  {
   "cell_type": "markdown",
   "metadata": {},
   "source": [
    "## Calcular $\\pi$"
   ]
  },
  {
   "cell_type": "markdown",
   "metadata": {},
   "source": [
    "¿Cómo podemos calcular $\\pi$ numéricamente? Por supuesto Julia tiene eso integrado: al teclear `\\pi<TAB>`, produce π."
   ]
  },
  {
   "cell_type": "code",
   "execution_count": null,
   "metadata": {},
   "outputs": [],
   "source": [
    "π"
   ]
  },
  {
   "cell_type": "markdown",
   "metadata": {},
   "source": [
    "#### Ejercicio 3"
   ]
  },
  {
   "cell_type": "markdown",
   "metadata": {},
   "source": [
    "(i) ¿De qué tipo es el objeto `π` en Julia? ¿Funciona correctamente en expresiones aritméticas?"
   ]
  },
  {
   "cell_type": "code",
   "execution_count": null,
   "metadata": {},
   "outputs": [],
   "source": []
  },
  {
   "cell_type": "markdown",
   "metadata": {},
   "source": [
    "De no conocer el valor de $\\pi$ lo podemos calcular de diversas formas, como ya vimos.\n",
    "Una manera es con un método de Monte Carlo, como sigue."
   ]
  },
  {
   "cell_type": "markdown",
   "metadata": {},
   "source": [
    "(ii) Dibuja un círculo de radio $r=1$. Dibuja un cuadrado que lo contiene. Genera muchos puntos distribuidos uniformemente en el cuadrado y dibújalos. Dibuja los puntos que caigan adentro del círculo con otro color."
   ]
  },
  {
   "cell_type": "code",
   "execution_count": null,
   "metadata": {},
   "outputs": [],
   "source": []
  },
  {
   "cell_type": "markdown",
   "metadata": {},
   "source": [
    "(iii) Utiliza esto para determinar el área del círculo, y de ahí el valor de $\\pi$."
   ]
  },
  {
   "cell_type": "code",
   "execution_count": null,
   "metadata": {},
   "outputs": [],
   "source": []
  },
  {
   "cell_type": "markdown",
   "metadata": {},
   "source": [
    "## Calcular integrales"
   ]
  },
  {
   "cell_type": "markdown",
   "metadata": {},
   "source": [
    "Este tipo de métodos se pueden ocupar para calcular otras integrales complicadas, las cuales serían difíciles o imposibles de evaluar con otros métodos. Por ejemplo:"
   ]
  },
  {
   "cell_type": "markdown",
   "metadata": {},
   "source": [
    "#### Ejercicio 4\n",
    "Considera la función complicada (patológica) $$f(x) = \\sin^2 (\\textstyle \\frac{1}{x}).$$\n",
    "\n",
    "(i) Dibuja la función para $x$ entre $-2$ y $2$."
   ]
  },
  {
   "cell_type": "code",
   "execution_count": null,
   "metadata": {},
   "outputs": [],
   "source": []
  },
  {
   "cell_type": "markdown",
   "metadata": {},
   "source": [
    "Sea $I(x) := \\int_0^x f(x') dx'$. Sabemos que $0 < I(x) < x$ para toda $x$ (¿por qué?), pero no está fácil calcular su valor, ni siquiera con los métodos numéricos estándares, debido a la naturaleza complicada de la función cerca de $x = 0$.\n",
    "\n",
    "(ii) Utiliza un método parecido al que usamos en la pregunta 2 para calcular $I(x)$ para un valor de $x$ dado. "
   ]
  },
  {
   "cell_type": "code",
   "execution_count": null,
   "metadata": {},
   "outputs": [],
   "source": []
  },
  {
   "cell_type": "markdown",
   "metadata": {},
   "source": [
    "(iii) Dibuja la función $I(x)$."
   ]
  },
  {
   "cell_type": "code",
   "execution_count": null,
   "metadata": {},
   "outputs": [],
   "source": []
  },
  {
   "cell_type": "markdown",
   "metadata": {},
   "source": [
    "Los métodos tipo Monte Carlo pueden ser mucho más complicados que esto, en particular para calcular integrales en dimensión alta que son simplemente imposibles de calcular de cualquier otra manera."
   ]
  }
 ],
 "metadata": {
  "kernelspec": {
   "display_name": "Julia 1.0.3",
   "language": "julia",
   "name": "julia-1.0"
  },
  "language_info": {
   "file_extension": ".jl",
   "mimetype": "application/julia",
   "name": "julia",
   "version": "1.0.3"
  }
 },
 "nbformat": 4,
 "nbformat_minor": 1
}
