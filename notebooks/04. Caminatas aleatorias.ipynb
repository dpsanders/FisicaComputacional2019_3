{
 "cells": [
  {
   "cell_type": "markdown",
   "metadata": {},
   "source": [
    "# Caminatas aleatorias"
   ]
  },
  {
   "cell_type": "markdown",
   "metadata": {},
   "source": [
    "En este notebook, empezaremos a explorar la modelación de una **caminata aleatoria**, o sea el **movimiento Browniano** -- un movimiento aleatorio de una partícula moviéndose en un fluido. Llevaremos a cabo una primera simulación computacional de este sistema. "
   ]
  },
  {
   "cell_type": "markdown",
   "metadata": {},
   "source": [
    "## Modelaje\n",
    "\n",
    "Para hacer un modelo matemático / computacional de un sistema físico, siempre es necesario hacer unas simplificaciones.\n",
    "Para empezar a modelar una partícula en un fluido, haremos unas simplificaciones bastante drásticas:\n",
    "\n",
    "- En lugar de modelar el fluido, modelaremos el fluido a través de impactos **aleatorios** sobre la partícula. \n",
    "\n",
    "\n",
    "- Supondremos (aunque no es nada realista) que los impactos causen que la partícula dé brincos en el espacio.\n",
    "\n",
    "\n",
    "- Supondremos que los impactos occurran en tiempos espaciados de forma regular, así que podemos hablar de pasos de tiempo.\n",
    "\n",
    "\n",
    "- Supondremos que la partícula brinque la misma distancia en cada pasito, y que vive en una red.\n",
    "\n",
    "Por supuesto, todas estas restricciones se pueden quitar después."
   ]
  },
  {
   "cell_type": "markdown",
   "metadata": {},
   "source": [
    "## Números aleatorios"
   ]
  },
  {
   "cell_type": "markdown",
   "metadata": {},
   "source": [
    "Julia tiene una función `rand` para generar cosas aleatorias (\"*rand*om\", en inglés).\n",
    "Esta función tiene distintas variantes para generar distintos tipos de objetos aleatorios."
   ]
  },
  {
   "cell_type": "markdown",
   "metadata": {},
   "source": [
    "#### Ejercicio 1\n",
    "(i) Ejecuta la función `rand` varias veces, para adivinar qué es lo que está produciendo."
   ]
  },
  {
   "cell_type": "code",
   "execution_count": null,
   "metadata": {},
   "outputs": [],
   "source": []
  },
  {
   "cell_type": "markdown",
   "metadata": {},
   "source": [
    "(ii) Ahora pon `rand(Bool)` varias veces. ¿Qué es lo que genera? Nota que `Bool` quiere decir una variable *Bool*eana."
   ]
  },
  {
   "cell_type": "code",
   "execution_count": null,
   "metadata": {},
   "outputs": [],
   "source": []
  },
  {
   "cell_type": "markdown",
   "metadata": {},
   "source": [
    "(iii) ¿Qué pasa si pones `rand(n)` con algún número `n` adentro?"
   ]
  },
  {
   "cell_type": "code",
   "execution_count": null,
   "metadata": {},
   "outputs": [],
   "source": []
  },
  {
   "cell_type": "markdown",
   "metadata": {},
   "source": [
    "## Caminatas aleatorias"
   ]
  },
  {
   "cell_type": "markdown",
   "metadata": {},
   "source": [
    "El modelo más sencillo consiste en una **caminata aleatoria**; en la versión más sencilla, una partícula se mueve en una dimensión y vive en los enteros, haciendo brincos a la izquierda con probabilidad $\\frac{1}{2}$, y a la derecha con probabilidad $\\frac{1}{2}$."
   ]
  },
  {
   "cell_type": "markdown",
   "metadata": {},
   "source": [
    "¿Qué necesitaremos para *programar* una caminata aleatoria en la computadora? Ya hemos visto como generar un `Bool` aleatorio. Pero necesitamos más bien un *brinco* aleatorio, como sigue."
   ]
  },
  {
   "cell_type": "markdown",
   "metadata": {},
   "source": [
    "### Ejercicio 2\n",
    "\n",
    "(i) Define una variable `r` que es igual al resultado de `rand(Bool)`. Conviértelo a un número entero `s`, usando la función `Int`. (Entero en inglés es \"*int*eger\".) [Nota que en Julia, sí importa si los nombres se escriben con mayúsculas o minúsculas.]"
   ]
  },
  {
   "cell_type": "code",
   "execution_count": null,
   "metadata": {},
   "outputs": [],
   "source": []
  },
  {
   "cell_type": "markdown",
   "metadata": {},
   "source": [
    "(ii) ¿Cuáles valores puede tomar `s`?"
   ]
  },
  {
   "cell_type": "code",
   "execution_count": null,
   "metadata": {},
   "outputs": [],
   "source": []
  },
  {
   "cell_type": "markdown",
   "metadata": {},
   "source": [
    "(ii) Para una caminata aleatoria, necesitamos brincos de tamaño $1$ o $-1$. Cómo puedes utilizar aritmética para generar un brinco $\\Delta$ a partir de `s`? "
   ]
  },
  {
   "cell_type": "code",
   "execution_count": null,
   "metadata": {},
   "outputs": [],
   "source": []
  },
  {
   "cell_type": "markdown",
   "metadata": {},
   "source": [
    "#### Ejercicio 3\n",
    "\n",
    "Ahora hagamos nuestra primera simulación, de una caminata aleatoria.\n",
    "\n",
    "(i) Define una función `caminata` que tome un argumento `n` y simule una caminata aleatoria de `n` pasos. Escribe la posición en cada paso en la pantalla."
   ]
  },
  {
   "cell_type": "code",
   "execution_count": null,
   "metadata": {},
   "outputs": [],
   "source": []
  },
  {
   "cell_type": "markdown",
   "metadata": {},
   "source": [
    "(ii) En lugar de imprimir las posiciones, guárdalas en un vector y regresa el vector de la función."
   ]
  },
  {
   "cell_type": "code",
   "execution_count": null,
   "metadata": {},
   "outputs": [],
   "source": []
  },
  {
   "cell_type": "markdown",
   "metadata": {},
   "source": [
    "### Guardar los datos"
   ]
  },
  {
   "cell_type": "markdown",
   "metadata": {},
   "source": [
    "#### Ejercicio 4\n",
    "\n",
    "(i) Guarda los datos que se generaron con \n",
    "\n",
    "```\n",
    "using DelimitedFiles  # paquete para escribir y leer datos\n",
    "writedlm(\"archivo.dat\", v)\n",
    "```\n",
    "donde el primer argumento es el nombre del archivo que escribir, y `v` es la variable que escribir. "
   ]
  },
  {
   "cell_type": "code",
   "execution_count": null,
   "metadata": {},
   "outputs": [],
   "source": []
  },
  {
   "cell_type": "markdown",
   "metadata": {},
   "source": [
    "(ii) Utiliza `readdlm` para leer el archivo y guardar el resultado en una variable llamada `nuevo`."
   ]
  },
  {
   "cell_type": "code",
   "execution_count": null,
   "metadata": {},
   "outputs": [],
   "source": []
  },
  {
   "cell_type": "markdown",
   "metadata": {},
   "source": [
    "### Visualización"
   ]
  },
  {
   "cell_type": "markdown",
   "metadata": {},
   "source": [
    "Ahora visualicemos las trayectorias de unos caminantes."
   ]
  },
  {
   "cell_type": "markdown",
   "metadata": {},
   "source": [
    "#### Ejercicio 5\n",
    "\n",
    "(i) Crea un camino `camino1` con 10 pasos. "
   ]
  },
  {
   "cell_type": "code",
   "execution_count": null,
   "metadata": {},
   "outputs": [],
   "source": []
  },
  {
   "cell_type": "markdown",
   "metadata": {},
   "source": [
    "(ii) Dibújalo."
   ]
  },
  {
   "cell_type": "code",
   "execution_count": null,
   "metadata": {},
   "outputs": [],
   "source": []
  },
  {
   "cell_type": "markdown",
   "metadata": {},
   "source": [
    "(iii) Pon también puntos utilizando el \"argumento de palabra clave\" `m='o'` adentro del comando de `plot`."
   ]
  },
  {
   "cell_type": "code",
   "execution_count": null,
   "metadata": {},
   "outputs": [],
   "source": []
  },
  {
   "cell_type": "markdown",
   "metadata": {},
   "source": [
    "(iv) Dibuja únicamente los puntos al utilizar `scatter` en lugar de `plot`."
   ]
  },
  {
   "cell_type": "code",
   "execution_count": null,
   "metadata": {},
   "outputs": [],
   "source": []
  },
  {
   "cell_type": "markdown",
   "metadata": {},
   "source": [
    "(v) Crea y dibuja 5 caminos en la misma gráfica, utilizando `plot!` (con `!` al final) para agregar elementos a un dibujo pre-existente."
   ]
  },
  {
   "cell_type": "code",
   "execution_count": null,
   "metadata": {},
   "outputs": [],
   "source": []
  },
  {
   "cell_type": "markdown",
   "metadata": {},
   "source": [
    "#### Ejercicio 6\n",
    "\n",
    "Ahora podemos empezar a ver cosas interesantes.\n",
    "\n",
    "(i) Utiliza un bucle `for` para dibujar 100 caminos con 100 pasos cada uno. Para hacerlo, primero crea un `plot` vacío con el nombre `p` y sin leyenda (`leg=false`). Luego dibuja los caminantes. Al final, muestra el objeto `p`."
   ]
  },
  {
   "cell_type": "code",
   "execution_count": null,
   "metadata": {},
   "outputs": [],
   "source": []
  },
  {
   "cell_type": "markdown",
   "metadata": {},
   "source": [
    "(ii) ¿Qué observas? ¿Cómo parece crecer la nube de caminantes en el tiempo? ¿Cómo podrías pensar en averiguar eso numéricamente? **Opcional: ¡Hazlo!"
   ]
  },
  {
   "cell_type": "code",
   "execution_count": null,
   "metadata": {},
   "outputs": [],
   "source": []
  },
  {
   "cell_type": "markdown",
   "metadata": {},
   "source": [
    "(iii) En la gráfica, los caminos se sobreponen, así que no se puede ver cuántos caminantes pasaron por un punto dado en cada paso. En un paso dado, ¿qué harías para ver esto? **Opcional: ¡Hazlo!"
   ]
  },
  {
   "cell_type": "code",
   "execution_count": null,
   "metadata": {},
   "outputs": [],
   "source": []
  }
 ],
 "metadata": {
  "kernelspec": {
   "display_name": "Julia 1.0.3",
   "language": "julia",
   "name": "julia-1.0"
  },
  "language_info": {
   "file_extension": ".jl",
   "mimetype": "application/julia",
   "name": "julia",
   "version": "1.0.3"
  }
 },
 "nbformat": 4,
 "nbformat_minor": 1
}
