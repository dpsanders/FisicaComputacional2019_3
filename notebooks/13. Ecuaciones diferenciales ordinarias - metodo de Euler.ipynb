{
 "cells": [
  {
   "cell_type": "markdown",
   "metadata": {},
   "source": [
    "# Ecuaciones diferenciales ordinarias: el método de Euler"
   ]
  },
  {
   "cell_type": "markdown",
   "metadata": {},
   "source": [
    "Recordemos que una **ecuación diferencial ordinaria (EDO)** es (aproximadamente) una ecuación en la cual aparece una (o más) derivada(s) de una función, y para la cual queremos buscar la función que satisface esta relación.\n",
    "\n",
    "La EDO más simple no-trivial y físicamente relevante en una variable es \n",
    "\n",
    "$$\\dot{x} = -\\alpha \\, x. \\qquad (*)$$\n",
    "\n",
    "[Recordemos la notación $\\dot{x} := \\textstyle \\frac{dx}{dt}$, donde $t$ es el tiempo; es muy común en la física que las EDOs involucren derivadas con respecto al tiempo.]"
   ]
  },
  {
   "cell_type": "markdown",
   "metadata": {},
   "source": [
    "Una solución a esta ecuación es un objeto $x$, tal que cuando la derivamos con respecto al tiempo, nos arroja $-\\alpha$ (una constante) multiplicada por el mismo objeto. Implícitamente está claro que $x$ depende de $t$, por lo que realmente $x$ se refiere a una función de $t$, es decir $x: \\mathbb{R} \\to \\mathbb{R}$ es la función $t \\mapsto x(t)$. \n",
    "\n",
    "Por lo tanto, la ecuación $\\dot{x} = -\\alpha x$ se puede considerar como una ecuación *funcional*, es decir, una igualdad entre funciones. \n",
    "\n",
    "Para entenderla, se reescribe de forma más explícita como sigue:\n",
    "\n",
    "$$\\dot{x}(t) = -\\alpha x(t) \\qquad \\text{para cada } t \\in \\mathbb{R}.$$\n",
    "\n",
    "Ahora es una igualdad de números, que dice que la \"velocidad\" en el tiempo $t$ es un cierto múltiplo de la posición en ese momento. De esta forma queda más claro (en mi opinión).\n",
    "\n",
    "Esto quiere decir que si *de alguna manera* hayamos logrado saber que la solución en el tiempo $t$ está en la posición $x(t)$, entonces nos indica cuál será la *velocidad* $\\dot{x}(t)$ en este momento. Esta es la información que necesitaremos para actualizar la solución al \"siguiente momento en el tiempo\" de forma numérica."
   ]
  },
  {
   "cell_type": "markdown",
   "metadata": {},
   "source": [
    "La forma general de una EDO en una variable es\n",
    "\n",
    "$$\\dot{x} = f(x, t),$$\n",
    "\n",
    "o sea\n",
    "\n",
    "$$\\dot{x}(t) = f(x(t), t) \\qquad \\text{para cada } t \\in \\mathbb{R}.$$\n",
    "\n",
    "Recordemos que debe ir acompañada por una condición inicial $x(t=t_0) = x_0$ para que constituya un problema bien posado (*problema de valores iniciales*, o *problema de Cauchy*).\n",
    "La solución de una ecuación de este tipo será una *función* $x(t)$ que satisface al mismo tiempo que $\\dot{x}(t) = f(x(t), t)$ para cada $t$, y que $x(t=t_0) = x_0$. \n",
    "\n",
    "En el caso particular de la ecuación $\\dot{x} = -\\alpha x$, conocemos analíticamente la solución, y nos servirá para comprobar nuestros métodos. Pero para las ecuaciones de interés para la física, esto *casi nunca ocurre*, una situación que ¡suele pasar desapercibida durante la carrera! En estos casos, debemos aplicar distintas técnicas de *aproximación* de la solución, entre las cuales se destacan los *métodos numéricos*."
   ]
  },
  {
   "cell_type": "markdown",
   "metadata": {},
   "source": [
    "# Método de Euler"
   ]
  },
  {
   "cell_type": "markdown",
   "metadata": {},
   "source": [
    "Para resolver una EDO numéricamente en la computadora, tendremos que *aproximar* la solución continua $x: t \\mapsto x(t)$ con una versión con una cantidad finita de información, es decir, *discretizarla* de alguna forma.\n",
    "\n",
    "La manera más sencilla de hacerla es utilizando *diferencias finitas*. Empezaremos con el caso más sencillo, el llamado *método de Euler*."
   ]
  },
  {
   "cell_type": "markdown",
   "metadata": {},
   "source": [
    "#### Ejercicio 1\n",
    "\n",
    "(i) ¿Cuál es la aproximación más sencilla de la derivada $\\dot{x}(t)$, en términos de un tamaño de paso pequeño $h$?"
   ]
  },
  {
   "cell_type": "code",
   "execution_count": null,
   "metadata": {},
   "outputs": [],
   "source": []
  },
  {
   "cell_type": "markdown",
   "metadata": {},
   "source": [
    "(ii) Aplica esta aproximación con la ecuación $\\dot{x} = f(x, t)$ para obtener una expresión para $x(t+h)$, es decir el valor *predicho* en el siguiente *paso* de tiempo, en términos del valor ya conocido $x(t)$."
   ]
  },
  {
   "cell_type": "code",
   "execution_count": null,
   "metadata": {},
   "outputs": [],
   "source": []
  },
  {
   "cell_type": "markdown",
   "metadata": {},
   "source": [
    "(iii) Implementa un paso de este *método de Euler* en una función `paso_euler` para una función `f` cualquiera. ¿Cuáles argumentos debe tomar Euler? ¿Cuáles argumentos debe tomar `f`?"
   ]
  },
  {
   "cell_type": "code",
   "execution_count": null,
   "metadata": {},
   "outputs": [],
   "source": []
  },
  {
   "cell_type": "markdown",
   "metadata": {},
   "source": [
    "(iv) Ahora implementa el método de Euler completo en una función `euler`.\n",
    "Para hacerlo, crea un arreglo `ts` de los tiempos en los cuales se evaluará la función. Luego crea otro arreglo de ceros, con la función `zeros`. [Si pasas el arreglo `t` como argumento a esta función, creará un arreglo del mismo tamaño al poner `zeros(size(t))`.] Ahora implementa el paso (ii) en un algoritmo iterativo para actualizar los valores en el nuevo arreglo para cada tiempo sucesivamente."
   ]
  },
  {
   "cell_type": "code",
   "execution_count": null,
   "metadata": {},
   "outputs": [],
   "source": []
  },
  {
   "cell_type": "markdown",
   "metadata": {},
   "source": [
    "(v) Verifica que funcione tu método al aplicarlo a una función $f(t)$ sencilla que dependa *únicamente del tiempo*. [Recuerda que debes imponer una condición inicial.] ¿Cuál operación matemática acabas de llevar a cabo? ¿Con cuál método? Compara con la solución analítica."
   ]
  },
  {
   "cell_type": "code",
   "execution_count": null,
   "metadata": {},
   "outputs": [],
   "source": []
  },
  {
   "cell_type": "markdown",
   "metadata": {},
   "source": [
    "#### Ejercicio 2\n",
    "\n",
    "(i) Utiliza tu función `euler` para resolver la ecuación $\\dot{x} = -\\alpha x$,  y compara tu solución numérica gráficamente con la solución analítica de la ecuación. ¿Qué pasa al variar el paso de tiempo? Hazlo interactivo."
   ]
  },
  {
   "cell_type": "code",
   "execution_count": null,
   "metadata": {},
   "outputs": [],
   "source": []
  },
  {
   "cell_type": "markdown",
   "metadata": {},
   "source": [
    "(ii) Dado que el método de Euler utiliza una aproximación, el resultado no es exacto. Fija una $t$ final y calcula el error (desde la solución analítica) en función del tamaño de paso $h$. ¿Cómo es la convergencia en función de $h$?"
   ]
  },
  {
   "cell_type": "code",
   "execution_count": null,
   "metadata": {},
   "outputs": [],
   "source": []
  },
  {
   "cell_type": "markdown",
   "metadata": {},
   "source": [
    "#### Ejercicio 3\n",
    "\n",
    "Considera la ecuación diferencial nolineal $\\dot{x} = x \\, (1-x)$, la cual modela la dinámica de una población; $x$ representa de alguna forma la densidad de población. \n",
    "\n",
    "(i) Dibuja el \"campo vectorial\" en el espacio $t$--$x$, es decir flechitas que indican en cuál dirección se camina en cada paso. \n",
    "\n",
    "[Pista: Utiliza la función `quiver`, con la sintaxis \n",
    "\n",
    "    quiver(xs, ys, quiver=df)\n",
    "    \n",
    "donde `xs` y `ys` especifican la posición del vector, y `df` es una función que toma un vector posición y regresa el vector que se coloca ahí.\n",
    "]"
   ]
  },
  {
   "cell_type": "code",
   "execution_count": null,
   "metadata": {},
   "outputs": [],
   "source": []
  },
  {
   "cell_type": "markdown",
   "metadata": {},
   "source": [
    "(ii) Resúelvela numéricamente la ecuación desde distintas condiciones iniciales (incluso las no-físicas) y dibuja las soluciones correspondientes. Interpreta el resultado de manera física (o biológica). "
   ]
  },
  {
   "cell_type": "code",
   "execution_count": null,
   "metadata": {},
   "outputs": [],
   "source": []
  },
  {
   "cell_type": "markdown",
   "metadata": {},
   "source": [
    "#### Ejercicio 4"
   ]
  },
  {
   "cell_type": "markdown",
   "metadata": {},
   "source": [
    "(i) Resuelve numéricamente la EDO\n",
    "$$ \\dot{x} = 1 + x^2. $$"
   ]
  },
  {
   "cell_type": "code",
   "execution_count": null,
   "metadata": {},
   "outputs": [],
   "source": []
  },
  {
   "cell_type": "markdown",
   "metadata": {},
   "source": [
    "(ii) Dibuja las trayectorias desde algunas condiciones iniciales. Fija los límites en $y$ de la gráfica."
   ]
  },
  {
   "cell_type": "code",
   "execution_count": null,
   "metadata": {},
   "outputs": [],
   "source": []
  },
  {
   "cell_type": "markdown",
   "metadata": {},
   "source": [
    "(iii) ¿Qué ocurre? Compara este comportamiento con la solución analítica."
   ]
  },
  {
   "cell_type": "code",
   "execution_count": null,
   "metadata": {},
   "outputs": [],
   "source": []
  },
  {
   "cell_type": "markdown",
   "metadata": {},
   "source": [
    "## Dos variables"
   ]
  },
  {
   "cell_type": "markdown",
   "metadata": {},
   "source": [
    "El método de Euler se puede extender directamente a EDOs con más de una variable."
   ]
  },
  {
   "cell_type": "markdown",
   "metadata": {},
   "source": [
    "#### Ejercicio 5\n",
    "\n",
    "(i) Escribe la ecuación diferencial que describe un oscilador armónico amortiguado."
   ]
  },
  {
   "cell_type": "code",
   "execution_count": null,
   "metadata": {},
   "outputs": [],
   "source": []
  },
  {
   "cell_type": "markdown",
   "metadata": {},
   "source": [
    "(ii) Recuerda que hay un \"truco\" para reducir una ecuación diferencial de segundo orden a dos ecuaciones de primer orden; ¿cuál es? ¿Qué resulta en el caso del oscilador armónico amortiguado?"
   ]
  },
  {
   "cell_type": "code",
   "execution_count": null,
   "metadata": {},
   "outputs": [],
   "source": []
  },
  {
   "cell_type": "markdown",
   "metadata": {},
   "source": [
    "(iii) Deriva un método de Euler para las ecuaciones acopladas\n",
    "\n",
    "$$\\dot{x} = f(x, y);$$\n",
    "$$\\dot{y} = g(x, y).$$\n",
    "\n",
    "Para hacerlo, aplica la definición de la derivada de nuevo."
   ]
  },
  {
   "cell_type": "code",
   "execution_count": null,
   "metadata": {},
   "outputs": [],
   "source": []
  },
  {
   "cell_type": "markdown",
   "metadata": {},
   "source": [
    "(iv) Implementa el método en una función `euler2`. ¿Cuáles argumentos debe tomar?"
   ]
  },
  {
   "cell_type": "code",
   "execution_count": null,
   "metadata": {},
   "outputs": [],
   "source": []
  },
  {
   "cell_type": "markdown",
   "metadata": {},
   "source": [
    "(v) Aplícalo al oscilador armónico amortiguado.\n",
    "Calcula trayectorias desde distintas condiciones iniciales y dibújalas, y ¡hazlo interactivo!\n",
    "Debes dibujar tanto $x(t)$ y $y(t)$ como funciones del tiempo, como el **espacio fase**.  Dibuja también el campo vectorial en el espacio fase."
   ]
  },
  {
   "cell_type": "code",
   "execution_count": null,
   "metadata": {},
   "outputs": [],
   "source": []
  }
 ],
 "metadata": {
  "kernelspec": {
   "display_name": "Julia 1.0.3",
   "language": "julia",
   "name": "julia-1.0"
  },
  "language_info": {
   "file_extension": ".jl",
   "mimetype": "application/julia",
   "name": "julia",
   "version": "1.0.3"
  }
 },
 "nbformat": 4,
 "nbformat_minor": 1
}
