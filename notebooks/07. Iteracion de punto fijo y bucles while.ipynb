{
 "cells": [
  {
   "cell_type": "markdown",
   "metadata": {},
   "source": [
    "# ¿Qué es un algoritmo?"
   ]
  },
  {
   "cell_type": "markdown",
   "metadata": {},
   "source": [
    "En este notebook, empezaremos en serio nuestro estudio de algoritmos computacionales."
   ]
  },
  {
   "cell_type": "markdown",
   "metadata": {},
   "source": [
    "Un **algoritmo** es una \"receta\" computacional, que consiste en una serie de instrucciones para que la computadora lleve a cabo un cálculo dado. Gran parte del curso consistirá en:\n",
    "\n",
    "1. desarrollar algoritmos que calculen aproximaciones de distintas cantidades en la física, a partir de modelos matemáticos; y\n",
    "2. implementar estos algoritmos en la computdara.\n",
    "\n",
    "El campo que se ocupa de diseñar y estudiar estos algoritmos es el **análisis numérico**. Su aplicación a problemas de física se puede decir que constituye la **física computacional**.\n",
    "\n",
    "Algunos algoritmos (por ejemplo, la eliminación gaussiana que veremos más adelante) proveen una manera de llevar a cabo un cálculo de manera \"exacta\" (dentro de las restricciones impuestas por el uso de números flotantes con precisión finita para aproximar los números reales) en un número finito de pasos.\n",
    "\n",
    "Sin embargo, en general, *no podemos esperar que haya una fórmula analítica cerrada* para calcular las cantidades de interés de manera exacta. En este caso, será necesario emplear un algoritmo que en principio ¡podría correr por un tiempo infinito!, que esperamos converja a la solución paulatinamente. En este caso, pararemos el algoritmo cuando consideremos que el problema ya se resolvió de forma \"suficientemente buena\"."
   ]
  },
  {
   "cell_type": "markdown",
   "metadata": {},
   "source": [
    "## Algoritmos iterativos"
   ]
  },
  {
   "cell_type": "markdown",
   "metadata": {},
   "source": [
    "Los métodos que emplearemos durante todo el curso son algoritmos *iterativos*."
   ]
  },
  {
   "cell_type": "markdown",
   "metadata": {},
   "source": [
    "Un **algoritmo iterativo** repite un mismo cálculo un gran número de veces, modificando un valor (o varios valores) en el proceso, hasta que (en el mejor de los casos) converja a una solución.\n",
    "\n",
    "Un algorithmo iterativo empieza desde una \"adivinanza\" / suposición / estimación inicial $x_0$ (que podría ser muy lejos de la solución verdadera), y aplica un procedimiento / receta matemática, dado por una función $f$ (que puede ser complicada), para producir una siguiente adivinanza $x_1 := f(x_0)$. Esto luego *se repite* para producir una secuencia $x_0, x_1, \\ldots, x_n, \\ldots$, tales que\n",
    "\n",
    "$$x_1 = f(x_0)$$\n",
    "$$x_2 = f(x_1)$$\n",
    "$$x_3 = f(x_2)$$\n",
    "\n",
    "etc. En general, escribimos una iteración como \n",
    "\n",
    "$$x_{n+1} := f(x_n).$$\n",
    "\n",
    "\n",
    "Nota que entonces tenemos $x_2 = f(f(x_0))$, luego $x_3 = f(f(f(x_0)))$, etc., así que la iteración consiste en aplicar la función $f$ *de forma iterada / repetida*.\n"
   ]
  },
  {
   "cell_type": "markdown",
   "metadata": {},
   "source": [
    "La idea es que diseñemos el método para que la secuencia $x_n$ que se produce *converja* hacia un valor límite $x^*$ cuando $n \\to \\infty$, y que el $x^*$ resultante *¡sea solución del problema original*!\n",
    "\n",
    "Dado que no podemos llevar a cabo la iteración un número infinito de veces, se corta la iteración después de un cierto número de pasos, para dar una solución *aproximada*, que se acerca dentro de cierta *tolerancia* al resultado teórico exacto $x^*$. Por lo tanto, cualquier algoritmo iterativo requiere una condición de terminación. En muchos casos, podemos lograr que la tolerancia sea del orden de magnitud del llamado **épsilon de la máquina**, que es el número $\\epsilon$ más pequeño tal que la computadora distinga $1$ de $1 + \\epsilon$. Nota que esto depende de la **precisión** de los números flotantes; esto, a su vez, es consecuencia de la representación interna de los mismos, lo cual veremos más adelante en el curso."
   ]
  },
  {
   "cell_type": "markdown",
   "metadata": {},
   "source": [
    "#### Ejercicio 1 \n",
    "\n",
    "(i) Utiliza la función `nextfloat` para encontrar el épsilon de la máquina."
   ]
  },
  {
   "cell_type": "code",
   "execution_count": null,
   "metadata": {},
   "outputs": [],
   "source": []
  },
  {
   "cell_type": "markdown",
   "metadata": {},
   "source": [
    "(ii) Verifica lo mismo utilizando la función `eps`."
   ]
  },
  {
   "cell_type": "code",
   "execution_count": null,
   "metadata": {},
   "outputs": [],
   "source": []
  },
  {
   "cell_type": "markdown",
   "metadata": {},
   "source": [
    "(iii) Este valor es igual a $2^{-n}$. Encuentra el valor de $n$."
   ]
  },
  {
   "cell_type": "code",
   "execution_count": null,
   "metadata": {},
   "outputs": [],
   "source": []
  },
  {
   "cell_type": "markdown",
   "metadata": {},
   "source": [
    "(iv) Haz lo mismo para `Float32`. [Pista: Para convertir un número `x` a `Float32`, se pone `Float32(x)`.]"
   ]
  },
  {
   "cell_type": "code",
   "execution_count": null,
   "metadata": {
    "collapsed": true
   },
   "outputs": [],
   "source": []
  },
  {
   "cell_type": "markdown",
   "metadata": {},
   "source": [
    "# Iteraciones de punto fijo"
   ]
  },
  {
   "cell_type": "markdown",
   "metadata": {},
   "source": [
    "En general, no sabemos cuánto durará una iteración *hasta que* termine. Por lo tanto, es más usual pensar en el **valor actual** de $x$, y el **valor siguiente** de $x$. Dentro del cuerpo del bucle, usamos el valor actual de $x$ para calcular el valor nuevo. Al final del cuerpo del bucle, debemos actualizar el \"valor actual\"."
   ]
  },
  {
   "cell_type": "markdown",
   "metadata": {},
   "source": [
    "#### Ejercicio 2\n",
    "\n",
    "(i) Define la función $f_1(x) = \\frac{x}{2} - 1$."
   ]
  },
  {
   "cell_type": "code",
   "execution_count": 1,
   "metadata": {},
   "outputs": [
    {
     "data": {
      "text/plain": [
       "f_1 (generic function with 1 method)"
      ]
     },
     "execution_count": 1,
     "metadata": {},
     "output_type": "execute_result"
    }
   ],
   "source": [
    "f_1(x) = x/2 - 1"
   ]
  },
  {
   "cell_type": "markdown",
   "metadata": {},
   "source": [
    "(ii) Toma una condición inicial $x_0$ y lleva a cabo la iteración a mano. ¿Qué observas?"
   ]
  },
  {
   "cell_type": "code",
   "execution_count": 5,
   "metadata": {},
   "outputs": [
    {
     "name": "stdout",
     "output_type": "stream",
     "text": [
      "x1 = 4999.0\n",
      "x2 = 2498.5\n"
     ]
    },
    {
     "data": {
      "text/plain": [
       "2498.5"
      ]
     },
     "execution_count": 5,
     "metadata": {},
     "output_type": "execute_result"
    }
   ],
   "source": [
    "x0 = 10000\n",
    "x1 = f_1(x0)\n",
    "x2 = f_1(x1)\n",
    "@show x1 x2"
   ]
  },
  {
   "cell_type": "markdown",
   "metadata": {},
   "source": [
    "(iii) Utiliza un bucle `for` para ver cómo son los primeros $N$ iterados $x_n$. Haz una función que tome como argumento $x_0$ y $N$."
   ]
  },
  {
   "cell_type": "code",
   "execution_count": 12,
   "metadata": {},
   "outputs": [
    {
     "data": {
      "text/plain": [
       "11-element Array{Float64,1}:\n",
       " 100.0        \n",
       "  49.0        \n",
       "  23.5        \n",
       "  10.75       \n",
       "   4.375      \n",
       "   1.1875     \n",
       "  -0.40625    \n",
       "  -1.203125   \n",
       "  -1.6015625  \n",
       "  -1.80078125 \n",
       "  -1.900390625"
      ]
     },
     "execution_count": 12,
     "metadata": {},
     "output_type": "execute_result"
    }
   ],
   "source": [
    "N = 10\n",
    "x0 = 100.0\n",
    "x = x0   # x es el valor actual\n",
    "datos = [x0]\n",
    "for i in 1:N\n",
    "    x_nueva = f_1(x)\n",
    "    x = x_nueva\n",
    "    push!(datos, x)\n",
    "    #@show a\n",
    "end\n",
    "\n",
    "datos"
   ]
  },
  {
   "cell_type": "code",
   "execution_count": 19,
   "metadata": {},
   "outputs": [
    {
     "data": {
      "text/plain": [
       "iteracion (generic function with 2 methods)"
      ]
     },
     "execution_count": 19,
     "metadata": {},
     "output_type": "execute_result"
    }
   ],
   "source": [
    "function iteracion(f, N, x0)\n",
    "    x = x0   # x es el valor actual\n",
    "    datos = Float64[x0]\n",
    "    for i in 1:N\n",
    "        x_nueva = f(x)\n",
    "        x = x_nueva\n",
    "        push!(datos, x)\n",
    "        #@show a\n",
    "    end\n",
    "    return datos\n",
    "end"
   ]
  },
  {
   "cell_type": "code",
   "execution_count": 20,
   "metadata": {},
   "outputs": [
    {
     "data": {
      "text/plain": [
       "101-element Array{Float64,1}:\n",
       " 20.0          \n",
       "  9.0          \n",
       "  3.5          \n",
       "  0.75         \n",
       " -0.625        \n",
       " -1.3125       \n",
       " -1.65625      \n",
       " -1.828125     \n",
       " -1.9140625    \n",
       " -1.95703125   \n",
       " -1.978515625  \n",
       " -1.9892578125 \n",
       " -1.99462890625\n",
       "  ⋮            \n",
       " -2.0          \n",
       " -2.0          \n",
       " -2.0          \n",
       " -2.0          \n",
       " -2.0          \n",
       " -2.0          \n",
       " -2.0          \n",
       " -2.0          \n",
       " -2.0          \n",
       " -2.0          \n",
       " -2.0          \n",
       " -2.0          "
      ]
     },
     "execution_count": 20,
     "metadata": {},
     "output_type": "execute_result"
    }
   ],
   "source": [
    "iteracion(f_1, 100, 20)"
   ]
  },
  {
   "cell_type": "markdown",
   "metadata": {},
   "source": [
    "(iv) Repite la iteración para varios valores de $x_0$ y dibuja los iterados enen una sola gráfica. ¿Cuál tipo de gráfica es la más apropiada? ¿Qué observas?"
   ]
  },
  {
   "cell_type": "code",
   "execution_count": null,
   "metadata": {},
   "outputs": [],
   "source": []
  },
  {
   "cell_type": "markdown",
   "metadata": {},
   "source": [
    "(v) Si $x_{n+1} = f(x_n)$ y $x_n \\to x^*$ cuando $n \\to \\infty$, ¿cuál ecuación satisface $x^*$? ¿Cómo podemos llamar entonces a $x^*$? Resuelva esta ecuación para $f_1$. ¿Concuerda con lo que hayas visto?"
   ]
  },
  {
   "cell_type": "code",
   "execution_count": null,
   "metadata": {},
   "outputs": [],
   "source": []
  },
  {
   "cell_type": "markdown",
   "metadata": {},
   "source": [
    "#### Ejercicio 3\n",
    "\n",
    "(i) Define una función `iterar` que lleva a cabo lo que hiciste en la pregunta 1. Debe aceptar como su primer argumento (el nombre de) la función `f` que iterar, así como el número de veces que se iterará, y la condición inicial. Regresa un arreglo de los iterados."
   ]
  },
  {
   "cell_type": "code",
   "execution_count": null,
   "metadata": {},
   "outputs": [],
   "source": []
  },
  {
   "cell_type": "markdown",
   "metadata": {},
   "source": [
    "(ii) Utiliza la función para iterar la función $f_2(x) = \\cos(x)$, y dibuja el resultado para distintas condiciones iniciales."
   ]
  },
  {
   "cell_type": "code",
   "execution_count": null,
   "metadata": {},
   "outputs": [],
   "source": []
  },
  {
   "cell_type": "markdown",
   "metadata": {},
   "source": [
    "(iii) ¿Adónde converge la iteración? ¿Cuál ecuación hemos resuelto?"
   ]
  },
  {
   "cell_type": "code",
   "execution_count": null,
   "metadata": {},
   "outputs": [],
   "source": []
  },
  {
   "cell_type": "markdown",
   "metadata": {},
   "source": [
    "(iv) Utiliza `@manipulate` para tener una versión dinámica de la visualización, en la cual puedes cambiar tanto la condición inicial, como el número de iterados."
   ]
  },
  {
   "cell_type": "code",
   "execution_count": null,
   "metadata": {
    "collapsed": true
   },
   "outputs": [],
   "source": []
  },
  {
   "cell_type": "markdown",
   "metadata": {},
   "source": [
    "#### Ejercicio 4 \n",
    "\n",
    "(i) ¿Qué ocurre si iteras la función $f_3(x) = 2x + 1$?"
   ]
  },
  {
   "cell_type": "code",
   "execution_count": null,
   "metadata": {},
   "outputs": [],
   "source": []
  },
  {
   "cell_type": "markdown",
   "metadata": {},
   "source": [
    "(ii) ¿Puedes adivinar cuál es una condición para que una iteración converja?"
   ]
  },
  {
   "cell_type": "code",
   "execution_count": null,
   "metadata": {
    "collapsed": true
   },
   "outputs": [],
   "source": []
  },
  {
   "cell_type": "markdown",
   "metadata": {},
   "source": [
    "#### Ejercicio 5\n",
    "\n",
    "A menudo, se utiliza una iteración de este tipo para *resolver ecuaciones*. \n",
    "\n",
    "(i) Inventa una iteración de la forma $x_{n+1} = f(x_n)$ para resolver la ecuación $x^2 + x - 1 = 0$. ¿Para cuáles $x_0$ funciona? ¿A cuál solución converge?"
   ]
  },
  {
   "cell_type": "code",
   "execution_count": null,
   "metadata": {},
   "outputs": [],
   "source": []
  },
  {
   "cell_type": "markdown",
   "metadata": {},
   "source": [
    "(ii) Inventa otra. ¿Funciona para $x_0$ diferentes?"
   ]
  },
  {
   "cell_type": "code",
   "execution_count": null,
   "metadata": {},
   "outputs": [],
   "source": []
  },
  {
   "cell_type": "markdown",
   "metadata": {},
   "source": [
    "(iii) Nota que hay algunas iteraciones que **no converjan**. Por ejemplo, ¿qué ocurre con la iteración $x_{n+1} = 1 - x_n^2$?"
   ]
  },
  {
   "cell_type": "code",
   "execution_count": null,
   "metadata": {},
   "outputs": [],
   "source": []
  },
  {
   "cell_type": "markdown",
   "metadata": {},
   "source": [
    "## Bucles `while`"
   ]
  },
  {
   "cell_type": "markdown",
   "metadata": {},
   "source": [
    "En lo anterior, usamos un bucle `for`, que requiere que sepamos de antemano el número de iteraciones que queramos.\n",
    "Sin embargo, en este tipo de problemas, es más natural esperar **hasta que** converja, sin saber cuánto tiempo tomará.\n",
    "\n",
    "Para esto, podemos ocupar otro tipo de bucle, un bucle `while` (\"mientras\", en español). Un bucle de este tipo repite los comandos en el cuerpo del bucle **mientras** una condición siga cierta. Su sintaxis es como sigue:"
   ]
  },
  {
   "cell_type": "markdown",
   "metadata": {},
   "source": [
    "```\n",
    "while <condicion>\n",
    "    [haz esto]\n",
    "    [y esto]\n",
    "end\n",
    "```\n",
    "\n",
    "Sin embargo, para evitar bucles infinitos, a menudo es sensato incluir un contador para que no pueda haber demasiadas (posiblemente infinitas) iteraciones."
   ]
  },
  {
   "cell_type": "markdown",
   "metadata": {},
   "source": [
    "Mientras que en un bucle `for` hay un contador que se actualiza automáticamente, en un bucle `while` **nosotros somos los responsables** de tener una variable que actúe como contador."
   ]
  },
  {
   "cell_type": "markdown",
   "metadata": {},
   "source": [
    "#### Ejercicio 5\n",
    "\n",
    "(i) Utilice un bucle `while` para contar de 1 a 10."
   ]
  },
  {
   "cell_type": "code",
   "execution_count": null,
   "metadata": {},
   "outputs": [],
   "source": []
  },
  {
   "cell_type": "markdown",
   "metadata": {},
   "source": [
    "(ii) Utilice un bucle `while` para encontrar la potencia de 2 más grande debajo de un número dado."
   ]
  },
  {
   "cell_type": "code",
   "execution_count": null,
   "metadata": {},
   "outputs": [],
   "source": []
  },
  {
   "cell_type": "markdown",
   "metadata": {},
   "source": [
    "(iii) Repite lo mismo con un bucle `for`, usando la palabra clave `break` para salir del bucle cuando una cierta condición se satisfaga."
   ]
  },
  {
   "cell_type": "code",
   "execution_count": null,
   "metadata": {},
   "outputs": [],
   "source": []
  },
  {
   "cell_type": "markdown",
   "metadata": {},
   "source": [
    "## Bucles while e iteraciones de punto fijo"
   ]
  },
  {
   "cell_type": "markdown",
   "metadata": {},
   "source": [
    "#### Ejercicio 6\n",
    "\n",
    "(i) Modifica tu función `iterar` para que utilice un bucle `while` para la iteración de una función. Agrega un argumento opcional que dé una **tolerancia** razonable,  y repite la iteración **hasta que** la distancia entre un iterado y el siguiente sea menor a la tolerancia. [Pista: ¿Cuál función matemática da la distancia entre dos números en una dimensión. Encuentra la función de Julia que lo hace.] "
   ]
  },
  {
   "cell_type": "code",
   "execution_count": null,
   "metadata": {},
   "outputs": [],
   "source": []
  },
  {
   "cell_type": "markdown",
   "metadata": {},
   "source": [
    "(ii) Utiliza una iteración para resolver la ecuación $\\tan(x) = x$. Dibuja la solución. ¿En qué rama de la física surge esta ecuación?"
   ]
  },
  {
   "cell_type": "code",
   "execution_count": 45,
   "metadata": {},
   "outputs": [
    {
     "data": {
      "text/plain": [
       "iterar (generic function with 1 method)"
      ]
     },
     "execution_count": 45,
     "metadata": {},
     "output_type": "execute_result"
    }
   ],
   "source": [
    "\n",
    "function iterar(f, N, x0)\n",
    "\n",
    "    x = x0\n",
    "    x_nueva = x + 1.0\n",
    "    tol = 1e-10\n",
    "\n",
    "    i = 0\n",
    "\n",
    "    while abs(x - x_nueva) > tol\n",
    "        x = x_nueva\n",
    "        x_nueva = f(x)\n",
    "\n",
    "#         @show x, x_nueva\n",
    "\n",
    "        i += 1\n",
    "#         @show i\n",
    "        if i > N\n",
    "\n",
    "            error(\"¡No convergió!\")\n",
    "        end\n",
    "    end\n",
    "        \n",
    "    return x\n",
    "    \n",
    "\n",
    "end"
   ]
  },
  {
   "cell_type": "code",
   "execution_count": 42,
   "metadata": {},
   "outputs": [
    {
     "data": {
      "text/plain": [
       "Exception"
      ]
     },
     "execution_count": 42,
     "metadata": {},
     "output_type": "execute_result"
    }
   ],
   "source": [
    "supertype(MethodError)"
   ]
  },
  {
   "cell_type": "code",
   "execution_count": 44,
   "metadata": {},
   "outputs": [
    {
     "name": "stdout",
     "output_type": "stream",
     "text": [
      "Any[ArgumentError, AssertionError, CodePointError, IOError, InvalidCharError, ParseError, PrecompilableError, SimdError, BoundsError, CapturedException, CompositeException, DimensionMismatch, InvalidCodeError, KeyError, WrappedException, DimensionMismatch, BatchProcessingError, ProcessExitedException, RemoteException, DivideError, DomainError, EOFError, ErrorException, InexactError, InterruptException, InvalidStateException, KeyError, GitError, ARPACKException, LAPACKException, PosDefException, RankDeficientException, SingularException, MbedException, MethodError, MissingException, OutOfMemoryError, OverflowError, UnsatError, ParserError, PkgError, ResolverError, ReadOnlyMemoryError, SegmentationFault, DNSError, StackOverflowError, StringIndexError, CHOLMODException, MatrixIllConditionedException, SystemError, FallbackTestSetException, TestSetException, TypeError, UndefKeywordError, UndefRefError, UndefVarError, StateError]"
     ]
    }
   ],
   "source": [
    "show(subtypes(Exception))"
   ]
  },
  {
   "cell_type": "code",
   "execution_count": 37,
   "metadata": {},
   "outputs": [
    {
     "data": {
      "text/plain": [
       "-1.9999999998195563"
      ]
     },
     "execution_count": 37,
     "metadata": {},
     "output_type": "execute_result"
    }
   ],
   "source": [
    "f1(x) = x/2 - 1\n",
    "\n",
    "iterar(f1, 100, 0.1)"
   ]
  },
  {
   "cell_type": "code",
   "execution_count": 38,
   "metadata": {},
   "outputs": [
    {
     "ename": "ErrorException",
     "evalue": "¡No convergió!",
     "output_type": "error",
     "traceback": [
      "¡No convergió!",
      "",
      "Stacktrace:",
      " [1] error(::String) at ./error.jl:33",
      " [2] iterar(::typeof(f2), ::Int64, ::Float64) at ./In[36]:20",
      " [3] top-level scope at In[38]:2"
     ]
    }
   ],
   "source": [
    "f2(x) = 2x + 1\n",
    "\n",
    "iterar(f2, 100, 0.1)"
   ]
  },
  {
   "cell_type": "code",
   "execution_count": 47,
   "metadata": {},
   "outputs": [
    {
     "ename": "DomainError",
     "evalue": "DomainError with -1.0:\nsqrt will only return a complex result if called with a complex argument. Try sqrt(Complex(x)).",
     "output_type": "error",
     "traceback": [
      "DomainError with -1.0:\nsqrt will only return a complex result if called with a complex argument. Try sqrt(Complex(x)).",
      "",
      "Stacktrace:",
      " [1] throw_complex_domainerror(::Symbol, ::Float64) at ./math.jl:31",
      " [2] sqrt(::Float64) at ./math.jl:492",
      " [3] top-level scope at In[47]:1"
     ]
    }
   ],
   "source": [
    "sqrt(-1.0)"
   ]
  },
  {
   "cell_type": "markdown",
   "metadata": {},
   "source": [
    "## Haz tu propia biblioteca "
   ]
  },
  {
   "cell_type": "markdown",
   "metadata": {},
   "source": [
    "#### Ejercicio 7"
   ]
  },
  {
   "cell_type": "markdown",
   "metadata": {},
   "source": [
    "Puedes ¡hacer tu propia biblioteca de Julia!, con funciones útiles que vayas haciendo, para que ya no tengas que reescribir las mismas funciones una y otra vez.\n",
    "\n",
    "(i) Guarda la función `iterar` en un archivo que se llama `herramientas.jl`. Iremos agregando más métodos a este archivo."
   ]
  },
  {
   "cell_type": "code",
   "execution_count": null,
   "metadata": {},
   "outputs": [],
   "source": []
  },
  {
   "cell_type": "markdown",
   "metadata": {},
   "source": [
    "(ii) Verifica en un nuevo notebook que al poner `include(\"herramientas.jl\")`, tienes acceso a la función `iterar`. [Nota que el notebook debe estar en el mismo directorio, o bien hay que poner la dirección competa de `herramientas.jl`.]"
   ]
  },
  {
   "cell_type": "code",
   "execution_count": null,
   "metadata": {
    "collapsed": true
   },
   "outputs": [],
   "source": []
  },
  {
   "cell_type": "markdown",
   "metadata": {},
   "source": [
    "(iii) De ahora en adelante, cuando escribas una función útil, velo agregando a este archivo."
   ]
  },
  {
   "cell_type": "markdown",
   "metadata": {},
   "source": [
    "## Tests"
   ]
  },
  {
   "cell_type": "code",
   "execution_count": 48,
   "metadata": {},
   "outputs": [],
   "source": [
    "using Test"
   ]
  },
  {
   "cell_type": "code",
   "execution_count": 49,
   "metadata": {},
   "outputs": [
    {
     "data": {
      "text/plain": [
       "punto_medio (generic function with 1 method)"
      ]
     },
     "execution_count": 49,
     "metadata": {},
     "output_type": "execute_result"
    }
   ],
   "source": [
    "punto_medio(a, b) = (a + b) / 2"
   ]
  },
  {
   "cell_type": "code",
   "execution_count": 52,
   "metadata": {},
   "outputs": [
    {
     "data": {
      "text/plain": [
       "\u001b[32m\u001b[1mTest Passed\u001b[22m\u001b[39m"
      ]
     },
     "execution_count": 52,
     "metadata": {},
     "output_type": "execute_result"
    }
   ],
   "source": [
    "@test punto_medio(1, 2) == 1.5"
   ]
  },
  {
   "cell_type": "code",
   "execution_count": 53,
   "metadata": {},
   "outputs": [
    {
     "name": "stdout",
     "output_type": "stream",
     "text": [
      "\u001b[91m\u001b[1mTest Failed\u001b[22m\u001b[39m at \u001b[39m\u001b[1mIn[53]:1\u001b[22m\n",
      "  Expression: punto_medio(1, 2) == 17\n",
      "   Evaluated: 1.5 == 17\n"
     ]
    },
    {
     "ename": "Test.FallbackTestSetException",
     "evalue": "There was an error during testing",
     "output_type": "error",
     "traceback": [
      "There was an error during testing",
      "",
      "Stacktrace:",
      " [1] record(::Test.FallbackTestSet, ::Test.Fail) at /Users/osx/buildbot/slave/package_osx64/build/usr/share/julia/stdlib/v1.0/Test/src/Test.jl:707",
      " [2] do_test(::Test.Returned, ::Expr) at /Users/osx/buildbot/slave/package_osx64/build/usr/share/julia/stdlib/v1.0/Test/src/Test.jl:496",
      " [3] top-level scope at In[53]:1"
     ]
    }
   ],
   "source": [
    "@test punto_medio(1, 2) == 17"
   ]
  },
  {
   "cell_type": "code",
   "execution_count": 54,
   "metadata": {},
   "outputs": [
    {
     "name": "stdout",
     "output_type": "stream",
     "text": [
      "\u001b[37m\u001b[1mTest Summary: | \u001b[22m\u001b[39m\u001b[32m\u001b[1mPass  \u001b[22m\u001b[39m\u001b[36m\u001b[1mTotal\u001b[22m\u001b[39m\n",
      "Punto medio   | \u001b[32m   2  \u001b[39m\u001b[36m    2\u001b[39m\n"
     ]
    },
    {
     "data": {
      "text/plain": [
       "Test.DefaultTestSet(\"Punto medio\", Any[], 2, false)"
      ]
     },
     "execution_count": 54,
     "metadata": {},
     "output_type": "execute_result"
    }
   ],
   "source": [
    "@testset \"Punto medio\" begin\n",
    "    @test punto_medio(1, 2) == 1.5\n",
    "    @test punto_medio(-1, 1) == 0\n",
    "end"
   ]
  },
  {
   "cell_type": "code",
   "execution_count": null,
   "metadata": {},
   "outputs": [],
   "source": []
  }
 ],
 "metadata": {
  "kernelspec": {
   "display_name": "Julia 1.0.3",
   "language": "julia",
   "name": "julia-1.0"
  },
  "language_info": {
   "file_extension": ".jl",
   "mimetype": "application/julia",
   "name": "julia",
   "version": "1.0.3"
  },
  "toc": {
   "colors": {
    "hover_highlight": "#DAA520",
    "running_highlight": "#FF0000",
    "selected_highlight": "#FFD700"
   },
   "moveMenuLeft": true,
   "nav_menu": {
    "height": "48px",
    "width": "252px"
   },
   "navigate_menu": true,
   "number_sections": true,
   "sideBar": true,
   "threshold": "1",
   "toc_cell": false,
   "toc_section_display": "block",
   "toc_window_display": false
  }
 },
 "nbformat": 4,
 "nbformat_minor": 1
}
