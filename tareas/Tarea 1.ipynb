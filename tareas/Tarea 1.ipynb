{
 "cells": [
  {
   "cell_type": "markdown",
   "metadata": {},
   "source": [
    "# Tarea 1\n",
    "\n",
    "\n",
    "## Instrucciones\n",
    "- Cambia el nombre del notebook para incluir tu nombre de pila y apellido.\n",
    "\n",
    "\n",
    "- Luego, manda el notebook a Crhistian:  crhisbenitez@ciencias.unam.mx\n",
    "\n",
    "\n",
    "- La fecha **límite** de entrega es el **lunes 14 de enero de 2019**, a las 10:00 horas"
   ]
  },
  {
   "cell_type": "markdown",
   "metadata": {},
   "source": [
    "## Caminantes aleatorios en más dimensiones"
   ]
  },
  {
   "cell_type": "markdown",
   "metadata": {},
   "source": [
    "Es interesante extender el modelo de caminatas aleatorias a 2 y 3 dimensiones, ya que es físicamente más realista."
   ]
  },
  {
   "cell_type": "markdown",
   "metadata": {},
   "source": [
    "#### Ejercicio 1"
   ]
  },
  {
   "cell_type": "markdown",
   "metadata": {},
   "source": [
    "Considera un caminante aleatorio en 2D, con coordenadas $x$ y $y$, que vive en $\\mathbb{Z}^2$."
   ]
  },
  {
   "cell_type": "markdown",
   "metadata": {},
   "source": [
    "(i) Inicializa al caminante en el origen."
   ]
  },
  {
   "cell_type": "code",
   "execution_count": null,
   "metadata": {},
   "outputs": [],
   "source": []
  },
  {
   "cell_type": "markdown",
   "metadata": {},
   "source": [
    "(ii) Escribe una función que hace un paso del caminante. Puede moverse sólo arriba, abajo, a la izquierda o a la derecha en cada paso, con probabilidades iguales. [Pista: Primero puedes escoger si se moverá verticalmente u horizontalmente, luego en qué dirección.]"
   ]
  },
  {
   "cell_type": "code",
   "execution_count": null,
   "metadata": {},
   "outputs": [],
   "source": []
  },
  {
   "cell_type": "markdown",
   "metadata": {},
   "source": [
    "(iii) Escribe una función que calcula la trayectoria de un caminante. Puedes regresar las coordenadas $x$ y $y$ de forma separada."
   ]
  },
  {
   "cell_type": "code",
   "execution_count": null,
   "metadata": {},
   "outputs": [],
   "source": []
  },
  {
   "cell_type": "markdown",
   "metadata": {},
   "source": [
    "(iv) Dibuja unas cuantas trayectorias en una sola gráfica."
   ]
  },
  {
   "cell_type": "code",
   "execution_count": null,
   "metadata": {},
   "outputs": [],
   "source": []
  },
  {
   "cell_type": "markdown",
   "metadata": {},
   "source": [
    "(v) Simula una nube de caminantes. Dibuja las posiciones de todos los caminantes en la nube en varios momentos de tiempo en una sola gráfica. ¿Cómo es la evolución?"
   ]
  },
  {
   "cell_type": "code",
   "execution_count": null,
   "metadata": {},
   "outputs": [],
   "source": []
  },
  {
   "cell_type": "markdown",
   "metadata": {},
   "source": [
    "(vi) Calcula y grafica la evolución en el tiempo de la varianza de las posiciones de los caminantes, tanto en $x$ como en $y$. ¿Qué observas?"
   ]
  },
  {
   "cell_type": "code",
   "execution_count": null,
   "metadata": {},
   "outputs": [],
   "source": []
  },
  {
   "cell_type": "markdown",
   "metadata": {},
   "source": [
    "#### Ejercicio 2\n",
    "\n",
    "Simula caminantes en 3D y dibuja algunas trayectorias. [Pista: `plot(xx, yy, zz)` dibuja en 3D. Desgraciadamente no es posible rotar la gráfica con GR. Puedes intentar con `PlotlyJS`:\n",
    "\n",
    "    using Pkg\n",
    "    \n",
    "    Pkg.update()\n",
    "    \n",
    "    Pkg.add(\"PlotlyJS\")\n",
    "    \n",
    "    using Plots\n",
    "    plotlyjs()\n",
    "   \n",
    "]"
   ]
  },
  {
   "cell_type": "markdown",
   "metadata": {},
   "source": [
    "## Caminatas en el espacio"
   ]
  },
  {
   "cell_type": "markdown",
   "metadata": {},
   "source": [
    "Hasta ahora, las caminatas han vivido sobre los enteros únicamente. Pero eso no es necesario; pueden vivir en el espacio real."
   ]
  },
  {
   "cell_type": "markdown",
   "metadata": {},
   "source": [
    "#### Ejercicio 3"
   ]
  },
  {
   "cell_type": "markdown",
   "metadata": {},
   "source": [
    "(i) Escribe una función `uniforme` que utilice `rand` para generar un número aleatorio distribuido uniformemente en el intervalo $[-1, 1]$."
   ]
  },
  {
   "cell_type": "code",
   "execution_count": null,
   "metadata": {},
   "outputs": [],
   "source": []
  },
  {
   "cell_type": "markdown",
   "metadata": {},
   "source": [
    "(ii) Verifica con un histograma que tu generador realmente cumpla con esta propiedad."
   ]
  },
  {
   "cell_type": "code",
   "execution_count": null,
   "metadata": {},
   "outputs": [],
   "source": []
  },
  {
   "cell_type": "markdown",
   "metadata": {},
   "source": [
    "(iii) Utiliza `uniforme` para hacer una simulación de un caminante aleatorio en el espacio 2D que cambia su posición tanto en $x$ como en $y$ en cada paso."
   ]
  },
  {
   "cell_type": "code",
   "execution_count": null,
   "metadata": {},
   "outputs": [],
   "source": []
  },
  {
   "cell_type": "markdown",
   "metadata": {},
   "source": [
    "(iv) Visualiza algunas trayectorias y grafica la evolución de la varianza."
   ]
  },
  {
   "cell_type": "code",
   "execution_count": null,
   "metadata": {},
   "outputs": [],
   "source": []
  },
  {
   "cell_type": "markdown",
   "metadata": {},
   "source": [
    "## Tiempos de primer paso"
   ]
  },
  {
   "cell_type": "markdown",
   "metadata": {},
   "source": [
    "Considera un caminante aleatorio simple en 1D (como el primero que vimos, con probabilidades iguales de brincar a la derecha y a la izquierda), el cual vive en los enteros. \n",
    "\n",
    "El caminante comienza en 1 y queremos calcular el tiempo que tarda en llegar a 0, llamado el **tiempo de primer paso** a 0."
   ]
  },
  {
   "cell_type": "markdown",
   "metadata": {},
   "source": [
    "#### Ejercicio 4\n",
    "\n",
    "(i) Escribe una función que calcula una trayectoria del caminante desde $1$ hasta que llegue a $0$. Vive en una caja de longitud $L$ con frontera reflejante: si intenta brincar más allá que la posición $L$, es reflejado por la frontera, y se queda en $L$."
   ]
  },
  {
   "cell_type": "code",
   "execution_count": null,
   "metadata": {},
   "outputs": [],
   "source": []
  },
  {
   "cell_type": "markdown",
   "metadata": {},
   "source": [
    "(ii) Dibuja algunas trayectorias en una sola gráfica."
   ]
  },
  {
   "cell_type": "code",
   "execution_count": null,
   "metadata": {},
   "outputs": [],
   "source": []
  },
  {
   "cell_type": "markdown",
   "metadata": {},
   "source": [
    "(iii) Haz una función que calcule un tiempo de primer paso."
   ]
  },
  {
   "cell_type": "code",
   "execution_count": null,
   "metadata": {},
   "outputs": [],
   "source": []
  },
  {
   "cell_type": "markdown",
   "metadata": {},
   "source": [
    "(iv) Haz una función que calcule el tiempo medio de primer paso, $\\langle \\tau \\rangle$, promediado sobre algunas trayectorias."
   ]
  },
  {
   "cell_type": "code",
   "execution_count": null,
   "metadata": {},
   "outputs": [],
   "source": []
  },
  {
   "cell_type": "markdown",
   "metadata": {},
   "source": [
    "(v) Calcula y dibuja $\\langle \\tau \\rangle(L)$ como función de la longitud $L$ de la caja, para valores no demasiado grandes de $L$. ¿Cómo se comporta?"
   ]
  },
  {
   "cell_type": "code",
   "execution_count": null,
   "metadata": {},
   "outputs": [],
   "source": []
  },
  {
   "cell_type": "markdown",
   "metadata": {},
   "source": [
    "(vi) Extrapolando, predice el valor de $\\tau$ cuando $L \\to \\infty$, es decir si no hay frontera de la caja."
   ]
  },
  {
   "cell_type": "code",
   "execution_count": 6,
   "metadata": {},
   "outputs": [],
   "source": []
  },
  {
   "cell_type": "markdown",
   "metadata": {},
   "source": [
    "(vii) Para entender mejor este resultado, dibuja la distribución de probabilidad de $\\tau(L)$ para $L=20$. ¿Cómo se comporta la \"cola\" de la distribución, es decir para valores grandes de $\\tau$? [Pista: Necesitarás al menos 10^6 corridas. Dibuja el resultado de otra forma si sea necesario.]"
   ]
  },
  {
   "cell_type": "code",
   "execution_count": null,
   "metadata": {},
   "outputs": [],
   "source": []
  }
 ],
 "metadata": {
  "kernelspec": {
   "display_name": "Julia 1.0.3",
   "language": "julia",
   "name": "julia-1.0"
  },
  "language_info": {
   "file_extension": ".jl",
   "mimetype": "application/julia",
   "name": "julia",
   "version": "1.0.3"
  }
 },
 "nbformat": 4,
 "nbformat_minor": 2
}
